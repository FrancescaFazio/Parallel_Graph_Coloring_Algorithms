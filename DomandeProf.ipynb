{
  "nbformat": 4,
  "nbformat_minor": 0,
  "metadata": {
    "colab": {
      "provenance": [],
      "gpuType": "T4"
    },
    "kernelspec": {
      "name": "python3",
      "display_name": "Python 3"
    },
    "language_info": {
      "name": "python"
    },
    "accelerator": "GPU"
  },
  "cells": [
    {
      "cell_type": "code",
      "execution_count": null,
      "metadata": {
        "id": "vlJIH0ePN1hu"
      },
      "outputs": [],
      "source": [
        "!pip install git+https://github.com/andreinechaev/nvcc4jupyter.git\n",
        "%load_ext nvcc_plugin"
      ]
    },
    {
      "cell_type": "markdown",
      "source": [
        "# **Algoritmo sequenziale:**\n",
        "Implementazione algoritmo Greedy per la colorazione del grafo.\n",
        "\n",
        "## **Funzionamento:**\n",
        "\n",
        "*   Costruzione del grafo $\\mathcal{G}(n, prob)$, dove $n$ è il numero di nodi e $prob$ la probabilità di estrazione di un arco.\n",
        "*   Selezione di una permutazione casuale $σ$ sull' insieme $\\{0 .. n\\}.$\n",
        "*   $∀i \\in \\{0 .. n\\}$ il vertice $v_{σ_i}$ viene colorato con il primo colore disponibile.\n",
        "\n",
        "## **Struttura:**\n",
        "\n",
        "*   CPUColorer.cu → implementazione del colorer.\n",
        "*   testerColorer.cu → costruzione del grafo e misurazione del tempo di esecuzione.\n",
        "\n",
        "\n",
        "\n",
        "##**Risultati:**\n",
        "Con un grafo $\\mathcal{G}(10000, 1)$ si ottiene: 941.029419 ms\n",
        "\n",
        "##**Problematica:**\n",
        "Rispetto all'algoritmo implementato in parallelo risulta molto più veloce, quando il tempo di esecuzione dovrebbe essere $\\mathcal{O}(n^2)$ nel caso di grafo completo.\n",
        "\n"
      ],
      "metadata": {
        "id": "_R_TO9-lJdBf"
      }
    },
    {
      "cell_type": "code",
      "source": [
        "%%cuda --name CPUColorer.cu\n",
        "\n",
        "#include <iostream>\n",
        "#include <cstdio>\n",
        "#include <thrust/sequence.h>\n",
        "#include <thrust/shuffle.h>\n",
        "#include <thrust/random.h>\n",
        "#include <thrust/count.h>\n",
        "\n",
        "#include \"/content/drive/MyDrive/graphcoloring/graph/coloring.h\"\n",
        "#include \"/content/drive/MyDrive/graphcoloring/graph/graph_d.h\"\n",
        "#include \"/content/drive/MyDrive/graphcoloring/graph/graph.h\"\n",
        "#include \"/content/drive/MyDrive/graphcoloring/utils/common.h\"\n",
        "\n",
        "using namespace std;\n",
        "\n",
        "void CPUcolorer(Coloring * col, GraphStruct *str){\n",
        "\tint n = str->nodeSize;\n",
        "\n",
        "  int * perm = (int *) malloc(n * sizeof(int));\n",
        "  thrust::sequence(perm, perm + n);\n",
        "  thrust::default_random_engine g;\n",
        "  thrust::shuffle(perm, perm + n, g);\n",
        " int counter = 0;\n",
        "\n",
        "  for(int i = 0; i < n; i++){\n",
        "    int currentNode = perm[i];\n",
        "    uint offset = str->cumDegs[currentNode];\n",
        "    uint deg = str->deg(currentNode);\n",
        "\n",
        "    for (uint j = 0; j < deg; j++) {\n",
        "        counter++;\n",
        "      uint neighID = str->neighs[offset + j];\n",
        "      int jColor = col->coloring[neighID];\n",
        "      if (jColor != -1) col->usedColors[jColor] = true;\n",
        "\n",
        "    }\n",
        "\n",
        "    for(uint c = 0; c < n; c++){\n",
        "      if(!col->usedColors[c]){\n",
        "          col->coloring[currentNode] = c;\n",
        "          break;\n",
        "      }\n",
        "    }\n",
        "  }\n",
        "}\n",
        "\n",
        "Coloring* graphColoring(GraphStruct *str){\n",
        "\tint n = str->nodeSize;\n",
        "\n",
        "\tColoring* col = (Coloring * ) malloc(sizeof(Coloring));\n",
        "\n",
        "  col->coloring = (int *) malloc(n * sizeof(int));\n",
        "\tthrust::fill(col->coloring, col->coloring + n, -1);\n",
        "\n",
        "  col->usedColors = (bool * ) malloc(n * sizeof(bool));\n",
        "  thrust::fill(col->usedColors, col->usedColors + n, false);\n",
        "\n",
        "  CPUcolorer(col, str);\n",
        "\n",
        "\treturn col;\n",
        "}"
      ],
      "metadata": {
        "colab": {
          "base_uri": "https://localhost:8080/",
          "height": 35
        },
        "id": "y17sUeuPOL1D",
        "outputId": "afd46127-35fe-42be-a93f-d62a9b00503d"
      },
      "execution_count": 15,
      "outputs": [
        {
          "output_type": "execute_result",
          "data": {
            "text/plain": [
              "'File written in /content/src/CPUColorer.cu'"
            ],
            "application/vnd.google.colaboratory.intrinsic+json": {
              "type": "string"
            }
          },
          "metadata": {},
          "execution_count": 15
        }
      ]
    },
    {
      "cell_type": "code",
      "source": [
        "%%cuda --name testerColorer.cu\n",
        "\n",
        "#include <iostream>\n",
        "#include \"/content/drive/MyDrive/graphcoloring/graph/coloring.h\"\n",
        "#include \"/content/drive/MyDrive/graphcoloring/graph/graph.h\"\n",
        "#include \"/content/drive/MyDrive/graphcoloring/utils/common.h\"\n",
        "\n",
        "#define THREADxBLOCK 128\n",
        "\n",
        "// da fare: aggiungere stream? ad esempio per eseguire in modo concorrente stampa del grafo e la sua colorazione\n",
        "\n",
        "int main(void) {\n",
        "    unsigned int n = 10000;\t\t // number of nodes for random graphs\n",
        "    float prob = 1;\t\t\t\t    // density (percentage) for random graphs\n",
        "    std::default_random_engine eng{0};  // fixed seed\n",
        "\n",
        "    srand(time(0));\n",
        "    cudaEvent_t start, stop;\n",
        "    cudaEventCreate(&start);\n",
        "    cudaEventCreate(&stop);\n",
        "\n",
        "    // new graph with n nodes\n",
        "    Graph graph(n, 1);\n",
        "\n",
        "    // generate a random graph\n",
        "    graph.randGraph(prob, eng);\n",
        "\n",
        "    // get the graph struct\n",
        "    GraphStruct *str = graph.getStruct();\n",
        "\n",
        "    //print_d <<< 1, 1 >>> (str, true);\n",
        "    //cudaDeviceSynchronize();\n",
        "\n",
        "    cudaEventRecord(start);\n",
        "\n",
        "    Coloring* col = graphColoring(str);\n",
        "\n",
        "    cudaEventRecord(stop);\n",
        "    cudaEventSynchronize(stop);\n",
        "\n",
        "    //Stampo in millisecondi quanto tempo ci ha messo a colorare il grafo.\n",
        "    float milliseconds = 0;\n",
        "    cudaEventElapsedTime(&milliseconds, start, stop);\n",
        "    printf(\"\\n%f ms\\n\", milliseconds);\n",
        "\n",
        "    int maxColor = 0;\n",
        "    for(int i = 0; i < str->nodeSize; i++){\n",
        "        if(maxColor < col->coloring[i]) maxColor = col->coloring[i];\n",
        "    }\n",
        "    printf(\"\\nColore massimo: %d\", maxColor+1);\n",
        "    //printColoring(col, str, 1);\n",
        "\n",
        "    return EXIT_SUCCESS;\n",
        "}\n"
      ],
      "metadata": {
        "colab": {
          "base_uri": "https://localhost:8080/",
          "height": 35
        },
        "id": "XsZ3tpLlOh9O",
        "outputId": "b2180ead-9746-46cf-fb52-49a5cb59392b"
      },
      "execution_count": 5,
      "outputs": [
        {
          "output_type": "execute_result",
          "data": {
            "text/plain": [
              "'File written in /content/src/testerColorer.cu'"
            ],
            "application/vnd.google.colaboratory.intrinsic+json": {
              "type": "string"
            }
          },
          "metadata": {},
          "execution_count": 5
        }
      ]
    },
    {
      "cell_type": "code",
      "source": [
        "!nvcc -dc src/testerColorer.cu /content/src/CPUColorer.cu /content/drive/MyDrive/graphcoloring/graph/graph.cpp /content/drive/MyDrive/graphcoloring/graph/graph_d.cu\n",
        "!nvcc testerColorer.o CPUColorer.o graph.o graph_d.o -o testerColorer\n",
        "!./testerColorer"
      ],
      "metadata": {
        "colab": {
          "base_uri": "https://localhost:8080/"
        },
        "id": "XXyoriqdOpKk",
        "outputId": "fb20d119-4f93-4eac-90c2-a2395b2dfc90"
      },
      "execution_count": 16,
      "outputs": [
        {
          "output_type": "stream",
          "name": "stdout",
          "text": [
            "\n",
            "1259.225708 ms\n",
            "\n",
            "Colore massimo: 10000"
          ]
        }
      ]
    },
    {
      "cell_type": "markdown",
      "source": [
        "# **Algoritmo visto a lezione:**\n",
        "Implementazione algoritmo Luby per la colorazione del grafo.\n",
        "\n",
        "##**Risultati:**\n",
        "Con un grafo $\\mathcal{G}(10000, 1)$ si ottiene: 26493.421875 ms\n",
        "\n",
        "##**Problematica:**\n",
        "Rispetto all'algoritmo implementato in maniera sequenziale risulta molto più lento e soprattutto trova come coloratura massima 9760, inferiore al numero di nodi.\n"
      ],
      "metadata": {
        "id": "9QZLvTHTNOyo"
      }
    },
    {
      "cell_type": "code",
      "source": [
        "%%cuda --name coloring.h\n",
        "#pragma once\n",
        "\n",
        "#include <curand_kernel.h>\n",
        "#include \"/content/drive/MyDrive/graphcoloring/graph/graph.h\"\n",
        "#include \"/content/drive/MyDrive/graphcoloring/utils/common.h\"\n",
        "\n",
        "/**\n",
        " *  graph coloring struct (colors are: 1,2,3,..,k)\n",
        " */\n",
        "\n",
        "struct Coloring {\n",
        "\tbool\t\tuncoloredNodes;\n",
        "\tuint\t\tnumOfColors;\n",
        "\tuint\t*\tcoloring;   // each element denotes a color\n",
        "};\n",
        "\n",
        "Coloring* LubyGreedy(GraphStruct*);\n",
        "void printColoring (Coloring*, GraphStruct*, bool);\n",
        "__global__ void LubyJPcolorer (Coloring*, GraphStruct*, uint*) ;\n",
        "__global__ void init(uint seed, curandState_t*, uint*, uint);\n",
        "__global__ void findIS (Coloring*, GraphStruct*, uint*);\n",
        "__global__ void print_d(GraphStruct*, bool);"
      ],
      "metadata": {
        "colab": {
          "base_uri": "https://localhost:8080/",
          "height": 35
        },
        "id": "IMq_wGjINhUq",
        "outputId": "122e7533-b003-419f-ca45-114128617b30"
      },
      "execution_count": 9,
      "outputs": [
        {
          "output_type": "execute_result",
          "data": {
            "text/plain": [
              "'File written in /content/src/coloring.h'"
            ],
            "application/vnd.google.colaboratory.intrinsic+json": {
              "type": "string"
            }
          },
          "metadata": {},
          "execution_count": 9
        }
      ]
    },
    {
      "cell_type": "code",
      "source": [
        "%%cuda --name Luby.cu\n",
        "\n",
        "\n",
        "#include \"coloring.h\"\n",
        "#include \"/content/drive/MyDrive/graphcoloring/graph/graph_d.h\"\n",
        "#include \"/content/drive/MyDrive/graphcoloring/utils/common.h\"\n",
        "\n",
        "using namespace std;\n",
        "\n",
        "#define THREADxBLOCK 128\n",
        "\n",
        "Coloring* LubyGreedy(GraphStruct *str) {\n",
        "\t// set coloring struct\n",
        "\n",
        "\tColoring* col;\n",
        "\tgpuErrchk(cudaMallocManaged(&col, sizeof(Coloring)));\n",
        "\tuint n = str->nodeSize;\n",
        "\tcol->uncoloredNodes = true;\n",
        "\n",
        "\t// cudaMalloc for arrays of struct Coloring\n",
        "\tgpuErrchk(cudaMallocManaged( &(col->coloring), n * sizeof(uint)));\n",
        "\tmemset(col->coloring,0,n);\n",
        "\n",
        "\t// allocate space on the GPU for the random states\n",
        "\tcurandState_t* states;\n",
        "\tuint* weigths;\n",
        "\tcudaMalloc((void**) &states, n * sizeof(curandState_t));\n",
        "\tcudaMalloc((void**) &weigths, n * sizeof(uint));\n",
        "\tdim3 threads ( THREADxBLOCK);\n",
        "\tdim3 blocks ((str->nodeSize + threads.x - 1) / threads.x, 1, 1 );\n",
        "\tuint seed = 0;\n",
        "\tinit <<< blocks, threads >>> (seed, states, weigths, n);\n",
        "\n",
        "\t// start coloring (dyn. parall.)\n",
        "\t//LubyJPcolorer <<< 1, 1 >>> (col, str, weigths);\n",
        "\n",
        "//#####################\n",
        "\t// loop on CPU\n",
        "\n",
        "\t// loop on ISs covering the graph\n",
        "\tcol->numOfColors = 0;\n",
        "\twhile (col->uncoloredNodes) {\n",
        "\t\tcol->uncoloredNodes = false;\n",
        "\t\tcol->numOfColors++;\n",
        "\t\tfindIS <<< blocks, threads >>> (col, str, weigths);\n",
        "\t\tcudaDeviceSynchronize();\n",
        "\t}\n",
        "//#####################\n",
        "\n",
        "\n",
        "\tcudaFree(states);\n",
        "\tcudaFree(weigths);\n",
        "\treturn col;\n",
        "}\n",
        "\n",
        "/**\n",
        " * find an IS\n",
        " */\n",
        "__global__ void findIS (Coloring* col, GraphStruct *str, uint* weights) {\n",
        "\tuint idx = threadIdx.x + blockDim.x * blockIdx.x;\n",
        "\n",
        "\tif (idx >= str->nodeSize)\n",
        "\t\treturn;\n",
        "\n",
        "\tif (col->coloring[idx])\n",
        "\t\treturn;\n",
        "\n",
        "\tuint offset = str->cumDegs[idx];\n",
        "\tuint deg = str->cumDegs[idx + 1] - str->cumDegs[idx];\n",
        "\n",
        "\tbool candidate = true;\n",
        "\tfor (uint j = 0; j < deg; j++) {\n",
        "\t\tuint neighID = str->neighs[offset + j];\n",
        "\t\tif (!col->coloring[neighID] &&\n",
        "\t\t\t\t((weights[idx] < weights[neighID]) ||\n",
        "\t\t\t\t((weights[idx] == weights[neighID]) && idx < neighID))) {\n",
        "\t\t\tcandidate = false;\n",
        "\t\t}\n",
        "\t}\n",
        "\tif (candidate) {\n",
        "\t\tcol->coloring[idx] = col->numOfColors;\n",
        "\t}\n",
        "\telse\n",
        "\t\tcol->uncoloredNodes = true;\n",
        "}\n",
        "\n",
        "\n",
        "/**\n",
        " *  this GPU kernel takes an array of states, and an array of ints, and puts a random int into each\n",
        " */\n",
        "__global__ void init (uint seed, curandState_t* states, uint* numbers, uint n) {\n",
        "\tuint idx = blockIdx.x * blockDim.x + threadIdx.x;\n",
        "\tif (idx > n)\n",
        "\t\t\treturn;\n",
        "\tcurand_init(seed, idx, 0, &states[idx]);\n",
        "\tnumbers[idx] = curand(&states[idx])%n*n;\n",
        "}\n",
        "\n",
        "\n",
        "/**\n",
        " * Luby IS & Jones−Plassmann colorer\n",
        " */\n",
        "__global__ void LubyJPcolorer (Coloring* col, GraphStruct *str, uint* weights) {\n",
        "\tdim3 threads (THREADxBLOCK);\n",
        "\tdim3 blocks ((str->nodeSize + threads.x - 1) / threads.x, 1, 1 );\n",
        "\n",
        "\t// loop on ISs covering the graph\n",
        "\tcol->numOfColors = 0;\n",
        "\twhile (col->uncoloredNodes) {\n",
        "\t\tcol->uncoloredNodes = false;\n",
        "\t\tcol->numOfColors++;\n",
        "\t\tfindIS <<< blocks, threads >>> (col, str, weights);\n",
        "\t\t//cudaDeviceSynchronize();\n",
        "\t}\n",
        "}\n",
        "\n"
      ],
      "metadata": {
        "colab": {
          "base_uri": "https://localhost:8080/",
          "height": 35
        },
        "id": "7FHJu6cINnsG",
        "outputId": "e2c70b2f-7e03-4008-f4c9-27fb91f338a1"
      },
      "execution_count": 10,
      "outputs": [
        {
          "output_type": "execute_result",
          "data": {
            "text/plain": [
              "'File written in /content/src/Luby.cu'"
            ],
            "application/vnd.google.colaboratory.intrinsic+json": {
              "type": "string"
            }
          },
          "metadata": {},
          "execution_count": 10
        }
      ]
    },
    {
      "cell_type": "code",
      "source": [
        "%%cuda --name test_Luby.cu\n",
        "\n",
        "#include \"coloring.h\"\n",
        "\n",
        "int main(void) {\n",
        "\tunsigned int n = 10000;\t\t // number of nodes for random graphs\n",
        "\tfloat prob = 1;\t\t\t\t    // density (percentage) for random graphs\n",
        "\tstd::default_random_engine eng{0};  // fixed seed\n",
        "\n",
        "  srand(time(0));\n",
        "  cudaEvent_t start, stop;\n",
        "  cudaEventCreate(&start);\n",
        "  cudaEventCreate(&stop);\n",
        "\n",
        "\t// new graph with n nodes\n",
        "\tGraph graph(n,1);\n",
        "\n",
        "\t// generate a random graph\n",
        "\tgraph.randGraph(prob,eng);\n",
        "\n",
        "\t// get the graph struct\n",
        "\tGraphStruct *str = graph.getStruct();\n",
        "\n",
        "  //print_d <<< 1, 1 >>> (str, true);\n",
        "\n",
        "  cudaEventRecord(start);\n",
        "\n",
        "  Coloring* col = LubyGreedy(str);\n",
        "  cudaDeviceSynchronize();\n",
        "\n",
        "  cudaEventRecord(stop);\n",
        "  cudaEventSynchronize(stop);\n",
        "\n",
        "  //Stampo in millisecondi quanto tempo ci ha messo a colorare il grafo.\n",
        "  float milliseconds = 0;\n",
        "  cudaEventElapsedTime(&milliseconds, start, stop);\n",
        "  printf(\"%f ms\\n\", milliseconds);\n",
        "\n",
        "  int maxColor = 0;\n",
        "  for(int i = 0; i < str->nodeSize; i++){\n",
        "      if(maxColor < col->coloring[i]) maxColor = col->coloring[i];\n",
        "  }\n",
        "  printf(\"\\nColore massimo: %d\", maxColor+1);\n",
        "  //printColoring(col, str, 1);\n",
        "\n",
        "\treturn EXIT_SUCCESS;\n",
        "}"
      ],
      "metadata": {
        "colab": {
          "base_uri": "https://localhost:8080/",
          "height": 35
        },
        "id": "Q9IcGsxtNtHK",
        "outputId": "89fee9e1-dca8-4845-ba9a-d39f84d6d597"
      },
      "execution_count": 11,
      "outputs": [
        {
          "output_type": "execute_result",
          "data": {
            "text/plain": [
              "'File written in /content/src/test_Luby.cu'"
            ],
            "application/vnd.google.colaboratory.intrinsic+json": {
              "type": "string"
            }
          },
          "metadata": {},
          "execution_count": 11
        }
      ]
    },
    {
      "cell_type": "code",
      "source": [
        "!nvcc -dc src/test_Luby.cu src/Luby.cu /content/drive/MyDrive/graphcoloring/graph/graph.cpp /content/drive/MyDrive/graphcoloring/graph/graph_d.cu\n",
        "!nvcc test_Luby.o Luby.o graph.o graph_d.o -o testLuby\n",
        "!./testLuby"
      ],
      "metadata": {
        "colab": {
          "base_uri": "https://localhost:8080/"
        },
        "id": "-LNIZFDeNuMx",
        "outputId": "eccd8bcb-7b88-4a1f-9e14-e3d60cd58f79"
      },
      "execution_count": 12,
      "outputs": [
        {
          "output_type": "stream",
          "name": "stdout",
          "text": [
            "26827.693359 ms\n",
            "\n",
            "Colore massimo: 9745"
          ]
        }
      ]
    },
    {
      "cell_type": "markdown",
      "source": [
        "# **Algoritmo Largest Degree First (LDF):**\n",
        "Implementazione algoritmo Largest Degree First (LDF) per la colorazione del grafo.\n",
        "\n",
        "# **Funzionamento:**\n",
        "*   Costruzione del grafo $\\mathcal{G}(n, prob)$, dove $n$ è il numero di nodi e $prob$ la probabilità di estrazione di un arco.\n",
        "*   Assegnamento casuale dei pesi $w$ sull' insieme $\\{0 .. n\\}.$\n",
        "*   (In parallelo) $∀i \\in \\{0 .. n\\}$ il vertice $v_i$ viene selezionato come candidato se risulta essere un massimo locale utilizzado come metrica i gradi (nel caso di ugualianza si confrontano i pesi).\n",
        "*   (In parallelo con stream?) Colorazione del candidato trovato al punto precedente con il primo colore disponibile.\n",
        "\n",
        "# **Struttura:**\n",
        "*   LDFColorer.cu → implementazione del colorer.\n",
        "*   testerColorer.cu → costruzione del grafo e misurazione del tempo di esecuzione.\n",
        "\n",
        "##**Risultati:**\n",
        "Con un grafo $\\mathcal{G}(10000, 1)$ si ottiene: 253779.406250 ms\n",
        "\n",
        "##**Problematica:**\n",
        "Rispetto all'algoritmo implementato in maniera sequenziale risulta MOLTO più lento.\n"
      ],
      "metadata": {
        "id": "csaMVnjHPugi"
      }
    },
    {
      "cell_type": "code",
      "source": [
        "\n",
        "%%cuda --name LDFColorer.cu\n",
        "\n",
        "#include <cuda.h>\n",
        "#include <iostream>\n",
        "#include <curand_kernel.h>\n",
        "#include <thrust/sequence.h>\n",
        "#include <thrust/shuffle.h>\n",
        "#include <thrust/random.h>\n",
        "#include <thrust/count.h>\n",
        "\n",
        "#include \"/content/drive/MyDrive/graphcoloring/graph/coloring.h\"\n",
        "#include \"/content/drive/MyDrive/graphcoloring/graph/graph.h\"\n",
        "#include \"/content/drive/MyDrive/graphcoloring/graph/graph_d.h\"\n",
        "#include \"/content/drive/MyDrive/graphcoloring/utils/common.h\"\n",
        "\n",
        "#define THREADxBLOCK 128\n",
        "#define NSTREAM 4\n",
        "\n",
        "using namespace std;\n",
        "\n",
        "__global__ void findCandidate(Coloring* col, GraphStruct *str, bool * candidate){\n",
        "    int n = str->nodeSize;\n",
        "\t  uint i = threadIdx.x + blockDim.x * blockIdx.x;\n",
        "\t\tbool flag = true; // vera sse il nodo ha peso locale massimo\n",
        "\n",
        "    if (i >= n) return;\n",
        "\n",
        "\t\t// ignora i nodi già colorati\n",
        "\t\tif (col->coloring[i] != -1) return;\n",
        "\n",
        "\t\tint iWeight = str->weights[i];\n",
        "\n",
        "\t\t// guarda i pesi del vicinato\n",
        "\t\tuint offset = str->cumDegs[i];\n",
        "\t\tuint deg = str->cumDegs[i + 1] - str->cumDegs[i];\n",
        "\n",
        "\t\tfor (uint j = 0; j < deg; j++) {\n",
        "\t\t\tuint neighID = str->neighs[offset + j];\n",
        "      uint neighDeg = str->cumDegs[neighID + 1] - str->cumDegs[neighID];\n",
        "\t\t\t// ignora i vicini già colorati (e te stesso)\n",
        "\t\t\tint jColor = col->coloring[neighID];\n",
        "\n",
        "      if(jColor != -1){\n",
        "          col->usedColors[n * i + jColor] = true;\n",
        "          continue;\n",
        "      }\n",
        "      if(i == neighID) continue;\n",
        "\n",
        "\t\t\tint jWeight = str->weights[neighID];\n",
        "\n",
        "\t\t\tif (deg < neighDeg){\n",
        "          flag = false;\n",
        "      }\n",
        "      else if (deg == neighDeg){\n",
        "          if(iWeight < jWeight){\n",
        "              flag = false;\n",
        "          }\n",
        "      }\n",
        "\n",
        "\n",
        "  }\n",
        "    if(flag){\n",
        "        candidate[i] = true;\n",
        "      }\n",
        "}\n",
        "\n",
        "__global__ void colorer (Coloring* col, GraphStruct *str, bool* candidate, int offset) {\n",
        "  uint i = threadIdx.x + blockDim.x * blockIdx.x;\n",
        "  int n = str->nodeSize;\n",
        "\n",
        "  if(candidate[i]){\n",
        "        int color = 0;\n",
        "        while (col->usedColors[n * (i+offset) + color]) color++;\n",
        "\n",
        "        // Assegna il primo colore libero al nodo corrente\n",
        "        col->coloring[i + offset] = color;\n",
        "    }\n",
        "}\n",
        "\n",
        "Coloring* graphColoring(GraphStruct *str) {\n",
        "\tint n = str->nodeSize;\n",
        "    int r = rand();\n",
        "\n",
        "\n",
        "\n",
        "\tColoring* col;\n",
        "\tgpuErrchk(cudaMallocManaged(&col, sizeof(Coloring)));\n",
        "\n",
        "    gpuErrchk(cudaMallocManaged(&(col->coloring), n * sizeof(int)));\n",
        "\tthrust::fill(col->coloring, col->coloring + n, -1);\n",
        "\n",
        "\n",
        "    gpuErrchk(cudaMallocManaged(&(col->usedColors), n * n * sizeof(bool)));\n",
        "    thrust::fill(col->usedColors, col->usedColors + (n * n), false);\n",
        "\n",
        "    bool* candidate;\n",
        "    gpuErrchk(cudaMallocManaged(&(candidate), n * sizeof(bool)));\n",
        "    thrust::fill(candidate, candidate + n, false);\n",
        "\n",
        "    // Generazione pesi\n",
        "    thrust::sequence(str->weights, str->weights + n);\n",
        "    thrust::default_random_engine g;\n",
        "    thrust::shuffle(str->weights, str->weights + n, g);\n",
        "\n",
        " int iElem = n / NSTREAM;\n",
        "\tdim3 threads ( THREADxBLOCK);\n",
        "\tdim3 blocks ((n + threads.x - 1) / threads.x, 1, 1 );\n",
        "  dim3 blocksS ((iElem + threads.x - 1) / threads.x, 1, 1);\n",
        "\n",
        "\n",
        "\n",
        "    cudaStream_t stream[NSTREAM];\n",
        "\n",
        "    for (int i = 0; i < NSTREAM; ++i)\n",
        "      gpuErrchk(cudaStreamCreate(&stream[i]));\n",
        "\n",
        "\tfor(int c = 0; c < n; c++){\n",
        "    findCandidate<<<blocks, threads>>>(col, str, candidate);\n",
        "    gpuErrchk(cudaPeekAtLastError());\n",
        "\t\tgpuErrchk(cudaDeviceSynchronize());\n",
        "    for(int i=0; i < NSTREAM; ++i){\n",
        "        int ioffset = i * iElem;\n",
        "        colorer<<<blocksS, threads, 0, stream[i]>>>(col, str, &candidate[ioffset], ioffset);\n",
        "    }\n",
        "    gpuErrchk(cudaPeekAtLastError());\n",
        "\t\tgpuErrchk(cudaDeviceSynchronize());\n",
        "    thrust::fill(candidate, candidate + n, false);\n",
        "\n",
        "\n",
        "\n",
        "        int left = (int)thrust::count(col->coloring, col->coloring + n ,-1);\n",
        "        if (left == 0){\n",
        "            break;\n",
        "        }\n",
        "\t}\n",
        "\n",
        "  for (int i = 0; i < NSTREAM; ++i)\n",
        "      gpuErrchk(cudaStreamDestroy(stream[i]));\n",
        "\n",
        "    return col;\n",
        "}"
      ],
      "metadata": {
        "colab": {
          "base_uri": "https://localhost:8080/",
          "height": 35
        },
        "id": "o0Mm9oQMft5H",
        "outputId": "4a91c846-2da9-47a1-a8ef-e40035fd7d00"
      },
      "execution_count": 13,
      "outputs": [
        {
          "output_type": "execute_result",
          "data": {
            "text/plain": [
              "'File written in /content/src/LDFColorer.cu'"
            ],
            "application/vnd.google.colaboratory.intrinsic+json": {
              "type": "string"
            }
          },
          "metadata": {},
          "execution_count": 13
        }
      ]
    },
    {
      "cell_type": "code",
      "source": [
        "!nvcc -dc src/testerColorer.cu /content/src/LDFColorer.cu /content/drive/MyDrive/graphcoloring/graph/graph.cpp /content/drive/MyDrive/graphcoloring/graph/graph_d.cu\n",
        "!nvcc testerColorer.o LDFColorer.o graph.o graph_d.o -o testerColorer\n",
        "!./testerColorer"
      ],
      "metadata": {
        "colab": {
          "base_uri": "https://localhost:8080/"
        },
        "id": "-EWalD5-bUQW",
        "outputId": "c7a0b67f-6701-4316-f9d1-ec6c0a1979e8"
      },
      "execution_count": 14,
      "outputs": [
        {
          "output_type": "stream",
          "name": "stdout",
          "text": [
            "\n",
            "255170.187500 ms\n",
            "\n",
            "Colore massimo: 10000"
          ]
        }
      ]
    }
  ]
}