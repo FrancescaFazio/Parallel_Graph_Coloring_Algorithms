{
  "nbformat": 4,
  "nbformat_minor": 0,
  "metadata": {
    "colab": {
      "provenance": [],
      "gpuType": "T4"
    },
    "kernelspec": {
      "name": "python3",
      "display_name": "Python 3"
    },
    "language_info": {
      "name": "python"
    },
    "accelerator": "GPU"
  },
  "cells": [
    {
      "cell_type": "code",
      "execution_count": 1,
      "metadata": {
        "id": "vlJIH0ePN1hu",
        "colab": {
          "base_uri": "https://localhost:8080/"
        },
        "outputId": "a48b439a-0a87-47b9-cdda-b81ecc5c5580"
      },
      "outputs": [
        {
          "output_type": "stream",
          "name": "stdout",
          "text": [
            "Collecting git+https://github.com/andreinechaev/nvcc4jupyter.git\n",
            "  Cloning https://github.com/andreinechaev/nvcc4jupyter.git to /tmp/pip-req-build-3ae2k5oh\n",
            "  Running command git clone --filter=blob:none --quiet https://github.com/andreinechaev/nvcc4jupyter.git /tmp/pip-req-build-3ae2k5oh\n",
            "  Resolved https://github.com/andreinechaev/nvcc4jupyter.git to commit 0a71d56e5dce3ff1f0dd2c47c29367629262f527\n",
            "  Preparing metadata (setup.py) ... \u001b[?25l\u001b[?25hdone\n",
            "Building wheels for collected packages: NVCCPlugin\n",
            "  Building wheel for NVCCPlugin (setup.py) ... \u001b[?25l\u001b[?25hdone\n",
            "  Created wheel for NVCCPlugin: filename=NVCCPlugin-0.0.2-py3-none-any.whl size=4293 sha256=d7d6eb1503231eacc95acb7cc3a33e80309fedc11f22fcce75b3d0d0ab6855b8\n",
            "  Stored in directory: /tmp/pip-ephem-wheel-cache-pyxydagz/wheels/a8/b9/18/23f8ef71ceb0f63297dd1903aedd067e6243a68ea756d6feea\n",
            "Successfully built NVCCPlugin\n",
            "Installing collected packages: NVCCPlugin\n",
            "Successfully installed NVCCPlugin-0.0.2\n",
            "created output directory at /content/src\n",
            "Out bin /content/result.out\n"
          ]
        }
      ],
      "source": [
        "!pip install git+https://github.com/andreinechaev/nvcc4jupyter.git\n",
        "%load_ext nvcc_plugin"
      ]
    },
    {
      "cell_type": "code",
      "source": [
        "from google.colab import drive\n",
        "drive.mount('/content/drive')"
      ],
      "metadata": {
        "colab": {
          "base_uri": "https://localhost:8080/"
        },
        "id": "_AkNDok1gjJU",
        "outputId": "9fda7372-f915-4431-93b5-324f85a6bbe4"
      },
      "execution_count": 172,
      "outputs": [
        {
          "output_type": "stream",
          "name": "stdout",
          "text": [
            "Drive already mounted at /content/drive; to attempt to forcibly remount, call drive.mount(\"/content/drive\", force_remount=True).\n"
          ]
        }
      ]
    },
    {
      "cell_type": "markdown",
      "source": [
        "# **Algoritmo sequenziale:**\n",
        "Implementazione algoritmo Greedy per la colorazione del grafo.\n",
        "\n",
        "## **Funzionamento:**\n",
        "\n",
        "*   Costruzione del grafo $\\mathcal{G}(n, prob)$, dove $n$ è il numero di nodi e $prob$ la probabilità di estrazione di un arco.\n",
        "*   Selezione di una permutazione casuale $σ$ sull' insieme $\\{0 .. n\\}.$\n",
        "*   $∀i \\in \\{0 .. n\\}$ il vertice $v_{σ_i}$ viene colorato con il primo colore disponibile.\n",
        "\n",
        "## **Struttura:**\n",
        "\n",
        "*   CPUColorer.cu → implementazione del colorer.\n",
        "*   testerColorer.cu → costruzione del grafo e misurazione del tempo di esecuzione.\n",
        "\n",
        "\n",
        "\n",
        "##**Risultati:**\n",
        "Con un grafo $\\mathcal{G}(10000, 1)$ si ottiene: 941.029419 ms\n",
        "\n",
        "##**Problematica:**\n",
        "Rispetto all'algoritmo implementato in parallelo risulta molto più veloce, quando il tempo di esecuzione dovrebbe essere $\\mathcal{O}(n^2)$ nel caso di grafo completo.\n",
        "\n"
      ],
      "metadata": {
        "id": "_R_TO9-lJdBf"
      }
    },
    {
      "cell_type": "code",
      "source": [
        "%%cuda --name CPUColorer.cu\n",
        "\n",
        "#include <iostream>\n",
        "#include <cstdio>\n",
        "#include <thrust/sequence.h>\n",
        "#include <thrust/shuffle.h>\n",
        "#include <thrust/random.h>\n",
        "#include <thrust/count.h>\n",
        "\n",
        "#include \"/content/drive/MyDrive/graphcoloring/graph/coloring.h\"\n",
        "#include \"/content/drive/MyDrive/graphcoloring/graph/graph_d.h\"\n",
        "#include \"/content/drive/MyDrive/graphcoloring/graph/graph.h\"\n",
        "#include \"/content/drive/MyDrive/graphcoloring/utils/common.h\"\n",
        "\n",
        "using namespace std;\n",
        "\n",
        "void CPUcolorer(Coloring * col, GraphStruct *str, bool* usedColors){\n",
        "\tint n = str->nodeSize;\n",
        "\n",
        "  int * perm = (int *) malloc(n * sizeof(int));\n",
        "  thrust::sequence(perm, perm + n);\n",
        "  thrust::default_random_engine g;\n",
        "  thrust::shuffle(perm, perm + n, g);\n",
        "\n",
        "  for(int i = 0; i < n; i++){\n",
        "    int currentNode = perm[i];\n",
        "    uint offset = str->cumDegs[currentNode];\n",
        "    uint deg = str->deg(currentNode);\n",
        "    thrust::fill(usedColors, usedColors + n, false);\n",
        "\n",
        "    for (uint j = 0; j < deg; j++) {\n",
        "      uint neighID = str->neighs[offset + j];\n",
        "      int jColor = col->coloring[neighID];\n",
        "      if (jColor != -1) usedColors[jColor] = true;\n",
        "    }\n",
        "\n",
        "    for(uint c = 0; c < n; c++){\n",
        "      if(!usedColors[c]){\n",
        "        col->coloring[currentNode] = c;\n",
        "        break;\n",
        "      }\n",
        "    }\n",
        "  }\n",
        "}\n",
        "\n",
        "Coloring* graphColoring(GraphStruct *str){\n",
        "\tint n = str->nodeSize;\n",
        "\n",
        "\tColoring* col = (Coloring * ) malloc(sizeof(Coloring));\n",
        "\n",
        "  col->coloring = (int *) malloc(n * sizeof(int));\n",
        "\tthrust::fill(col->coloring, col->coloring + n, -1);\n",
        "\n",
        "  bool * usedColors = (bool * ) malloc(n * sizeof(bool));\n",
        "  thrust::fill(usedColors, usedColors + n, false);\n",
        "\n",
        "  CPUcolorer(col, str, usedColors);\n",
        "\n",
        "\treturn col;\n",
        "}"
      ],
      "metadata": {
        "colab": {
          "base_uri": "https://localhost:8080/",
          "height": 35
        },
        "id": "y17sUeuPOL1D",
        "outputId": "bf19c014-7972-4110-fdc7-56b468a52f1b"
      },
      "execution_count": 170,
      "outputs": [
        {
          "output_type": "execute_result",
          "data": {
            "text/plain": [
              "'File written in /content/src/CPUColorer.cu'"
            ],
            "application/vnd.google.colaboratory.intrinsic+json": {
              "type": "string"
            }
          },
          "metadata": {},
          "execution_count": 170
        }
      ]
    },
    {
      "cell_type": "code",
      "source": [
        "%%cuda --name testerColorer.cu\n",
        "\n",
        "#include <iostream>\n",
        "#include \"/content/drive/MyDrive/graphcoloring/graph/coloring.h\"\n",
        "#include \"/content/drive/MyDrive/graphcoloring/graph/graph.h\"\n",
        "#include \"/content/drive/MyDrive/graphcoloring/utils/common.h\"\n",
        "\n",
        "#define THREADxBLOCK 128\n",
        "\n",
        "// da fare: aggiungere stream? ad esempio per eseguire in modo concorrente stampa del grafo e la sua colorazione\n",
        "\n",
        "int main(void) {\n",
        "    unsigned int n = 70000;\t\t // number of nodes for random graphs\n",
        "    float prob = 0.01;\t\t\t\t    // density (percentage) for random graphs\n",
        "    std::default_random_engine eng{0};  // fixed seed\n",
        "\n",
        "    srand(time(0));\n",
        "    cudaEvent_t start, stop;\n",
        "    cudaEventCreate(&start);\n",
        "    cudaEventCreate(&stop);\n",
        "\n",
        "    // new graph with n nodes\n",
        "    Graph graph(n, 1);\n",
        "\n",
        "    // generate a random graph\n",
        "    graph.randGraph(prob, eng);\n",
        "\n",
        "    // get the graph struct\n",
        "    GraphStruct *str = graph.getStruct();\n",
        "\n",
        "    //print_d <<< 1, 1 >>> (str, true);\n",
        "    //cudaDeviceSynchronize();\n",
        "\n",
        "    cudaEventRecord(start);\n",
        "\n",
        "    Coloring* col = graphColoring(str);\n",
        "\n",
        "    cudaEventRecord(stop);\n",
        "    cudaEventSynchronize(stop);\n",
        "\n",
        "    //Stampo in millisecondi quanto tempo ci ha messo a colorare il grafo.\n",
        "    float milliseconds = 0;\n",
        "    cudaEventElapsedTime(&milliseconds, start, stop);\n",
        "    printf(\"\\n%f ms\\n\", milliseconds);\n",
        "\n",
        "    int maxColor = 0;\n",
        "    printf(\"Coloratura trovata: \");\n",
        "    for(int i = 0; i < str->nodeSize; i++){\n",
        "        if(maxColor < col->coloring[i]) maxColor = col->coloring[i];\n",
        "    }\n",
        "    printf(\"\\nColore massimo: %d\", maxColor+1);\n",
        "    //printColoring(col, str, 1);\n",
        "\n",
        "    return EXIT_SUCCESS;\n",
        "}\n"
      ],
      "metadata": {
        "colab": {
          "base_uri": "https://localhost:8080/",
          "height": 35
        },
        "id": "XsZ3tpLlOh9O",
        "outputId": "85d0b3cb-ffff-460f-a81f-806072cb320e"
      },
      "execution_count": 164,
      "outputs": [
        {
          "output_type": "execute_result",
          "data": {
            "text/plain": [
              "'File written in /content/src/testerColorer.cu'"
            ],
            "application/vnd.google.colaboratory.intrinsic+json": {
              "type": "string"
            }
          },
          "metadata": {},
          "execution_count": 164
        }
      ]
    },
    {
      "cell_type": "code",
      "source": [
        "!nvcc -dc src/testerColorer.cu /content/src/CPUColorer.cu /content/drive/MyDrive/graphcoloring/graph/graph.cpp /content/drive/MyDrive/graphcoloring/graph/graph_d.cu\n",
        "!nvcc testerColorer.o CPUColorer.o graph.o graph_d.o -o testerColorer\n",
        "!./testerColorer"
      ],
      "metadata": {
        "colab": {
          "base_uri": "https://localhost:8080/"
        },
        "id": "XXyoriqdOpKk",
        "outputId": "d71c988b-5c73-47f0-ba84-824fef7da1e9"
      },
      "execution_count": 173,
      "outputs": [
        {
          "output_type": "stream",
          "name": "stdout",
          "text": [
            "\n",
            "69152.937500 ms\n",
            "Coloratura trovata: \n",
            "Colore massimo: 134"
          ]
        }
      ]
    },
    {
      "cell_type": "markdown",
      "source": [
        "# **Algoritmo visto a lezione:**\n",
        "Implementazione algoritmo Luby per la colorazione del grafo.\n",
        "\n",
        "##**Risultati:**\n",
        "Con un grafo $\\mathcal{G}(10000, 1)$ si ottiene: 26493.421875 ms\n",
        "\n",
        "##**Problematica:**\n",
        "Rispetto all'algoritmo implementato in maniera sequenziale risulta molto più lento e soprattutto trova come coloratura massima 9760, inferiore al numero di nodi.\n"
      ],
      "metadata": {
        "id": "9QZLvTHTNOyo"
      }
    },
    {
      "cell_type": "code",
      "source": [
        "%%cuda --name coloring.h\n",
        "#pragma once\n",
        "\n",
        "#include <curand_kernel.h>\n",
        "#include \"/content/drive/MyDrive/graphcoloring/graph/graph.h\"\n",
        "#include \"/content/drive/MyDrive/graphcoloring/utils/common.h\"\n",
        "\n",
        "/**\n",
        " *  graph coloring struct (colors are: 1,2,3,..,k)\n",
        " */\n",
        "\n",
        "struct Coloring {\n",
        "\tbool\tuncoloredNodes;\n",
        "\tint\t\tnumOfColors;\n",
        "\tint\t*\tcoloring;   // each element denotes a color\n",
        "};\n",
        "\n",
        "Coloring* LubyGreedy(GraphStruct*);\n",
        "void printColoring (Coloring*, GraphStruct*, bool);\n",
        "__global__ void LubyJPcolorer (Coloring*, GraphStruct*, uint*) ;\n",
        "__global__ void init(uint seed, curandState_t*, uint*, uint);\n",
        "__global__ void findIS (Coloring*, GraphStruct*, uint*);\n",
        "__global__ void print_d(GraphStruct*, bool);"
      ],
      "metadata": {
        "colab": {
          "base_uri": "https://localhost:8080/",
          "height": 35
        },
        "id": "IMq_wGjINhUq",
        "outputId": "7f79c939-8f76-42a4-c4f6-77c308c3b1a0"
      },
      "execution_count": 84,
      "outputs": [
        {
          "output_type": "execute_result",
          "data": {
            "text/plain": [
              "'File written in /content/src/coloring.h'"
            ],
            "application/vnd.google.colaboratory.intrinsic+json": {
              "type": "string"
            }
          },
          "metadata": {},
          "execution_count": 84
        }
      ]
    },
    {
      "cell_type": "code",
      "source": [
        "%%cuda --name Luby.cu\n",
        "\n",
        "\n",
        "#include \"coloring.h\"\n",
        "#include \"/content/drive/MyDrive/graphcoloring/graph/graph_d.h\"\n",
        "#include \"/content/drive/MyDrive/graphcoloring/utils/common.h\"\n",
        "\n",
        "using namespace std;\n",
        "\n",
        "#define THREADxBLOCK 128\n",
        "\n",
        "Coloring* LubyGreedy(GraphStruct *str) {\n",
        "\t// set coloring struct\n",
        "\n",
        "\tColoring* col;\n",
        "\tgpuErrchk(cudaMallocManaged(&col, sizeof(Coloring)));\n",
        "\tuint n = str->nodeSize;\n",
        "\tcol->uncoloredNodes = true;\n",
        "\n",
        "\t// cudaMalloc for arrays of struct Coloring\n",
        "\tgpuErrchk(cudaMallocManaged( &(col->coloring), n * sizeof(uint)));\n",
        "\tmemset(col->coloring,0,n);\n",
        "\n",
        "\t// allocate space on the GPU for the random states\n",
        "\tcurandState_t* states;\n",
        "\tuint* weigths;\n",
        "\tcudaMalloc((void**) &states, n * sizeof(curandState_t));\n",
        "\tcudaMalloc((void**) &weigths, n * sizeof(uint));\n",
        "\tdim3 threads ( THREADxBLOCK);\n",
        "\tdim3 blocks ((str->nodeSize + threads.x - 1) / threads.x, 1, 1 );\n",
        "\tuint seed = 0;\n",
        "\tinit <<< blocks, threads >>> (seed, states, weigths, n);\n",
        "\n",
        "\t// start coloring (dyn. parall.)\n",
        "\t//LubyJPcolorer <<< 1, 1 >>> (col, str, weigths);\n",
        "\n",
        "//#####################\n",
        "\t// loop on CPU\n",
        "\n",
        "\t// loop on ISs covering the graph\n",
        "\tcol->numOfColors = 0;\n",
        "\twhile (col->uncoloredNodes) {\n",
        "\t\tcol->uncoloredNodes = false;\n",
        "\t\tcol->numOfColors++;\n",
        "\t\tfindIS <<< blocks, threads >>> (col, str, weigths);\n",
        "\t\tcudaDeviceSynchronize();\n",
        "\t}\n",
        "//#####################\n",
        "\n",
        "\n",
        "\tcudaFree(states);\n",
        "\tcudaFree(weigths);\n",
        "\treturn col;\n",
        "}\n",
        "\n",
        "/**\n",
        " * find an IS\n",
        " */\n",
        "__global__ void findIS (Coloring* col, GraphStruct *str, uint* weights) {\n",
        "\tuint idx = threadIdx.x + blockDim.x * blockIdx.x;\n",
        "\n",
        "\tif (idx >= str->nodeSize)\n",
        "\t\treturn;\n",
        "\n",
        "\tif (col->coloring[idx])\n",
        "\t\treturn;\n",
        "\n",
        "\tuint offset = str->cumDegs[idx];\n",
        "\tuint deg = str->cumDegs[idx + 1] - str->cumDegs[idx];\n",
        "\n",
        "\tbool candidate = true;\n",
        "\tfor (uint j = 0; j < deg; j++) {\n",
        "\t\tuint neighID = str->neighs[offset + j];\n",
        "\t\tif (!col->coloring[neighID] &&\n",
        "\t\t\t\t((weights[idx] < weights[neighID]) ||\n",
        "\t\t\t\t((weights[idx] == weights[neighID]) && idx < neighID))) {\n",
        "\t\t\tcandidate = false;\n",
        "\t\t}\n",
        "\t}\n",
        "\tif (candidate) {\n",
        "\t\tcol->coloring[idx] = col->numOfColors;\n",
        "\t}\n",
        "\telse\n",
        "\t\tcol->uncoloredNodes = true;\n",
        "}\n",
        "\n",
        "\n",
        "/**\n",
        " *  this GPU kernel takes an array of states, and an array of ints, and puts a random int into each\n",
        " */\n",
        "__global__ void init (uint seed, curandState_t* states, uint* numbers, uint n) {\n",
        "\tuint idx = blockIdx.x * blockDim.x + threadIdx.x;\n",
        "\tif (idx > n)\n",
        "\t\t\treturn;\n",
        "\tcurand_init(seed, idx, 0, &states[idx]);\n",
        "\tnumbers[idx] = curand(&states[idx])%n*n;\n",
        "}\n",
        "\n",
        "\n",
        "/**\n",
        " * Luby IS & Jones−Plassmann colorer\n",
        " */\n",
        "__global__ void LubyJPcolorer (Coloring* col, GraphStruct *str, uint* weights) {\n",
        "\tdim3 threads (THREADxBLOCK);\n",
        "\tdim3 blocks ((str->nodeSize + threads.x - 1) / threads.x, 1, 1 );\n",
        "\n",
        "\t// loop on ISs covering the graph\n",
        "\tcol->numOfColors = 0;\n",
        "\twhile (col->uncoloredNodes) {\n",
        "\t\tcol->uncoloredNodes = false;\n",
        "\t\tcol->numOfColors++;\n",
        "\t\tfindIS <<< blocks, threads >>> (col, str, weights);\n",
        "\t\t//cudaDeviceSynchronize();\n",
        "\t}\n",
        "}\n",
        "\n"
      ],
      "metadata": {
        "colab": {
          "base_uri": "https://localhost:8080/",
          "height": 35
        },
        "id": "7FHJu6cINnsG",
        "outputId": "0b7d3ac7-4814-402b-b3ff-ea2cea9acdaa"
      },
      "execution_count": 8,
      "outputs": [
        {
          "output_type": "execute_result",
          "data": {
            "text/plain": [
              "'File written in /content/src/Luby.cu'"
            ],
            "application/vnd.google.colaboratory.intrinsic+json": {
              "type": "string"
            }
          },
          "metadata": {},
          "execution_count": 8
        }
      ]
    },
    {
      "cell_type": "code",
      "source": [
        "%%cuda --name test_Luby.cu\n",
        "\n",
        "#include \"coloring.h\"\n",
        "\n",
        "int main(void) {\n",
        "\tunsigned int n = 70000;\t\t // number of nodes for random graphs\n",
        "\tfloat prob = 0.01;\t\t\t\t    // density (percentage) for random graphs\n",
        "\tstd::default_random_engine eng{0};  // fixed seed\n",
        "\n",
        "  srand(time(0));\n",
        "  cudaEvent_t start, stop;\n",
        "  cudaEventCreate(&start);\n",
        "  cudaEventCreate(&stop);\n",
        "\n",
        "\t// new graph with n nodes\n",
        "\tGraph graph(n,1);\n",
        "\n",
        "\t// generate a random graph\n",
        "\tgraph.randGraph(prob,eng);\n",
        "\n",
        "\t// get the graph struct\n",
        "\tGraphStruct *str = graph.getStruct();\n",
        "\n",
        "  //print_d <<< 1, 1 >>> (str, true);\n",
        "\n",
        "  cudaEventRecord(start);\n",
        "\n",
        "  Coloring* col = LubyGreedy(str);\n",
        "  cudaDeviceSynchronize();\n",
        "\n",
        "  cudaEventRecord(stop);\n",
        "  cudaEventSynchronize(stop);\n",
        "\n",
        "  //Stampo in millisecondi quanto tempo ci ha messo a colorare il grafo.\n",
        "  float milliseconds = 0;\n",
        "  cudaEventElapsedTime(&milliseconds, start, stop);\n",
        "  printf(\"%f ms\\n\", milliseconds);\n",
        "\n",
        "  printf(\"ciao\");\n",
        "  printf(\"\\nColore massimo: %d\", col->numOfColors);\n",
        " printf(\"ciao2\");\n",
        "  //printColoring(col, str, 1);\n",
        "\n",
        "\treturn EXIT_SUCCESS;\n",
        "}"
      ],
      "metadata": {
        "colab": {
          "base_uri": "https://localhost:8080/",
          "height": 35
        },
        "id": "Q9IcGsxtNtHK",
        "outputId": "abb7c5d5-f37a-4deb-e12a-7632f6650778"
      },
      "execution_count": 168,
      "outputs": [
        {
          "output_type": "execute_result",
          "data": {
            "text/plain": [
              "'File written in /content/src/test_Luby.cu'"
            ],
            "application/vnd.google.colaboratory.intrinsic+json": {
              "type": "string"
            }
          },
          "metadata": {},
          "execution_count": 168
        }
      ]
    },
    {
      "cell_type": "code",
      "source": [
        "!nvcc -dc src/test_Luby.cu src/Luby.cu /content/drive/MyDrive/graphcoloring/graph/graph.cpp /content/drive/MyDrive/graphcoloring/graph/graph_d.cu\n",
        "!nvcc test_Luby.o Luby.o graph.o graph_d.o -o testLuby\n",
        "!./testLuby"
      ],
      "metadata": {
        "colab": {
          "base_uri": "https://localhost:8080/"
        },
        "id": "-LNIZFDeNuMx",
        "outputId": "9653d849-8972-4d1f-dc07-1849c60a90db"
      },
      "execution_count": 169,
      "outputs": [
        {
          "output_type": "stream",
          "name": "stdout",
          "text": [
            "3122.090088 ms\n",
            "ciao\n",
            "Colore massimo: 1208ciao2"
          ]
        }
      ]
    },
    {
      "cell_type": "markdown",
      "source": [
        "# **Algoritmo Largest Degree First (LDF):**\n",
        "Implementazione algoritmo Largest Degree First (LDF) per la colorazione del grafo.\n",
        "\n",
        "# **Funzionamento:**\n",
        "*   Costruzione del grafo $\\mathcal{G}(n, prob)$, dove $n$ è il numero di nodi e $prob$ la probabilità di estrazione di un arco.\n",
        "*   Assegnamento casuale dei pesi $w$ sull' insieme $\\{0 .. n\\}.$\n",
        "*   (In parallelo) $∀i \\in \\{0 .. n\\}$ il vertice $v_i$ viene selezionato come candidato se risulta essere un massimo locale utilizzado come metrica i gradi (nel caso di ugualianza si confrontano i pesi).\n",
        "*   (In parallelo con stream?) Colorazione del candidato trovato al punto precedente con il primo colore disponibile.\n",
        "\n",
        "# **Struttura:**\n",
        "*   LDFColorer.cu → implementazione del colorer.\n",
        "*   testerColorer.cu → costruzione del grafo e misurazione del tempo di esecuzione.\n",
        "\n",
        "##**Risultati:**\n",
        "Con un grafo $\\mathcal{G}(10000, 1)$ si ottiene: 253779.406250 ms\n",
        "\n",
        "##**Problematica:**\n",
        "Rispetto all'algoritmo implementato in maniera sequenziale risulta MOLTO più lento.\n"
      ],
      "metadata": {
        "id": "csaMVnjHPugi"
      }
    },
    {
      "cell_type": "code",
      "source": [
        "\n",
        "%%cuda --name LDFColorer.cu\n",
        "\n",
        "#include <cuda.h>\n",
        "#include <iostream>\n",
        "#include <curand_kernel.h>\n",
        "#include <thrust/sequence.h>\n",
        "#include <thrust/shuffle.h>\n",
        "#include <thrust/random.h>\n",
        "#include <thrust/count.h>\n",
        "\n",
        "#include \"/content/drive/MyDrive/graphcoloring/graph/coloring.h\"\n",
        "#include \"/content/drive/MyDrive/graphcoloring/graph/graph.h\"\n",
        "#include \"/content/drive/MyDrive/graphcoloring/graph/graph_d.h\"\n",
        "#include \"/content/drive/MyDrive/graphcoloring/utils/common.h\"\n",
        "\n",
        "#define THREADxBLOCK 128\n",
        "#define NSTREAM 4\n",
        "\n",
        "using namespace std;\n",
        "\n",
        "__global__ void colorer(Coloring * col, GraphStruct *str){\n",
        "\tint n = str->nodeSize;\n",
        "\n",
        "\tfor (int i = threadIdx.x+blockIdx.x*blockDim.x; i < n; i += blockDim.x*gridDim.x) {\n",
        "\t\tbool flag = true; // vera sse il nodo ha peso locale massimo\n",
        "\n",
        "\t\t// ignora i nodi già colorati\n",
        "\t\tif ((col->coloring[i] != -1)) continue;\n",
        "\n",
        "\t\tint iWeight = str->weights[i];\n",
        "\n",
        "\t\t// guarda i pesi del vicinato\n",
        "\t\tuint offset = str->cumDegs[i];\n",
        "\t\tuint deg = str->cumDegs[i + 1] - str->cumDegs[i];\n",
        "\n",
        "\t\tfor (uint j = 0; j < deg; j++) {\n",
        "\t\t\tuint neighID = str->neighs[offset + j];\n",
        "\t\t\t// ignora i vicini già colorati (e te stesso)\n",
        "\t\t\tint jColor = col->coloring[neighID];\n",
        "\t\t\tif (((jColor != -1) && (jColor != col->numOfColors)) || (i == neighID)) continue;\n",
        "\t\t\tint jWeight = str->weights[neighID];\n",
        "\t\t\tif (iWeight <= jWeight) flag = false;\n",
        "\t\t}\n",
        "\t\t// colora solo se sei il nodo di peso massimo\n",
        "\t\tif (flag) col->coloring[i] = col->numOfColors;\n",
        "    else col->uncoloredNodes = true;\n",
        "  \t}\n",
        "}\n",
        "\n",
        "Coloring* graphColoring(GraphStruct *str) {\n",
        "\tint n = str->nodeSize;\n",
        "\n",
        "\tColoring* col;\n",
        "\tgpuErrchk(cudaMallocManaged(&col, sizeof(Coloring)));\n",
        "\n",
        "    gpuErrchk(cudaMallocManaged(&(col->coloring), n * sizeof(int)));\n",
        "\tthrust::fill(col->coloring, col->coloring + n, -1);\n",
        "\n",
        "    // Generazione pesi\n",
        "    thrust::sequence(str->weights, str->weights + n);\n",
        "    thrust::default_random_engine g;\n",
        "    thrust::shuffle(str->weights, str->weights + n, g);\n",
        "\n",
        "\tdim3 threads ( THREADxBLOCK);\n",
        "\tdim3 blocks ((str->nodeSize + threads.x - 1) / threads.x, 1, 1 );\n",
        "\n",
        "  col->uncoloredNodes = true;\n",
        "  col->numOfColors = 0;\n",
        "\twhile(col->uncoloredNodes){\n",
        "    col->uncoloredNodes = false;\n",
        "\t\tcolorer<<<blocks, threads>>>(col, str);\n",
        "    col->numOfColors++;\n",
        "    gpuErrchk(cudaPeekAtLastError())\n",
        "\t\tgpuErrchk(cudaDeviceSynchronize());\n",
        "\t}\n",
        "\n",
        "    return col;\n",
        "}"
      ],
      "metadata": {
        "colab": {
          "base_uri": "https://localhost:8080/",
          "height": 35
        },
        "id": "o0Mm9oQMft5H",
        "outputId": "daeda52f-fa82-4868-887c-4c843bfea1a8"
      },
      "execution_count": 131,
      "outputs": [
        {
          "output_type": "execute_result",
          "data": {
            "text/plain": [
              "'File written in /content/src/LDFColorer.cu'"
            ],
            "application/vnd.google.colaboratory.intrinsic+json": {
              "type": "string"
            }
          },
          "metadata": {},
          "execution_count": 131
        }
      ]
    },
    {
      "cell_type": "code",
      "source": [
        "%%cuda --name test_Luby2.cu\n",
        "\n",
        "#include \"/content/drive/MyDrive/graphcoloring/graph/coloring.h\"\n",
        "#include <iostream>\n",
        "#include \"/content/drive/MyDrive/graphcoloring/graph/graph.h\"\n",
        "#include \"/content/drive/MyDrive/graphcoloring/utils/common.h\"\n",
        "\n",
        "int main(void) {\n",
        "\tunsigned int n = 70000;\t\t // number of nodes for random graphs\n",
        "\tfloat prob = 0.01;\t\t\t\t    // density (percentage) for random graphs\n",
        "\tstd::default_random_engine eng{0};  // fixed seed\n",
        "\n",
        "  srand(time(0));\n",
        "  cudaEvent_t start, stop;\n",
        "  cudaEventCreate(&start);\n",
        "  cudaEventCreate(&stop);\n",
        "\n",
        "\t// new graph with n nodes\n",
        "\tGraph graph(n,1);\n",
        "\n",
        "\t// generate a random graph\n",
        "\tgraph.randGraph(prob,eng);\n",
        "\n",
        "\t// get the graph struct\n",
        "\tGraphStruct *str = graph.getStruct();\n",
        "\n",
        "  //print_d <<< 1, 1 >>> (str, true);\n",
        "\n",
        "  cudaEventRecord(start);\n",
        "\n",
        "  Coloring* col = graphColoring(str);\n",
        "  cudaDeviceSynchronize();\n",
        "\n",
        "  cudaEventRecord(stop);\n",
        "  cudaEventSynchronize(stop);\n",
        "\n",
        "  //Stampo in millisecondi quanto tempo ci ha messo a colorare il grafo.\n",
        "  float milliseconds = 0;\n",
        "  cudaEventElapsedTime(&milliseconds, start, stop);\n",
        "  printf(\"%f ms\\n\", milliseconds);\n",
        "\n",
        "  printf(\"ciao\");\n",
        "  printf(\"\\nColore massimo: %d\", col->numOfColors);\n",
        " printf(\"ciao2\");\n",
        "  //printColoring(col, str, 1);\n",
        "\n",
        "\treturn EXIT_SUCCESS;\n",
        "}"
      ],
      "metadata": {
        "colab": {
          "base_uri": "https://localhost:8080/",
          "height": 35
        },
        "id": "eOnb5z4SJBf9",
        "outputId": "7a186ee0-3c57-4e2c-d8ed-3611fe1e8bcf"
      },
      "execution_count": 166,
      "outputs": [
        {
          "output_type": "execute_result",
          "data": {
            "text/plain": [
              "'File written in /content/src/test_Luby2.cu'"
            ],
            "application/vnd.google.colaboratory.intrinsic+json": {
              "type": "string"
            }
          },
          "metadata": {},
          "execution_count": 166
        }
      ]
    },
    {
      "cell_type": "code",
      "source": [
        "!nvcc -dc src/test_Luby2.cu /content/src/LDFColorer.cu /content/drive/MyDrive/graphcoloring/graph/graph.cpp /content/drive/MyDrive/graphcoloring/graph/graph_d.cu\n",
        "!nvcc test_Luby2.o LDFColorer.o graph.o graph_d.o -o test_Luby2\n",
        "!./test_Luby2"
      ],
      "metadata": {
        "colab": {
          "base_uri": "https://localhost:8080/"
        },
        "id": "-EWalD5-bUQW",
        "outputId": "7907b1ea-6b54-413d-bfa7-198c46491364"
      },
      "execution_count": 167,
      "outputs": [
        {
          "output_type": "stream",
          "name": "stdout",
          "text": [
            "3909.691162 ms\n",
            "ciao\n",
            "Colore massimo: 1520ciao2"
          ]
        }
      ]
    }
  ]
}