{
  "nbformat": 4,
  "nbformat_minor": 0,
  "metadata": {
    "colab": {
      "provenance": [],
      "gpuType": "T4"
    },
    "kernelspec": {
      "name": "python3",
      "display_name": "Python 3"
    },
    "language_info": {
      "name": "python"
    },
    "accelerator": "GPU"
  },
  "cells": [
    {
      "cell_type": "code",
      "execution_count": null,
      "metadata": {
        "colab": {
          "base_uri": "https://localhost:8080/"
        },
        "id": "AvYLJpxyOjCU",
        "outputId": "e0e3cf02-0324-4b71-c538-aa10ff0bbd6b"
      },
      "outputs": [
        {
          "output_type": "stream",
          "name": "stdout",
          "text": [
            "Collecting git+https://github.com/andreinechaev/nvcc4jupyter.git\n",
            "  Cloning https://github.com/andreinechaev/nvcc4jupyter.git to /tmp/pip-req-build-6z5im1rc\n",
            "  Running command git clone --filter=blob:none --quiet https://github.com/andreinechaev/nvcc4jupyter.git /tmp/pip-req-build-6z5im1rc\n",
            "  Resolved https://github.com/andreinechaev/nvcc4jupyter.git to commit 0a71d56e5dce3ff1f0dd2c47c29367629262f527\n",
            "  Preparing metadata (setup.py) ... \u001b[?25l\u001b[?25hdone\n",
            "Building wheels for collected packages: NVCCPlugin\n",
            "  Building wheel for NVCCPlugin (setup.py) ... \u001b[?25l\u001b[?25hdone\n",
            "  Created wheel for NVCCPlugin: filename=NVCCPlugin-0.0.2-py3-none-any.whl size=4295 sha256=359345881ae106a39c666adb62d9ca6c3a443b5791b7ee8116794c572f3500c7\n",
            "  Stored in directory: /tmp/pip-ephem-wheel-cache-56v0hno5/wheels/a8/b9/18/23f8ef71ceb0f63297dd1903aedd067e6243a68ea756d6feea\n",
            "Successfully built NVCCPlugin\n",
            "Installing collected packages: NVCCPlugin\n",
            "Successfully installed NVCCPlugin-0.0.2\n",
            "created output directory at /content/src\n",
            "Out bin /content/result.out\n"
          ]
        }
      ],
      "source": [
        "!pip install git+https://github.com/andreinechaev/nvcc4jupyter.git\n",
        "%load_ext nvcc_plugin\n"
      ]
    },
    {
      "cell_type": "code",
      "source": [
        "%%cuda --name coloring.h\n",
        "#pragma once\n",
        "\n",
        "#include \"curand_kernel.h\"\n",
        "#include \"/content/drive/MyDrive/graph/common.h\"\n",
        "#include \"/content/drive/MyDrive/graph/graph.h\"\n",
        "\n",
        "\n",
        "struct Coloring {\n",
        "\tbool\t\tuncoloredNodes;\n",
        "\tuint\t\tnumOfColors;\n",
        "\tuint\t*\tcoloring;   // each element denotes a color\n",
        "};\n",
        "\n",
        "\n",
        "Coloring* JonesPlassmanColoring(GraphStruct*);\n",
        "void printColoring (Coloring*, GraphStruct*, bool);\n",
        "__global__ void JPcolorer (Coloring*, GraphStruct*, uint*) ;\n",
        "__global__ void init(uint seed, curandState_t*, uint*, uint);\n",
        "__global__ void findIS (Coloring*, GraphStruct*, uint*);\n",
        "__global__ void print_d(GraphStruct*, bool);"
      ],
      "metadata": {
        "colab": {
          "base_uri": "https://localhost:8080/",
          "height": 35
        },
        "id": "zffKjtN6Qgew",
        "outputId": "1ffdd737-5afc-46ce-8213-e9e3ec962624"
      },
      "execution_count": null,
      "outputs": [
        {
          "output_type": "execute_result",
          "data": {
            "text/plain": [
              "'File written in /content/src/coloring.h'"
            ],
            "application/vnd.google.colaboratory.intrinsic+json": {
              "type": "string"
            }
          },
          "metadata": {},
          "execution_count": 2
        }
      ]
    },
    {
      "cell_type": "code",
      "source": [
        "%%cuda --name JonesPlassman.cu\n",
        "\n",
        "#include \"/content/src/coloring.h\"\n",
        "#include \"/content/drive/MyDrive/graph/graph_d.h\"\n",
        "\n",
        "#define THREADxBLOCK 128\n",
        "\n",
        "using namespace std;\n",
        "\n",
        "Coloring* JonesPlassmanColoring(GraphStruct *str){\n",
        "  Coloring* col;\n",
        "\tCHECK(cudaMallocManaged(&col, sizeof(Coloring)));\n",
        "\tuint n = str->nodeSize;\n",
        "\tcol->uncoloredNodes = true;\n",
        "\n",
        "\t// cudaMalloc for arrays of struct Coloring\n",
        "\tCHECK(cudaMallocManaged( &(col->coloring), n * sizeof(uint)));\n",
        "\tmemset(col->coloring,0,n);\n",
        "\n",
        "\t// allocate space on the GPU for the random states\n",
        "\tcurandState_t* states;\n",
        "\tuint* weigths;\n",
        "\tcudaMalloc((void**) &states, n * sizeof(curandState_t));\n",
        "\tcudaMalloc((void**) &weigths, n * sizeof(uint));\n",
        "\tdim3 threads ( THREADxBLOCK);\n",
        "\tdim3 blocks ((str->nodeSize + threads.x - 1) / threads.x, 1, 1 );\n",
        "\tuint seed = 0;\n",
        "\tinit <<< blocks, threads >>> (seed, states, weigths, n);\n",
        "\n",
        "\t// start coloring (dyn. parall.)\n",
        "\tJPcolorer <<< 1, 1 >>> (col, str, weigths);\n",
        "\n",
        "  cudaFree(states);\n",
        "\tcudaFree(weigths);\n",
        "  return col;\n",
        "}\n",
        "\n",
        "__global__ void findIS (Coloring* col, GraphStruct *str, uint* weights) {\n",
        "\tuint idx = threadIdx.x + blockDim.x * blockIdx.x;\n",
        "\n",
        "\tif (idx >= str->nodeSize)\n",
        "\t\treturn;\n",
        "\n",
        "\tif (col->coloring[idx])\n",
        "\t\treturn;\n",
        "\n",
        "\tuint offset = str->cumDegs[idx];\n",
        "\tuint deg = str->cumDegs[idx + 1] - str->cumDegs[idx];\n",
        "\n",
        "\tbool candidate = true;\n",
        "\tfor (uint j = 0; j < deg; j++) {\n",
        "\t\tuint neighID = str->neighs[offset + j];\n",
        "\t\tif (!col->coloring[neighID] &&\n",
        "\t\t\t\t((weights[idx] < weights[neighID]) ||\n",
        "\t\t\t\t((weights[idx] == weights[neighID]) && idx < neighID))) {\n",
        "\t\t\tcandidate = false;\n",
        "\t\t}\n",
        "\t}\n",
        "\tif (candidate) {\n",
        "\t\tcol->coloring[idx] = col->numOfColors;\n",
        "\t}\n",
        "\telse\n",
        "\t\tcol->uncoloredNodes = true;\n",
        "}\n",
        "\n",
        "__global__ void init (uint seed, curandState_t* states, uint* numbers, uint n) {\n",
        "\tuint idx = blockIdx.x * blockDim.x + threadIdx.x;\n",
        "\tif (idx > n)\n",
        "\t\t\treturn;\n",
        "\tcurand_init(seed, idx, 0, &states[idx]);\n",
        "\tnumbers[idx] = curand(&states[idx])%n*n;\n",
        "}\n",
        "\n",
        "\n",
        "__global__ void JPcolorer (Coloring* col, GraphStruct *str, uint* weights) {\n",
        "\tdim3 threads (THREADxBLOCK);\n",
        "\tdim3 blocks ((str->nodeSize + threads.x - 1) / threads.x, 1, 1 );\n",
        "\n",
        "\t// loop on ISs covering the graph\n",
        "\tcol->numOfColors = 0;\n",
        "\twhile (col->uncoloredNodes) {\n",
        "\t\tcol->uncoloredNodes = false;\n",
        "\t\tcol->numOfColors++;\n",
        "\t\tfindIS <<< blocks, threads >>> (col, str, weights);\n",
        "\t\t//cudaDeviceSynchronize();\n",
        "\t}\n",
        "}\n",
        "\n",
        "/**\n",
        " * Print the graph (verbose = 1 for \"verbose print\")\n",
        " * @param verbose print the complete graph\n",
        " */\n"
      ],
      "metadata": {
        "colab": {
          "base_uri": "https://localhost:8080/",
          "height": 35
        },
        "id": "kbILBWTcQuXL",
        "outputId": "fa947343-f526-4d83-d386-68eff7ddb859"
      },
      "execution_count": null,
      "outputs": [
        {
          "output_type": "execute_result",
          "data": {
            "text/plain": [
              "'File written in /content/src/JonesPlassman.cu'"
            ],
            "application/vnd.google.colaboratory.intrinsic+json": {
              "type": "string"
            }
          },
          "metadata": {},
          "execution_count": 3
        }
      ]
    },
    {
      "cell_type": "code",
      "source": [
        "%%cuda --name test_JP.cu\n",
        "\n",
        "#include \"/content/src/coloring.h\"\n",
        "\n",
        "using namespace std;\n",
        "\n",
        "int main(void) {\n",
        "\tunsigned int n = 100;\t\t // number of nodes for random graphs\n",
        "\tfloat prob = .5;\t\t\t\t    // density (percentage) for random graphs\n",
        "\tstd::default_random_engine eng{0};  // fixed seed\n",
        "\n",
        "  srand(time(0));\n",
        "  cudaEvent_t start, stop;\n",
        "  cudaEventCreate(&start);\n",
        "  cudaEventCreate(&stop);\n",
        "\n",
        "\t// new graph with n nodes\n",
        "\tGraph graph(n,1);\n",
        "\n",
        "\t// generate a random graph\n",
        "\tgraph.randGraph(prob,eng);\n",
        "\n",
        "\t// get the graph struct\n",
        "\tGraphStruct *str = graph.getStruct();\n",
        "\n",
        "  cudaEventRecord(start);\n",
        "\n",
        "\tColoring* col = JonesPlassmanColoring(str);\n",
        "\tcudaDeviceSynchronize();\n",
        "\n",
        "  cudaEventRecord(stop);\n",
        "  cudaEventSynchronize(stop);\n",
        "\n",
        "  //Stampo in millisecondi quanto tempo ci ha messo a colorare il grafo.\n",
        "  float milliseconds = 0;\n",
        "  cudaEventElapsedTime(&milliseconds, start, stop);\n",
        "  printf(\"%f ms\\n\", milliseconds);\n",
        "\n",
        "\t//printColoring(col, str, 1);\n",
        "\n",
        "\treturn EXIT_SUCCESS;\n",
        "}"
      ],
      "metadata": {
        "colab": {
          "base_uri": "https://localhost:8080/",
          "height": 35
        },
        "id": "MAuOjdX-PBz4",
        "outputId": "08542a5e-e0d7-4dc3-81fa-dccb547d02e8"
      },
      "execution_count": null,
      "outputs": [
        {
          "output_type": "execute_result",
          "data": {
            "text/plain": [
              "'File written in /content/src/test_JP.cu'"
            ],
            "application/vnd.google.colaboratory.intrinsic+json": {
              "type": "string"
            }
          },
          "metadata": {},
          "execution_count": 4
        }
      ]
    },
    {
      "cell_type": "code",
      "source": [
        "!nvcc -dc src/test_JP.cu /content/src/JonesPlassman.cu /content/drive/MyDrive/graph/graph.cpp /content/drive/MyDrive/graph/graph_d.cu\n",
        "!nvcc test_JP.o JonesPlassman.o graph.o graph_d.o -o test_JP\n",
        "!./test_JP"
      ],
      "metadata": {
        "colab": {
          "base_uri": "https://localhost:8080/"
        },
        "id": "aYNEx0arUPOg",
        "outputId": "6c6b3679-8b3e-41fc-b248-cb1bbdd4f5b7"
      },
      "execution_count": null,
      "outputs": [
        {
          "output_type": "stream",
          "name": "stdout",
          "text": [
            "1.008224 ms\n"
          ]
        }
      ]
    }
  ]
}