{
  "nbformat": 4,
  "nbformat_minor": 0,
  "metadata": {
    "colab": {
      "provenance": []
    },
    "kernelspec": {
      "name": "python3",
      "display_name": "Python 3"
    },
    "language_info": {
      "name": "python"
    }
  },
  "cells": [
    {
      "cell_type": "code",
      "execution_count": null,
      "metadata": {
        "colab": {
          "base_uri": "https://localhost:8080/"
        },
        "id": "lAnhCR0CXEKq",
        "outputId": "d5f66eaf-e084-4835-ca21-40e449647f82"
      },
      "outputs": [
        {
          "output_type": "stream",
          "name": "stdout",
          "text": [
            "Collecting git+https://github.com/andreinechaev/nvcc4jupyter.git\n",
            "  Cloning https://github.com/andreinechaev/nvcc4jupyter.git to /tmp/pip-req-build-n4ludj05\n",
            "  Running command git clone --filter=blob:none --quiet https://github.com/andreinechaev/nvcc4jupyter.git /tmp/pip-req-build-n4ludj05\n",
            "  Resolved https://github.com/andreinechaev/nvcc4jupyter.git to commit 0a71d56e5dce3ff1f0dd2c47c29367629262f527\n",
            "  Preparing metadata (setup.py) ... \u001b[?25l\u001b[?25hdone\n",
            "Building wheels for collected packages: NVCCPlugin\n",
            "  Building wheel for NVCCPlugin (setup.py) ... \u001b[?25l\u001b[?25hdone\n",
            "  Created wheel for NVCCPlugin: filename=NVCCPlugin-0.0.2-py3-none-any.whl size=4295 sha256=df73166bce0ef35e92214ac312dc609db196cb2215abdd20c57f61a65cc1457e\n",
            "  Stored in directory: /tmp/pip-ephem-wheel-cache-l_y9mpgw/wheels/a8/b9/18/23f8ef71ceb0f63297dd1903aedd067e6243a68ea756d6feea\n",
            "Successfully built NVCCPlugin\n",
            "Installing collected packages: NVCCPlugin\n",
            "Successfully installed NVCCPlugin-0.0.2\n",
            "created output directory at /content/src\n",
            "Out bin /content/result.out\n"
          ]
        }
      ],
      "source": [
        "!pip install git+https://github.com/andreinechaev/nvcc4jupyter.git\n",
        "%load_ext nvcc_plugin\n"
      ]
    },
    {
      "cell_type": "code",
      "source": [
        "%%cuda --name coloring.h\n",
        "#pragma once\n",
        "\n",
        "#include \"curand_kernel.h\"\n",
        "#include \"/content/drive/MyDrive/graph/common.h\"\n",
        "#include \"/content/drive/MyDrive/graph/graph.h\"\n",
        "\n",
        "\n",
        "struct Coloring {\n",
        "\tbool\t\tuncoloredNodes;\n",
        "\tuint\t\tnumOfColors;\n",
        "\tuint\t*\tcoloring;   // each element denotes a color\n",
        "};\n",
        "\n",
        "\n",
        "Coloring* MISColoring(GraphStruct*);\n",
        "void printColoring (Coloring*, GraphStruct*, bool);\n",
        "__global__ void MIScolorer (Coloring*, GraphStruct*, uint*) ;\n",
        "__global__ void init(uint seed, curandState_t*, uint*, uint);\n",
        "__global__ void findIS (Coloring*, GraphStruct*, uint*);\n",
        "__global__ void print_d(GraphStruct*, bool);"
      ],
      "metadata": {
        "colab": {
          "base_uri": "https://localhost:8080/",
          "height": 35
        },
        "id": "t2Cj_-9hnxlD",
        "outputId": "a99ca30f-0b5a-47c1-f23d-078d89428045"
      },
      "execution_count": null,
      "outputs": [
        {
          "output_type": "execute_result",
          "data": {
            "text/plain": [
              "'File written in /content/src/coloring.h'"
            ],
            "application/vnd.google.colaboratory.intrinsic+json": {
              "type": "string"
            }
          },
          "metadata": {},
          "execution_count": 2
        }
      ]
    },
    {
      "cell_type": "code",
      "source": [
        "%%cuda --name MIS.cu\n",
        "\n",
        "#include \"/content/src/coloring.h\"\n",
        "#include \"/content/drive/MyDrive/graph/graph_d.h\"\n",
        "\n",
        "#define THREADxBLOCK 128\n",
        "\n",
        "using namespace std;\n",
        "\n",
        "Coloring* MISColoring(GraphStruct *str){\n",
        "  Coloring* col;\n",
        "\tCHECK(cudaMallocManaged(&col, sizeof(Coloring)));\n",
        "\tuint n = str->nodeSize;\n",
        "\tcol->uncoloredNodes = true;\n",
        "\n",
        "\t// cudaMalloc for arrays of struct Coloring\n",
        "\tCHECK(cudaMallocManaged( &(col->coloring), n * sizeof(uint)));\n",
        "\tmemset(col->coloring,0,n);\n",
        "\n",
        "\t// allocate space on the GPU for the random states\n",
        "\tcurandState_t* states;\n",
        "\tuint* weigths;\n",
        "\tcudaMalloc((void**) &states, n * sizeof(curandState_t));\n",
        "\tcudaMalloc((void**) &weigths, n * sizeof(uint));\n",
        "\tdim3 threads ( THREADxBLOCK);\n",
        "\tdim3 blocks ((str->nodeSize + threads.x - 1) / threads.x, 1, 1 );\n",
        "\tuint seed = 0;\n",
        "\tinit <<< blocks, threads >>> (seed, states, weigths, n);\n",
        "\n",
        "\t// start coloring (dyn. parall.)\n",
        "\tJPcolorer <<< 1, 1 >>> (col, str, weigths);\n",
        "\n",
        "  cudaFree(states);\n",
        "\tcudaFree(weigths);\n",
        "  return col;\n",
        "}\n",
        "\n",
        "__global__ void findIS (Coloring* col, GraphStruct *str, uint* weights, bool * currentIS, bool * X) {\n",
        "\tuint idx = threadIdx.x + blockDim.x * blockIdx.x;\n",
        "\n",
        "\tif (idx >= str->nodeSize)\n",
        "\t\treturn;\n",
        "\n",
        "\tif (col->coloring[idx])\n",
        "\t\treturn;\n",
        "\n",
        "\tuint offset = str->cumDegs[idx];\n",
        "\tuint deg = str->cumDegs[idx + 1] - str->cumDegs[idx];\n",
        "\n",
        "\tbool candidate = true;\n",
        "\tfor (uint j = 0; j < deg; j++) {\n",
        "\t\tuint neighID = str->neighs[offset + j];\n",
        "\t\tif (!X[neighID] && !col->coloring[neighID] &&\n",
        "\t\t\t\t((weights[idx] < weights[neighID]) ||\n",
        "\t\t\t\t((weights[idx] == weights[neighID]) && idx < neighID))) {\n",
        "\t\t\tcandidate = false;\n",
        "\t\t}\n",
        "\t}\n",
        "\tif (candidate) {\n",
        "\t\tcurrentIS[idx] = true;\n",
        "    X[idx] = true;\n",
        "    for (uint j = 0; j < deg; j++) {\n",
        "        neighID = str->neighs[offset + j];\n",
        "        X[neighID] = true;\n",
        "    }\n",
        "\t}\n",
        "}\n",
        "\n",
        "__global__ void init (uint seed, curandState_t* states, uint* numbers, uint n) {\n",
        "\tuint idx = blockIdx.x * blockDim.x + threadIdx.x;\n",
        "\tif (idx > n)\n",
        "\t\t\treturn;\n",
        "\tcurand_init(seed, idx, 0, &states[idx]);\n",
        "\tnumbers[idx] = curand(&states[idx])%n*n;\n",
        "}\n",
        "\n",
        "__global__ void checkX(GraphStruct *str, bool *X, bool *result){\n",
        "    int i;\n",
        "    for(i=0, i<str->nodeSize; i++){\n",
        "        if(X[i]==false){\n",
        "            &result = true;\n",
        "            return;\n",
        "        }\n",
        "    }\n",
        "}\n",
        "\n",
        "__global__ void colorMIS(Coloring* col, GraphStruct *str, bool * currentIS){\n",
        "    uint idx = threadIdx.x + blockDim.x * blockIdx.x;\n",
        "\n",
        "\tif (idx >= str->nodeSize)\n",
        "\t\treturn;\n",
        "\n",
        "\tif (col->coloring[idx])\n",
        "\t\treturn;\n",
        "\n",
        "  if(currentIS[index]){\n",
        "      col->coloring[idx] = col->numOfColors;\n",
        "  }\n",
        "\n",
        "}\n",
        "\n",
        "__global__ void MIScolorer (Coloring* col, GraphStruct *str, uint* weights) {\n",
        "\tdim3 threads (THREADxBLOCK);\n",
        "\tdim3 blocks ((str->nodeSize + threads.x - 1) / threads.x, 1, 1 );\n",
        "\n",
        "  bool* currentIS;\n",
        "  cudaMalloc((void**) &currentIS, n * sizeof(bool));\n",
        "  memset(currentIS, false, n);\n",
        "\n",
        "  bool* X;\n",
        "  cudaMalloc((void**) &X, n * sizeof(bool));\n",
        "  memset(X, false, n);\n",
        "\n",
        "\t// loop on ISs covering the graph\n",
        "\tcol->numOfColors = 0;\n",
        "\twhile (col->uncoloredNodes) {\n",
        "\t\tcol->uncoloredNodes = false;\n",
        "\t\tcol->numOfColors++;\n",
        "    bool result = true;\n",
        "    checkX(str, X, result);\n",
        "    while(result){\n",
        "        findIS <<< blocks, threads >>> (col, str, weights, currentIS, X);\n",
        "\t\t    //cudaDeviceSynchronize();\n",
        "        checkX(str, X, result);\n",
        "    }\n",
        "\n",
        "    colorMIS <<< blocks, threads >>> (col, str, currentIS);\n",
        "\n",
        "\n",
        "\t}\n",
        "}\n",
        "\n",
        "/**\n",
        " * Print the graph (verbose = 1 for \"verbose print\")\n",
        " * @param verbose print the complete graph\n",
        " */\n"
      ],
      "metadata": {
        "colab": {
          "base_uri": "https://localhost:8080/",
          "height": 35
        },
        "id": "xbJJmT-0n73m",
        "outputId": "ce17573a-3cc6-4d77-d11c-5f50634623d0"
      },
      "execution_count": null,
      "outputs": [
        {
          "output_type": "execute_result",
          "data": {
            "text/plain": [
              "'File written in /content/src/MIS.cu'"
            ],
            "application/vnd.google.colaboratory.intrinsic+json": {
              "type": "string"
            }
          },
          "metadata": {},
          "execution_count": 3
        }
      ]
    },
    {
      "cell_type": "code",
      "source": [
        "%%cuda --name test_MIS.cu\n",
        "\n",
        "#include \"/content/src/coloring.h\"\n",
        "\n",
        "using namespace std;\n",
        "\n",
        "int main(void) {\n",
        "\tunsigned int n = 100;\t\t // number of nodes for random graphs\n",
        "\tfloat prob = .5;\t\t\t\t    // density (percentage) for random graphs\n",
        "\tstd::default_random_engine eng{0};  // fixed seed\n",
        "\n",
        "  srand(time(0));\n",
        "  cudaEvent_t start, stop;\n",
        "  cudaEventCreate(&start);\n",
        "  cudaEventCreate(&stop);\n",
        "\n",
        "\t// new graph with n nodes\n",
        "\tGraph graph(n,1);\n",
        "\n",
        "\t// generate a random graph\n",
        "\tgraph.randGraph(prob,eng);\n",
        "\n",
        "\t// get the graph struct\n",
        "\tGraphStruct *str = graph.getStruct();\n",
        "\n",
        "  cudaEventRecord(start);\n",
        "\n",
        "\tColoring* col = MISColoring(str);\n",
        "\tcudaDeviceSynchronize();\n",
        "\n",
        "  cudaEventRecord(stop);\n",
        "  cudaEventSynchronize(stop);\n",
        "\n",
        "  //Stampo in millisecondi quanto tempo ci ha messo a colorare il grafo.\n",
        "  float milliseconds = 0;\n",
        "  cudaEventElapsedTime(&milliseconds, start, stop);\n",
        "  printf(\"%f ms\\n\", milliseconds);\n",
        "\n",
        "\t//printColoring(col, str, 1);\n",
        "\n",
        "\treturn EXIT_SUCCESS;\n",
        "}"
      ],
      "metadata": {
        "colab": {
          "base_uri": "https://localhost:8080/",
          "height": 35
        },
        "id": "vvR-M-DmoGH2",
        "outputId": "59da42de-2357-4412-c915-efc810b5be0f"
      },
      "execution_count": null,
      "outputs": [
        {
          "output_type": "execute_result",
          "data": {
            "text/plain": [
              "'File written in /content/src/test_MIS.cu'"
            ],
            "application/vnd.google.colaboratory.intrinsic+json": {
              "type": "string"
            }
          },
          "metadata": {},
          "execution_count": 4
        }
      ]
    },
    {
      "cell_type": "code",
      "source": [
        "!nvcc -dc src/test_MIS.cu /content/src/MIS.cu /content/drive/MyDrive/graph/graph.cpp /content/drive/MyDrive/graph/graph_d.cu\n",
        "!nvcc test_MIS.o MIS.o graph.o graph_d.o -o test_MIS\n",
        "!./test_MIS"
      ],
      "metadata": {
        "colab": {
          "base_uri": "https://localhost:8080/"
        },
        "id": "BazQL-zlwDEj",
        "outputId": "350b9566-1e2b-418e-f0a1-aa1d423ed7f9"
      },
      "execution_count": null,
      "outputs": [
        {
          "output_type": "stream",
          "name": "stdout",
          "text": [
            "\u001b[01m\u001b[0m\u001b[01m/content/src/MIS.cu(30)\u001b[0m: \u001b[01;31merror\u001b[0m: identifier \"\u001b[01mJPcolorer\u001b[0m\" is undefined\n",
            "\n",
            "\u001b[01m\u001b[0m\u001b[01m/content/src/MIS.cu(62)\u001b[0m: \u001b[01;31merror\u001b[0m: identifier \"\u001b[01mneighID\u001b[0m\" is undefined\n",
            "\n",
            "\u001b[01m\u001b[0m\u001b[01m/content/src/MIS.cu(78)\u001b[0m: \u001b[01;31merror\u001b[0m: expected a \";\"\n",
            "\n",
            "\u001b[01m\u001b[0m\u001b[01m/content/src/MIS.cu(80)\u001b[0m: \u001b[01;31merror\u001b[0m: expression must be a modifiable lvalue\n",
            "\n",
            "\u001b[01m\u001b[0m\u001b[01m/content/src/MIS.cu(95)\u001b[0m: \u001b[01;31merror\u001b[0m: cannot determine which instance of overloaded function \u001b[01m\"index\"\u001b[0m is intended\n",
            "\n",
            "\u001b[01m\u001b[0m\u001b[01m/content/src/MIS.cu(106)\u001b[0m: \u001b[01;31merror\u001b[0m: identifier \"\u001b[01mn\u001b[0m\" is undefined\n",
            "\n",
            "\u001b[01m\u001b[0m\u001b[01m/content/src/MIS.cu(119)\u001b[0m: \u001b[01;31merror\u001b[0m: argument of type \"__nv_bool\" is incompatible with parameter of type \"__nv_bool *\"\n",
            "\n",
            "\u001b[01m\u001b[0m\u001b[01m/content/src/MIS.cu(123)\u001b[0m: \u001b[01;31merror\u001b[0m: argument of type \"__nv_bool\" is incompatible with parameter of type \"__nv_bool *\"\n",
            "\n",
            "8 errors detected in the compilation of \"/content/src/MIS.cu\".\n",
            "nvlink fatal   : Could not open input file 'MIS.o'\n",
            "/bin/bash: line 1: ./test_MIS: No such file or directory\n"
          ]
        }
      ]
    }
  ]
}