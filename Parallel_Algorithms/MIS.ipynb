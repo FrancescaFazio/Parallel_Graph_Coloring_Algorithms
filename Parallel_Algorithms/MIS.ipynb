{
  "nbformat": 4,
  "nbformat_minor": 0,
  "metadata": {
    "colab": {
      "provenance": [],
      "gpuType": "T4"
    },
    "kernelspec": {
      "name": "python3",
      "display_name": "Python 3"
    },
    "language_info": {
      "name": "python"
    },
    "accelerator": "GPU"
  },
  "cells": [
    {
      "cell_type": "code",
      "execution_count": 1,
      "metadata": {
        "colab": {
          "base_uri": "https://localhost:8080/"
        },
        "id": "lAnhCR0CXEKq",
        "outputId": "6b56e4f9-3b09-4150-c31c-65a8661851b3"
      },
      "outputs": [
        {
          "output_type": "stream",
          "name": "stdout",
          "text": [
            "Collecting git+https://github.com/andreinechaev/nvcc4jupyter.git\n",
            "  Cloning https://github.com/andreinechaev/nvcc4jupyter.git to /tmp/pip-req-build-sln3zo9l\n",
            "  Running command git clone --filter=blob:none --quiet https://github.com/andreinechaev/nvcc4jupyter.git /tmp/pip-req-build-sln3zo9l\n",
            "  Resolved https://github.com/andreinechaev/nvcc4jupyter.git to commit 0a71d56e5dce3ff1f0dd2c47c29367629262f527\n",
            "  Preparing metadata (setup.py) ... \u001b[?25l\u001b[?25hdone\n",
            "Building wheels for collected packages: NVCCPlugin\n",
            "  Building wheel for NVCCPlugin (setup.py) ... \u001b[?25l\u001b[?25hdone\n",
            "  Created wheel for NVCCPlugin: filename=NVCCPlugin-0.0.2-py3-none-any.whl size=4295 sha256=bc56d7e27aa15c6c0df7efd02ac0e23b66f1597b936569386cbf34b6a176a593\n",
            "  Stored in directory: /tmp/pip-ephem-wheel-cache-bp7ghrts/wheels/a8/b9/18/23f8ef71ceb0f63297dd1903aedd067e6243a68ea756d6feea\n",
            "Successfully built NVCCPlugin\n",
            "Installing collected packages: NVCCPlugin\n",
            "Successfully installed NVCCPlugin-0.0.2\n",
            "created output directory at /content/src\n",
            "Out bin /content/result.out\n"
          ]
        }
      ],
      "source": [
        "!pip install git+https://github.com/andreinechaev/nvcc4jupyter.git\n",
        "%load_ext nvcc_plugin\n"
      ]
    },
    {
      "cell_type": "code",
      "source": [
        "%%cuda --name coloring.h\n",
        "#pragma once\n",
        "\n",
        "#include \"curand_kernel.h\"\n",
        "#include \"/content/drive/MyDrive/graph/common.h\"\n",
        "#include \"/content/drive/MyDrive/graph/graph.h\"\n",
        "\n",
        "\n",
        "struct Coloring {\n",
        "\tbool\t\tuncoloredNodes;\n",
        "\tuint\t\tnumOfColors;\n",
        "\tuint\t*\tcoloring;   // each element denotes a color\n",
        "};\n",
        "\n",
        "\n",
        "Coloring* MISColoring(GraphStruct*);\n",
        "void printColoring (Coloring*, GraphStruct*, bool);\n",
        "__global__ void MIScolorer (Coloring*, GraphStruct*, uint*) ;\n",
        "__global__ void init(uint seed, curandState_t*, uint*, uint);\n",
        "__global__ void findIS (Coloring*, GraphStruct*, uint*);\n",
        "__global__ void print_d(GraphStruct*, bool);"
      ],
      "metadata": {
        "colab": {
          "base_uri": "https://localhost:8080/",
          "height": 35
        },
        "id": "t2Cj_-9hnxlD",
        "outputId": "e812ebca-6625-4d6c-b287-20e8901980ad"
      },
      "execution_count": 2,
      "outputs": [
        {
          "output_type": "execute_result",
          "data": {
            "text/plain": [
              "'File written in /content/src/coloring.h'"
            ],
            "application/vnd.google.colaboratory.intrinsic+json": {
              "type": "string"
            }
          },
          "metadata": {},
          "execution_count": 2
        }
      ]
    },
    {
      "cell_type": "code",
      "source": [
        "%%cuda --name MIS.cu\n",
        "\n",
        "#include \"/content/src/coloring.h\"\n",
        "#include \"/content/drive/MyDrive/graph/graph_d.h\"\n",
        "\n",
        "#define THREADxBLOCK 128\n",
        "\n",
        "using namespace std;\n",
        "\n",
        "Coloring* MISColoring(GraphStruct *str){\n",
        "  Coloring* col;\n",
        "\tCHECK(cudaMallocManaged(&col, sizeof(Coloring)));\n",
        "\tuint n = str->nodeSize;\n",
        "\tcol->uncoloredNodes = true;\n",
        "\n",
        "\t// cudaMalloc for arrays of struct Coloring\n",
        "\tCHECK(cudaMallocManaged( &(col->coloring), n * sizeof(uint)));\n",
        "\tmemset(col->coloring,0,n);\n",
        "\n",
        "\t// allocate space on the GPU for the random states\n",
        "\tcurandState_t* states;\n",
        "\tuint* weigths;\n",
        "\tcudaMalloc((void**) &states, n * sizeof(curandState_t));\n",
        "\tcudaMalloc((void**) &weigths, n * sizeof(uint));\n",
        "\tdim3 threads ( THREADxBLOCK);\n",
        "\tdim3 blocks ((str->nodeSize + threads.x - 1) / threads.x, 1, 1 );\n",
        "\tuint seed = 0;\n",
        "\tinit <<< blocks, threads >>> (seed, states, weigths, n);\n",
        "\n",
        "\t// start coloring (dyn. parall.)\n",
        "\tMIScolorer <<< 1, 1 >>> (col, str, weigths);\n",
        "\n",
        "  cudaFree(states);\n",
        "\tcudaFree(weigths);\n",
        "  return col;\n",
        "}\n",
        "\n",
        "__global__ void findIS (Coloring* col, GraphStruct *str, uint* weights, bool *currentIS, bool *X) {\n",
        "\tuint idx = threadIdx.x + blockDim.x * blockIdx.x;\n",
        "\n",
        "\tif (idx >= str->nodeSize)\n",
        "\t\treturn;\n",
        "\n",
        "\tif (col->coloring[idx])\n",
        "\t\treturn;\n",
        "\n",
        "\tuint offset = str->cumDegs[idx];\n",
        "\tuint deg = str->cumDegs[idx + 1] - str->cumDegs[idx];\n",
        "\n",
        "\tbool candidate = true;\n",
        "\tfor (uint j = 0; j < deg; j++) {\n",
        "\t\tuint neighID = str->neighs[offset + j];\n",
        "\t\tif (!X[neighID] && !col->coloring[neighID] &&\n",
        "\t\t\t\t((weights[idx] < weights[neighID]) ||\n",
        "\t\t\t\t((weights[idx] == weights[neighID]) && idx < neighID))) {\n",
        "\t\t\tcandidate = false;\n",
        "\t\t}\n",
        "\t}\n",
        "\tif (candidate) {\n",
        "\t\tcurrentIS[idx] = true;\n",
        "    X[idx] = true;\n",
        "    for (uint j = 0; j < deg; j++) {\n",
        "        uint neighID = str->neighs[offset + j];\n",
        "        X[neighID] = true;\n",
        "    }\n",
        "\t}\n",
        "}\n",
        "\n",
        "__global__ void init (uint seed, curandState_t* states, uint* numbers, uint n) {\n",
        "\tuint idx = blockIdx.x * blockDim.x + threadIdx.x;\n",
        "\tif (idx > n)\n",
        "\t\t\treturn;\n",
        "\tcurand_init(seed, idx, 0, &states[idx]);\n",
        "\tnumbers[idx] = curand(&states[idx])%n*n;\n",
        "}\n",
        "\n",
        "__global__ void checkX(GraphStruct *str, bool* X, bool* result) {\n",
        "\t\tuint idx = threadIdx.x + blockDim.x * blockIdx.x;\n",
        "\n",
        "    if(X[idx] == false)\n",
        "      &result = true;\n",
        "}\n",
        "\n",
        "__global__ void colorMIS(Coloring* col, GraphStruct *str, bool *currentIS){\n",
        "  uint idx = threadIdx.x + blockDim.x * blockIdx.x;\n",
        "\n",
        "\tif (idx >= str->nodeSize)\n",
        "\t\treturn;\n",
        "\n",
        "\tif (col->coloring[idx])\n",
        "\t\treturn;\n",
        "\n",
        "  if(currentIS[idx])\n",
        "      col->coloring[idx] = col->numOfColors;\n",
        "}\n",
        "\n",
        "__global__ void MIScolorer (Coloring* col, GraphStruct *str, uint* weights) {\n",
        "\tdim3 threads (THREADxBLOCK);\n",
        "\tdim3 blocks ((str->nodeSize + threads.x - 1) / threads.x, 1, 1 );\n",
        "\n",
        "  bool* currentIS;\n",
        "\tuint n = str->nodeSize;\n",
        "  cudaMalloc((void**) &currentIS, n * sizeof(bool));\n",
        "  memset(currentIS, false, n);\n",
        "\n",
        "  bool* X;\n",
        "  cudaMalloc((void**) &X, n * sizeof(bool));\n",
        "  memset(X, false, n);\n",
        "\n",
        "\t// loop on ISs covering the graph\n",
        "\tcol->numOfColors = 0;\n",
        "\twhile (col->uncoloredNodes) {\n",
        "\t\tcol->uncoloredNodes = false;\n",
        "\t\tcol->numOfColors++;\n",
        "\n",
        "\t\tbool result;\n",
        "\t\tcheckX <<< blocks, threads >>> (str, X, &result);\n",
        "\n",
        "    while(result){\n",
        "        findIS <<< blocks, threads >>> (col, str, weights, currentIS, X);\n",
        "\t\t    //cudaDeviceSynchronize();\n",
        "\t\t\t\tcheckX <<< blocks, threads >>> (str, X, &result);\n",
        "    }\n",
        "\n",
        "    colorMIS <<< blocks, threads >>> (col, str, currentIS);\n",
        "\t}\n",
        "}\n",
        "\n",
        "/**\n",
        " * Print the graph (verbose = 1 for \"verbose print\")\n",
        " * @param verbose print the complete graph\n",
        " */\n"
      ],
      "metadata": {
        "colab": {
          "base_uri": "https://localhost:8080/",
          "height": 35
        },
        "id": "xbJJmT-0n73m",
        "outputId": "27fb25dc-044d-4e33-f2d9-77ec75ab990c"
      },
      "execution_count": 58,
      "outputs": [
        {
          "output_type": "execute_result",
          "data": {
            "text/plain": [
              "'File written in /content/src/MIS.cu'"
            ],
            "application/vnd.google.colaboratory.intrinsic+json": {
              "type": "string"
            }
          },
          "metadata": {},
          "execution_count": 58
        }
      ]
    },
    {
      "cell_type": "code",
      "source": [
        "%%cuda --name test_MIS.cu\n",
        "\n",
        "#include \"/content/src/coloring.h\"\n",
        "\n",
        "using namespace std;\n",
        "\n",
        "int main(void) {\n",
        "\tunsigned int n = 100;\t\t // number of nodes for random graphs\n",
        "\tfloat prob = .5;\t\t\t\t    // density (percentage) for random graphs\n",
        "\tstd::default_random_engine eng{0};  // fixed seed\n",
        "\n",
        "  srand(time(0));\n",
        "  cudaEvent_t start, stop;\n",
        "  cudaEventCreate(&start);\n",
        "  cudaEventCreate(&stop);\n",
        "\n",
        "\t// new graph with n nodes\n",
        "\tGraph graph(n,1);\n",
        "\n",
        "\t// generate a random graph\n",
        "\tgraph.randGraph(prob,eng);\n",
        "\n",
        "\t// get the graph struct\n",
        "\tGraphStruct *str = graph.getStruct();\n",
        "\n",
        "  cudaEventRecord(start);\n",
        "\n",
        "\tColoring* col = MISColoring(str);\n",
        "\tcudaDeviceSynchronize();\n",
        "\n",
        "  cudaEventRecord(stop);\n",
        "  cudaEventSynchronize(stop);\n",
        "\n",
        "  //Stampo in millisecondi quanto tempo ci ha messo a colorare il grafo.\n",
        "  float milliseconds = 0;\n",
        "  cudaEventElapsedTime(&milliseconds, start, stop);\n",
        "  printf(\"%f ms\\n\", milliseconds);\n",
        "\n",
        "\t//printColoring(col, str, 1);\n",
        "\n",
        "\treturn EXIT_SUCCESS;\n",
        "}"
      ],
      "metadata": {
        "colab": {
          "base_uri": "https://localhost:8080/",
          "height": 35
        },
        "id": "vvR-M-DmoGH2",
        "outputId": "563a0fcf-4bb8-41ff-b018-48db312e0580"
      },
      "execution_count": 26,
      "outputs": [
        {
          "output_type": "execute_result",
          "data": {
            "text/plain": [
              "'File written in /content/src/test_MIS.cu'"
            ],
            "application/vnd.google.colaboratory.intrinsic+json": {
              "type": "string"
            }
          },
          "metadata": {},
          "execution_count": 26
        }
      ]
    },
    {
      "cell_type": "code",
      "source": [
        "!nvcc -dc src/test_MIS.cu /content/src/MIS.cu /content/drive/MyDrive/graph/graph.cpp /content/drive/MyDrive/graph/graph_d.cu\n",
        "!nvcc test_MIS.o MIS.o graph.o graph_d.o -o test_MIS\n",
        "!./test_MIS"
      ],
      "metadata": {
        "colab": {
          "base_uri": "https://localhost:8080/"
        },
        "id": "BazQL-zlwDEj",
        "outputId": "c5737143-8635-42e0-a0c7-80aa3bef4826"
      },
      "execution_count": 59,
      "outputs": [
        {
          "output_type": "stream",
          "name": "stdout",
          "text": [
            "\u001b[01m\u001b[0m\u001b[01m/content/src/MIS.cu(80)\u001b[0m: \u001b[01;31merror\u001b[0m: expression must be a modifiable lvalue\n",
            "\n",
            "1 error detected in the compilation of \"/content/src/MIS.cu\".\n",
            "nvlink fatal   : Could not open input file 'MIS.o'\n",
            "/bin/bash: line 1: ./test_MIS: No such file or directory\n"
          ]
        }
      ]
    }
  ]
}