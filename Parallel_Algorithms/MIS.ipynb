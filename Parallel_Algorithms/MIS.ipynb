{
  "nbformat": 4,
  "nbformat_minor": 0,
  "metadata": {
    "colab": {
      "provenance": [],
      "gpuType": "T4"
    },
    "kernelspec": {
      "name": "python3",
      "display_name": "Python 3"
    },
    "language_info": {
      "name": "python"
    },
    "accelerator": "GPU"
  },
  "cells": [
    {
      "cell_type": "code",
      "source": [
        "from google.colab import drive\n",
        "drive.mount('/content/drive')"
      ],
      "metadata": {
        "colab": {
          "base_uri": "https://localhost:8080/"
        },
        "id": "hedMSdKV7GM3",
        "outputId": "6043188b-5369-4675-9871-5d6b1af43892"
      },
      "execution_count": null,
      "outputs": [
        {
          "output_type": "stream",
          "name": "stdout",
          "text": [
            "Mounted at /content/drive\n"
          ]
        }
      ]
    },
    {
      "cell_type": "code",
      "execution_count": null,
      "metadata": {
        "colab": {
          "base_uri": "https://localhost:8080/"
        },
        "id": "lAnhCR0CXEKq",
        "outputId": "984d481a-7f9f-446a-b33d-dee912b43748"
      },
      "outputs": [
        {
          "output_type": "stream",
          "name": "stdout",
          "text": [
            "Collecting git+https://github.com/andreinechaev/nvcc4jupyter.git\n",
            "  Cloning https://github.com/andreinechaev/nvcc4jupyter.git to /tmp/pip-req-build-0qdj670c\n",
            "  Running command git clone --filter=blob:none --quiet https://github.com/andreinechaev/nvcc4jupyter.git /tmp/pip-req-build-0qdj670c\n",
            "  Resolved https://github.com/andreinechaev/nvcc4jupyter.git to commit 0a71d56e5dce3ff1f0dd2c47c29367629262f527\n",
            "  Preparing metadata (setup.py) ... \u001b[?25l\u001b[?25hdone\n",
            "Building wheels for collected packages: NVCCPlugin\n",
            "  Building wheel for NVCCPlugin (setup.py) ... \u001b[?25l\u001b[?25hdone\n",
            "  Created wheel for NVCCPlugin: filename=NVCCPlugin-0.0.2-py3-none-any.whl size=4295 sha256=724c31d485b0f333bb6a8c3cd1830ace57d9a51a5c768fd6925165aad5b1a9b8\n",
            "  Stored in directory: /tmp/pip-ephem-wheel-cache-ub68kaxq/wheels/a8/b9/18/23f8ef71ceb0f63297dd1903aedd067e6243a68ea756d6feea\n",
            "Successfully built NVCCPlugin\n",
            "Installing collected packages: NVCCPlugin\n",
            "Successfully installed NVCCPlugin-0.0.2\n",
            "created output directory at /content/src\n",
            "Out bin /content/result.out\n"
          ]
        }
      ],
      "source": [
        "!pip install git+https://github.com/andreinechaev/nvcc4jupyter.git\n",
        "%load_ext nvcc_plugin"
      ]
    },
    {
      "cell_type": "code",
      "source": [
        "%%cuda --name MIS.cu\n",
        "\n",
        "#include \"/content/drive/MyDrive/graph/coloring.h\"\n",
        "#include \"/content/drive/MyDrive/graph/graph_d.h\"\n",
        "\n",
        "#define THREADxBLOCK 128\n",
        "\n",
        "using namespace std;\n",
        "\n",
        "__device__ bool result;\n",
        "\n",
        "__global__ void findIS (Coloring* col, GraphStruct *str, uint* weights, bool *currentIS, bool *X) {\n",
        "\tuint idx = threadIdx.x + blockDim.x * blockIdx.x;\n",
        "\n",
        "\tif (idx >= str->nodeSize)\n",
        "\t\treturn;\n",
        "\n",
        "\tif (col->coloring[idx])\n",
        "\t\treturn;\n",
        "\n",
        "\tuint offset = str->cumDegs[idx];\n",
        "\tuint deg = str->cumDegs[idx + 1] - str->cumDegs[idx];\n",
        "\n",
        "\tbool candidate = true;\n",
        "\tfor (uint j = 0; j < deg; j++) {\n",
        "\t\tuint neighID = str->neighs[offset + j];\n",
        "\t\tif (!X[neighID] && !col->coloring[neighID] &&\n",
        "\t\t\t\t((weights[idx] < weights[neighID]) ||\n",
        "\t\t\t\t((weights[idx] == weights[neighID]) && idx < neighID))) {\n",
        "\t\t\tcandidate = false;\n",
        "\t\t}\n",
        "\t}\n",
        "\tif (candidate) {\n",
        "\t\tcurrentIS[idx] = true;\n",
        "    X[idx] = true;\n",
        "    for (uint j = 0; j < deg; j++) {\n",
        "        uint neighID = str->neighs[offset + j];\n",
        "        X[neighID] = true;\n",
        "    }\n",
        "\t}\n",
        "}\n",
        "\n",
        "__global__ void checkX(GraphStruct *str, bool* X) {\n",
        "\t\tuint idx = threadIdx.x + blockDim.x * blockIdx.x;\n",
        "\t\tif (idx >= str->nodeSize)\n",
        "\t\t\t\treturn;\n",
        "\n",
        "    if(X[idx] == false)\n",
        "      result = true;\n",
        "}\n",
        "\n",
        "__global__ void colorer(Coloring* col, GraphStruct *str, bool *currentIS){\n",
        "  uint idx = threadIdx.x + blockDim.x * blockIdx.x;\n",
        "\n",
        "\tif (idx >= str->nodeSize)\n",
        "\t\treturn;\n",
        "\n",
        "\tif (col->coloring[idx])\n",
        "\t\treturn;\n",
        "\n",
        "  if(currentIS[idx])\n",
        "      col->coloring[idx] = col->numOfColors;\n",
        "\telse\n",
        "\t \t\tcol->uncoloredNodes = true;\n",
        "}\n",
        "\n",
        "Coloring* graphColoring(GraphStruct *str){\n",
        "  Coloring* col;\n",
        "\tCHECK(cudaMallocManaged(&col, sizeof(Coloring)));\n",
        "\tuint n = str->nodeSize;\n",
        "\tcol->uncoloredNodes = true;\n",
        "\n",
        "\t// cudaMalloc for arrays of struct Coloring\n",
        "\tCHECK(cudaMallocManaged( &(col->coloring), n * sizeof(uint)));\n",
        "\tmemset(col->coloring,0,n);\n",
        "\n",
        "\t// allocate space on the GPU for the random states\n",
        "\tcurandState_t* states;\n",
        "\tuint* weigths;\n",
        "\tcudaMalloc((void**) &states, n * sizeof(curandState_t));\n",
        "\tcudaMalloc((void**) &weigths, n * sizeof(uint));\n",
        "\tdim3 threads ( THREADxBLOCK);\n",
        "\tdim3 blocks ((str->nodeSize + threads.x - 1) / threads.x, 1, 1 );\n",
        "\tuint seed = 0;\n",
        "\tinit <<< blocks, threads >>> (seed, states, weigths, n);\n",
        "\n",
        "\tbool result_h = true;\n",
        "\tcudaMemcpyToSymbol(result, &result_h, sizeof(bool));\n",
        "\n",
        "\tbool* currentIS;\n",
        "\tcudaMalloc((void**) &currentIS, n * sizeof(bool));\n",
        "\tcudaMemset(currentIS, false, n);\n",
        "\n",
        "\tbool* X;\n",
        "\tcudaMalloc((void**) &X, n * sizeof(bool));\n",
        "\tcudaMemset(X, false, n);\n",
        "\tcol->numOfColors = 0;\n",
        "\n",
        "\twhile (col->uncoloredNodes) {\n",
        "\t\tcol->uncoloredNodes = false;\n",
        "\t\tcol->numOfColors++;\n",
        "\t\tresult_h = true;\n",
        "\t\tcudaMemset(currentIS, false, n);\n",
        "\t\tcudaMemset(X, false, n);\n",
        "\n",
        "    while(result_h){\n",
        "\t\t\t\tresult_h = false;\n",
        "        findIS <<< blocks, threads >>> (col, str, weigths, currentIS, X);\n",
        "\n",
        "\t\t    //cudaDeviceSynchronize();\n",
        "\t\t\t\tcheckX <<< blocks, threads >>> (str, X);\n",
        "    }\n",
        "\n",
        "    colorer <<< blocks, threads >>> (col, str, currentIS);\n",
        "\t\tcudaDeviceSynchronize();\n",
        "\t}\n",
        "\n",
        "  cudaFree(states);\n",
        "\tcudaFree(weigths);\n",
        "  return col;\n",
        "}\n",
        "\n",
        "__global__ void init (uint seed, curandState_t* states, uint* numbers, uint n) {\n",
        "\tuint idx = blockIdx.x * blockDim.x + threadIdx.x;\n",
        "\tif (idx > n)\n",
        "\t\t\treturn;\n",
        "\tcurand_init(seed, idx, 0, &states[idx]);\n",
        "\tnumbers[idx] = curand(&states[idx])%n*n;\n",
        "}\n"
      ],
      "metadata": {
        "colab": {
          "base_uri": "https://localhost:8080/",
          "height": 35
        },
        "id": "xbJJmT-0n73m",
        "outputId": "c515db2a-5275-468a-934e-70e76936ba41"
      },
      "execution_count": null,
      "outputs": [
        {
          "output_type": "execute_result",
          "data": {
            "text/plain": [
              "'File written in /content/src/MIS.cu'"
            ],
            "application/vnd.google.colaboratory.intrinsic+json": {
              "type": "string"
            }
          },
          "metadata": {},
          "execution_count": 58
        }
      ]
    },
    {
      "cell_type": "code",
      "source": [
        "%%cuda --name test_MIS.cu\n",
        "\n",
        "#include \"/content/drive/MyDrive/graph/coloring.h\"\n",
        "\n",
        "using namespace std;\n",
        "\n",
        "int main(void) {\n",
        "\tunsigned int n = 1000;\t\t // number of nodes for random graphs\n",
        "\tfloat prob = 0.5;\t\t\t\t    // density (percentage) for random graphs\n",
        "\tstd::default_random_engine eng{0};  // fixed seed\n",
        "\n",
        "  srand(time(0));\n",
        "  cudaEvent_t start, stop;\n",
        "  cudaEventCreate(&start);\n",
        "  cudaEventCreate(&stop);\n",
        "\n",
        "\t// new graph with n nodes\n",
        "\tGraph graph(n,1);\n",
        "\n",
        "\t// generate a random graph\n",
        "\tgraph.randGraph(prob,eng);\n",
        "\n",
        "\t// get the graph struct\n",
        "\tGraphStruct *str = graph.getStruct();\n",
        "\n",
        "  cudaEventRecord(start);\n",
        "\n",
        "\tColoring* col = graphColoring(str);\n",
        "\tcudaDeviceSynchronize();\n",
        "\n",
        "  cudaEventRecord(stop);\n",
        "  cudaEventSynchronize(stop);\n",
        "\n",
        "  //Stampo in millisecondi quanto tempo ci ha messo a colorare il grafo.\n",
        "  float milliseconds = 0;\n",
        "  cudaEventElapsedTime(&milliseconds, start, stop);\n",
        "  printf(\"%f ms\\n\", milliseconds);\n",
        "\n",
        "\tfor(int i = 0; i < n; i++){\n",
        "\t\t\tprintf(\"%d \", col->coloring[i]);\n",
        "\t}\n",
        "\n",
        "\t//printColoring(col, str, 1);\n",
        "\n",
        "\n",
        "\n",
        "\treturn EXIT_SUCCESS;\n",
        "}"
      ],
      "metadata": {
        "colab": {
          "base_uri": "https://localhost:8080/",
          "height": 35
        },
        "id": "vvR-M-DmoGH2",
        "outputId": "a53f56c4-b7ee-4b45-e59a-448d6e6909a4"
      },
      "execution_count": null,
      "outputs": [
        {
          "output_type": "execute_result",
          "data": {
            "text/plain": [
              "'File written in /content/src/test_MIS.cu'"
            ],
            "application/vnd.google.colaboratory.intrinsic+json": {
              "type": "string"
            }
          },
          "metadata": {},
          "execution_count": 54
        }
      ]
    },
    {
      "cell_type": "code",
      "source": [
        "!nvcc -dc -D__CDPRT_SUPPRESS_SYNC_DEPRECATION_WARNING src/test_MIS.cu /content/src/MIS.cu /content/drive/MyDrive/graph/graph.cpp /content/drive/MyDrive/graph/graph_d.cu\n",
        "!nvcc test_MIS.o MIS.o graph.o graph_d.o -o test_MIS\n",
        "!./test_MIS"
      ],
      "metadata": {
        "id": "BazQL-zlwDEj",
        "colab": {
          "base_uri": "https://localhost:8080/"
        },
        "outputId": "16cf10fb-1c80-49f8-8b96-bd414b0dcf32"
      },
      "execution_count": null,
      "outputs": [
        {
          "output_type": "stream",
          "name": "stdout",
          "text": [
            "230.100998 ms\n",
            "82 457 148 4 274 493 9 171 283 552 48 109 545 153 126 259 439 209 406 338 186 339 521 376 412 69 145 128 153 422 131 234 89 533 351 418 522 134 58 38 342 86 99 368 556 66 343 159 463 361 199 519 44 73 460 185 136 468 418 57 370 96 471 45 442 175 429 366 329 473 567 85 40 478 426 535 317 499 557 247 113 76 122 168 331 284 501 69 485 408 111 546 101 231 514 158 434 326 364 173 343 205 199 121 292 266 109 61 98 396 349 451 462 383 338 183 389 102 65 558 398 70 555 550 144 492 338 117 371 560 433 275 100 143 541 52 548 195 563 382 339 355 232 154 17 403 375 416 135 186 214 240 46 350 504 308 68 423 238 233 213 245 54 145 220 228 103 549 139 185 41 312 461 330 16 140 449 97 479 423 149 437 132 19 383 115 544 347 391 228 547 413 490 552 25 377 95 12 470 249 390 244 26 227 258 2 219 188 64 250 240 400 37 314 59 374 120 484 195 447 554 490 251 114 526 109 476 76 257 296 17 487 92 393 456 42 199 127 6 418 87 362 198 506 353 60 217 443 541 516 518 207 187 38 438 467 347 393 389 441 557 434 273 110 348 176 453 285 185 54 446 200 206 202 311 301 515 241 230 525 58 497 108 209 226 491 504 91 39 369 530 346 337 100 531 507 307 564 56 566 223 336 183 542 515 41 312 341 417 56 400 557 318 108 276 177 131 436 448 30 73 553 266 536 165 534 140 421 101 179 291 522 44 135 133 394 28 243 368 8 401 94 564 480 310 445 124 374 36 157 210 464 496 270 49 290 155 58 261 38 263 354 303 88 408 254 299 426 197 210 411 540 357 20 230 197 399 3 381 110 142 74 19 214 35 152 75 81 168 437 174 271 444 41 214 56 216 262 11 490 167 401 201 289 502 166 229 486 179 500 135 472 303 483 224 60 8 12 239 316 481 318 151 130 31 203 104 379 497 385 484 34 505 393 198 67 71 150 248 292 251 438 80 21 307 35 39 183 436 302 436 181 83 500 187 40 13 8 261 392 477 367 51 423 309 138 104 40 384 269 162 524 291 567 77 44 15 399 231 459 147 123 531 84 268 394 165 554 479 485 320 555 428 149 370 527 415 79 509 532 521 369 192 494 25 212 395 178 279 207 256 496 105 492 438 553 21 315 65 552 119 111 15 419 446 448 170 498 523 114 381 442 390 298 192 333 443 14 334 29 80 441 161 278 451 434 363 460 150 312 164 519 129 323 482 37 296 422 55 10 320 511 160 175 281 222 3 181 299 406 45 488 456 154 441 127 404 261 521 547 140 246 475 397 392 551 39 253 139 138 432 354 311 93 50 87 256 223 48 82 86 466 433 141 139 361 359 16 410 396 47 272 415 265 178 435 242 382 324 361 319 292 529 407 152 300 449 501 36 215 182 235 161 64 219 449 536 9 285 221 306 200 356 30 558 458 277 543 562 13 156 259 508 2 288 248 14 469 267 495 113 303 33 565 208 386 520 283 190 62 43 525 325 322 74 378 526 29 42 323 215 236 118 22 49 394 360 310 10 349 116 25 295 277 339 478 203 265 102 122 435 558 194 372 409 553 341 313 146 293 202 98 446 520 469 121 440 180 74 513 67 469 125 365 60 203 225 233 215 18 416 470 90 26 80 405 342 264 283 429 322 477 395 184 151 22 524 493 559 274 218 101 4 149 471 201 506 176 363 107 352 228 379 27 528 430 132 72 328 53 567 426 78 112 295 24 92 467 211 1 147 455 273 318 236 246 523 456 245 145 425 4 54 356 419 304 210 225 294 194 322 237 189 373 157 90 375 146 207 38 309 137 51 217 151 335 484 523 554 344 234 539 495 79 42 213 489 234 516 262 93 474 115 530 184 520 77 290 275 108 427 358 407 447 373 483 270 387 103 10 191 146 59 409 507 238 327 186 516 561 340 450 288 517 169 420 138 7 388 380 287 249 87 465 218 388 448 321 403 364 532 220 454 404 266 252 274 115 402 372 297 68 130 495 345 431 304 107 305 270 260 63 482 547 32 486 502 28 566 450 282 386 385 538 156 106 204 196 452 367 137 255 510 319 396 454 245 193 353 111 237 313 205 550 188 172 23 328 512 419 181 317 453 565 233 101 223 193 537 33 527 155 414 293 226 405 204 371 285 7 332 513 286 342 280 105 352 102 239 365 402 5 13 413 464 505 417 48 503 424 216 491 5 169 78 343 163 181 485 11 124 381 346 224 429 480 308 97 515 530 "
          ]
        }
      ]
    }
  ]
}