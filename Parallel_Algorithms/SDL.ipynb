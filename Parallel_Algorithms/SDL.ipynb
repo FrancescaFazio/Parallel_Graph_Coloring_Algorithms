{
  "nbformat": 4,
  "nbformat_minor": 0,
  "metadata": {
    "colab": {
      "provenance": [],
      "gpuType": "T4"
    },
    "kernelspec": {
      "name": "python3",
      "display_name": "Python 3"
    },
    "language_info": {
      "name": "python"
    },
    "accelerator": "GPU"
  },
  "cells": [
    {
      "cell_type": "code",
      "source": [
        "from google.colab import drive\n",
        "drive.mount('/content/drive', force_remount=True)"
      ],
      "metadata": {
        "colab": {
          "base_uri": "https://localhost:8080/"
        },
        "id": "6j6-ds-xpcU0",
        "outputId": "b107422a-fd2d-4f4d-afae-d9411b660dfe"
      },
      "execution_count": 1,
      "outputs": [
        {
          "output_type": "stream",
          "name": "stdout",
          "text": [
            "Mounted at /content/drive\n"
          ]
        }
      ]
    },
    {
      "cell_type": "code",
      "source": [
        "!pip install git+https://github.com/andreinechaev/nvcc4jupyter.git\n",
        "%load_ext nvcc_plugin"
      ],
      "metadata": {
        "colab": {
          "base_uri": "https://localhost:8080/"
        },
        "id": "K-FXuH5NpdEH",
        "outputId": "396e42fb-cc44-4d9a-e7f6-525f18bea097"
      },
      "execution_count": 2,
      "outputs": [
        {
          "output_type": "stream",
          "name": "stdout",
          "text": [
            "Collecting git+https://github.com/andreinechaev/nvcc4jupyter.git\n",
            "  Cloning https://github.com/andreinechaev/nvcc4jupyter.git to /tmp/pip-req-build-108fya84\n",
            "  Running command git clone --filter=blob:none --quiet https://github.com/andreinechaev/nvcc4jupyter.git /tmp/pip-req-build-108fya84\n",
            "  Resolved https://github.com/andreinechaev/nvcc4jupyter.git to commit 0a71d56e5dce3ff1f0dd2c47c29367629262f527\n",
            "  Preparing metadata (setup.py) ... \u001b[?25l\u001b[?25hdone\n",
            "Building wheels for collected packages: NVCCPlugin\n",
            "  Building wheel for NVCCPlugin (setup.py) ... \u001b[?25l\u001b[?25hdone\n",
            "  Created wheel for NVCCPlugin: filename=NVCCPlugin-0.0.2-py3-none-any.whl size=4294 sha256=5874dbbce7bb70dfd258202b85e35fb961a912628daf6bd523ec0d9e8948c476\n",
            "  Stored in directory: /tmp/pip-ephem-wheel-cache-du4dbrwj/wheels/a8/b9/18/23f8ef71ceb0f63297dd1903aedd067e6243a68ea756d6feea\n",
            "Successfully built NVCCPlugin\n",
            "Installing collected packages: NVCCPlugin\n",
            "Successfully installed NVCCPlugin-0.0.2\n",
            "created output directory at /content/src\n",
            "Out bin /content/result.out\n"
          ]
        }
      ]
    },
    {
      "cell_type": "code",
      "execution_count": 57,
      "metadata": {
        "colab": {
          "base_uri": "https://localhost:8080/",
          "height": 35
        },
        "id": "rd7JJpbjpblG",
        "outputId": "d9099866-9f2b-4385-9b79-51d3abf29907"
      },
      "outputs": [
        {
          "output_type": "execute_result",
          "data": {
            "text/plain": [
              "'File written in /content/src/SDL.cu'"
            ],
            "application/vnd.google.colaboratory.intrinsic+json": {
              "type": "string"
            }
          },
          "metadata": {},
          "execution_count": 57
        }
      ],
      "source": [
        "%%cuda --name SDL.cu\n",
        "\n",
        "#include \"/content/drive/MyDrive/graphcoloring/graph/coloring.h\"\n",
        "#include \"/content/drive/MyDrive/graphcoloring/graph/graph.h\"\n",
        "#include \"/content/drive/MyDrive/graphcoloring/graph/graph_d.h\"\n",
        "#include \"/content/drive/MyDrive/graphcoloring/utils/common.h\"\n",
        "\n",
        "#define THREADxBLOCK 128\n",
        "\n",
        "using namespace std;\n",
        "\n",
        "__global__ void setDegrees(GraphStruct *str, uint k, uint weight){\n",
        "    uint n = str->nodeSize;\n",
        "\n",
        "    for (int idx = threadIdx.x + blockIdx.x * blockDim.x; idx < n; idx += blockDim.x*gridDim.x) {\n",
        "        uint offset = str->cumDegs[idx];\n",
        "        uint originalDeg = str->cumDegs[idx + 1] - str->cumDegs[idx];\n",
        "        uint inducedDeg = 0;\n",
        "\n",
        "        for (uint i = 0; i < originalDeg; i++){\n",
        "            uint neighID = str->neighs[offset + i];\n",
        "            if(str->weights[neighID] == -1) inducedDeg += 1;\n",
        "        }\n",
        "\n",
        "        if (inducedDeg <= k && str->weights[idx] == -1) str->weights[idx] = weight;\n",
        "    }\n",
        "}\n",
        "\n",
        "void initDegrees(GraphStruct *str){\n",
        "    uint degree = 1;\n",
        "    uint weigth = 1;\n",
        "    uint n = str->nodeSize;\n",
        "\n",
        "    dim3 threads ( THREADxBLOCK);\n",
        "    dim3 blocks ((n + threads.x - 1) / threads.x, 1, 1 );\n",
        "\n",
        "    bool flag = true;\n",
        "\n",
        "    while(flag){\n",
        "        for(int i = 0; i < n; i++){\n",
        "            setDegrees <<< 1, 1 >>> (str, degree, weigth);\n",
        "            cudaDeviceSynchronize();\n",
        "\n",
        "            flag = false;\n",
        "\n",
        "            for(int j = 0; j < n; j++){\n",
        "                if(str->weights[j] == -1) flag = true;\n",
        "\t\t        }\n",
        "            for(int j = 0; j < n; j++){\n",
        "                if(str->weights[j] == weigth){\n",
        "                    weigth += 1;\n",
        "                    break;\n",
        "                }\n",
        "\t\t        }\n",
        "\n",
        "            if(!flag) break;\n",
        "\n",
        "        }\n",
        "        degree += 1;\n",
        "    }\n",
        "}\n",
        "\n",
        "__global__ void findCandidates (Coloring* col, GraphStruct *str, uint* degrees, uint* weigths, bool* candidateNodes) {\n",
        "\tuint idx = threadIdx.x + blockDim.x * blockIdx.x;\n",
        "\n",
        "\tif (idx >= str->nodeSize)\n",
        "\t\treturn;\n",
        "\n",
        "\tif (col->coloring[idx])\n",
        "\t\treturn;\n",
        "\n",
        "\tuint offset = str->cumDegs[idx];\n",
        "\tuint deg = str->cumDegs[idx + 1] - str->cumDegs[idx];\n",
        "\n",
        "\tbool candidate = true;\n",
        "    for (uint j = 0; j < deg; j++) {\n",
        "\t    uint neighID = str->neighs[offset + j];\n",
        "\t\tif (col->coloring[neighID] == 0 &&\n",
        "\t\t\t\t((degrees[idx] < degrees[neighID]) ||\n",
        "\t\t\t\t((degrees[idx] = degrees[neighID]) && (weigths[idx] < weigths[neighID])))) {\n",
        "\t\t\tcandidate = false;\n",
        "\t\t}\n",
        "\t}\n",
        "\n",
        "    if(candidate){\n",
        "        candidateNodes[idx] = true;\n",
        "    }\n",
        "}\n",
        "\n",
        "__global__ void colorer(Coloring * col, GraphStruct *str){\n",
        "\tint n = str->nodeSize;\n",
        "\n",
        "\tfor (int i = threadIdx.x+blockIdx.x*blockDim.x; i < n; i += blockDim.x*gridDim.x) {\n",
        "\t\tbool flag = true; // vera sse il nodo ha peso locale massimo\n",
        "\n",
        "\t\t// ignora i nodi già colorati\n",
        "\t\tif ((col->coloring[i] != -1)) continue;\n",
        "\n",
        "\t\tint iWeight = str->weights[i];\n",
        "\n",
        "\t\t// guarda i pesi del vicinato\n",
        "\t\tuint offset = str->cumDegs[i];\n",
        "\t\tuint deg = str->cumDegs[i + 1] - str->cumDegs[i];\n",
        "\n",
        "\t\tfor (uint j = 0; j < deg; j++) {\n",
        "\t\t\tuint neighID = str->neighs[offset + j];\n",
        "\t\t\tint jColor = col->coloring[neighID];\n",
        "\n",
        "\t\t\tif ((jColor != -1) || (i == neighID)) continue;\n",
        "\n",
        "\t\t\tint jWeight = str->weights[neighID];\n",
        "\t\t\tuint neighDeg = str->cumDegs[neighID + 1] - str->cumDegs[neighID];\n",
        "\t\t\tif ((deg < neighDeg) || ((deg == neighDeg) && (iWeight < jWeight))) flag = false;\n",
        "\t\t}\n",
        "\n",
        "\t\t// colora solo se sei il nodo di peso massimo\n",
        "\t\tif (flag){\n",
        "\t\t\tbool* forbidden;\n",
        "\t\t\tcudaMalloc((void**) &forbidden, n * sizeof(bool));\n",
        "\t\t\tmemset(forbidden, false, n);\n",
        "\n",
        "\t\t\tfor (uint j = 0; j < deg; j++) {\n",
        "\t\t\t\tuint neighID = str->neighs[offset + j];\n",
        "\t\t\t\tif(col->coloring[neighID] != -1) forbidden[col->coloring[neighID]] = true;\n",
        "\n",
        "\t\t\t}\n",
        "\n",
        "\t\t\tfor(uint j = 0; j < n; j++){\n",
        "\t\t\t\tif(forbidden[j] == false){\n",
        "\t\t\t\t\tcol->coloring[i] = j;\n",
        "\t\t\t\t\tbreak;\n",
        "\t\t\t\t}\n",
        "\t\t\t}\n",
        "\t\tfree(forbidden);\n",
        "\t\t}\n",
        "\t}\n",
        "}\n",
        "\n",
        "void h_swap(int* array, int idx_a, int idx_b){\n",
        "    int tmp = array[idx_a];\n",
        "    array[idx_a] = array[idx_b];\n",
        "    array[idx_b] = tmp;\n",
        "\n",
        "    return;\n",
        "}\n",
        "\n",
        "void FYshuffle(int * weights, uint n){\n",
        "    for(int i = 0; i < n; i++){\n",
        "        int swapIdx = (rand() % (n - i)) + i;\n",
        "        h_swap(weights, i, swapIdx);\n",
        "    }\n",
        "}\n",
        "\n",
        "Coloring* graphColoring(GraphStruct *str) {\n",
        "\tint n = str->nodeSize;\n",
        "\tColoring* col;\n",
        "\tCHECK(cudaMallocManaged(&col, sizeof(Coloring)));\n",
        "\tcol->uncoloredNodes = true;\n",
        "\n",
        "    CHECK(cudaMallocManaged(&(col->coloring), n * sizeof(int)));\n",
        "\tmemset(col->coloring, -1 ,n * sizeof(int));\n",
        "\t// allocate space on the GPU for the random states\n",
        "\n",
        "\tdim3 threads ( THREADxBLOCK);\n",
        "\tdim3 blocks ((str->nodeSize + threads.x - 1) / threads.x, 1, 1 );\n",
        "\n",
        "    initDegrees(str);\n",
        "\tfor (int i = 0; i < n; i++){\n",
        "        printf(\"%d \", str->weights[i]);\n",
        "    }\n",
        "    printf(\"\\n\");\n",
        "\n",
        "  //print_d <<< 1, 1 >>> (str, true);\n",
        "\n",
        "\tbool flag = false;\n",
        "\tfor(int c = 0; c < n; c++){\n",
        "\t\tcol->numOfColors = c;\n",
        "\t\tcolorer<<<blocks, threads>>>(col, str);\n",
        "\t\tcudaDeviceSynchronize();\n",
        "\n",
        "\t\tfor(int i=0; i<n; i++){\n",
        "\t\t\t\tif(col->coloring[i] == -1){\n",
        "\t\t\t\t\tflag = true;\n",
        "\t\t\t\t}\n",
        "\t\t}\n",
        "\n",
        "\t\tif(!flag) break;\n",
        "\t\telse flag = false;\n",
        "\n",
        "\t}\n",
        "\n",
        "    return col;\n",
        "}"
      ]
    },
    {
      "cell_type": "code",
      "source": [
        "%%cuda --name test_SDL.cu\n",
        "\n",
        "#include \"/content/drive/MyDrive/graphcoloring/graph/coloring.h\"\n",
        "\n",
        "\n",
        "int main(void) {\n",
        "\tunsigned int n = 100;\t\t // number of nodes for random graphs\n",
        "\tfloat prob = 1;\t\t\t\t    // density (percentage) for random graphs\n",
        "\tstd::default_random_engine eng{0};  // fixed seed\n",
        "\n",
        "\tsrand(time(0));\n",
        "  cudaEvent_t start, stop;\n",
        "  cudaEventCreate(&start);\n",
        "  cudaEventCreate(&stop);\n",
        "\n",
        "\t// new graph with n nodes\n",
        "\tGraph graph(n,1);\n",
        "\n",
        "\t// generate a random graph\n",
        "\tgraph.randGraph(prob,eng);\n",
        "\n",
        "\t// get the graph struct\n",
        "\tGraphStruct *str = graph.getStruct();\n",
        "\n",
        "  cudaEventRecord(start);\n",
        "\n",
        "\tColoring* col = graphColoring(str);\n",
        "\tcudaDeviceSynchronize();\n",
        "\n",
        "\tcudaEventRecord(stop);\n",
        "  cudaEventSynchronize(stop);\n",
        "\n",
        "\t//Stampo in millisecondi quanto tempo ci ha messo a colorare il grafo.\n",
        "  float milliseconds = 0;\n",
        "  cudaEventElapsedTime(&milliseconds, start, stop);\n",
        "  printf(\"%f ms\\n\", milliseconds);\n",
        "\n",
        "\tuint maxColor = col->coloring[0];\n",
        " \tprintf(\"Coloratura trovata: \");\n",
        "\tfor(int i = 0; i < str->nodeSize; i++){\n",
        "\t\t\tif(maxColor < col->coloring[i]) maxColor = col->coloring[i];\n",
        "\t\t\tprintf(\"%d \", col->coloring[i]);\n",
        "\t}\n",
        "\tprintf(\"\\nColore massimo: %d\", maxColor+1);\n",
        "\n",
        "\treturn EXIT_SUCCESS;\n",
        "}"
      ],
      "metadata": {
        "colab": {
          "base_uri": "https://localhost:8080/",
          "height": 35
        },
        "id": "h_eqbMCzpvFX",
        "outputId": "c83e9412-fa0d-4cc2-b120-ad81e2d0acb2"
      },
      "execution_count": 55,
      "outputs": [
        {
          "output_type": "execute_result",
          "data": {
            "text/plain": [
              "'File written in /content/src/test_SDL.cu'"
            ],
            "application/vnd.google.colaboratory.intrinsic+json": {
              "type": "string"
            }
          },
          "metadata": {},
          "execution_count": 55
        }
      ]
    },
    {
      "cell_type": "code",
      "source": [
        "!nvcc -dc src/test_SDL.cu /content/src/SDL.cu /content/drive/MyDrive/graphcoloring/graph/graph.cpp /content/drive/MyDrive/graphcoloring/graph/graph_d.cu\n",
        "!nvcc test_SDL.o SDL.o graph.o graph_d.o -o test_SDL\n",
        "!./test_SDL"
      ],
      "metadata": {
        "colab": {
          "base_uri": "https://localhost:8080/"
        },
        "id": "8tTD303trByB",
        "outputId": "1c584351-0de9-40c8-a5d8-bdd9a263fac4"
      },
      "execution_count": 58,
      "outputs": [
        {
          "output_type": "stream",
          "name": "stdout",
          "text": [
            "1 1 1 1 1 1 1 1 1 1 1 1 1 1 1 1 1 1 1 1 1 1 1 1 1 1 1 1 1 1 1 1 1 1 1 1 1 1 1 1 1 1 1 1 1 1 1 1 1 1 1 1 1 1 1 1 1 1 1 1 1 1 1 1 1 1 1 1 1 1 1 1 1 1 1 1 1 1 1 1 1 1 1 1 1 1 1 1 1 1 1 1 1 1 1 1 1 1 1 1 \n",
            "5323.665527 ms\n",
            "Coloratura trovata: 2 2 2 2 2 2 2 2 2 2 2 2 2 2 2 2 2 2 2 2 2 2 2 2 2 2 2 2 2 2 2 2 1 1 1 1 1 1 1 1 1 1 1 1 1 1 1 1 1 1 1 1 1 1 1 1 1 1 1 1 1 1 1 1 1 1 1 1 1 1 1 1 1 1 1 1 1 1 1 1 1 1 1 1 1 1 1 1 1 1 1 1 1 1 1 1 0 0 0 0 \n",
            "Colore massimo: 3"
          ]
        }
      ]
    }
  ]
}