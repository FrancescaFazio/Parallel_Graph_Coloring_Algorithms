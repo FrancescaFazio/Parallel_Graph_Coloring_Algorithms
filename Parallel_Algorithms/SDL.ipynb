{
  "nbformat": 4,
  "nbformat_minor": 0,
  "metadata": {
    "colab": {
      "provenance": [],
      "gpuType": "T4"
    },
    "kernelspec": {
      "name": "python3",
      "display_name": "Python 3"
    },
    "language_info": {
      "name": "python"
    },
    "accelerator": "GPU"
  },
  "cells": [
    {
      "cell_type": "code",
      "source": [
        "from google.colab import drive\n",
        "drive.mount('/content/drive', force_remount=True)"
      ],
      "metadata": {
        "id": "PKXE4h6fLCqP",
        "colab": {
          "base_uri": "https://localhost:8080/"
        },
        "outputId": "0c3b257d-4eea-4da0-b2a6-3be8354d98cd"
      },
      "execution_count": 1,
      "outputs": [
        {
          "output_type": "stream",
          "name": "stdout",
          "text": [
            "Mounted at /content/drive\n"
          ]
        }
      ]
    },
    {
      "cell_type": "code",
      "source": [
        "!pip install git+https://github.com/andreinechaev/nvcc4jupyter.git\n",
        "%load_ext nvcc_plugin"
      ],
      "metadata": {
        "id": "_xmoXdL2LFMW",
        "colab": {
          "base_uri": "https://localhost:8080/"
        },
        "outputId": "1463aaa8-6286-4e30-bb50-a8159a901320"
      },
      "execution_count": 2,
      "outputs": [
        {
          "output_type": "stream",
          "name": "stdout",
          "text": [
            "Collecting git+https://github.com/andreinechaev/nvcc4jupyter.git\n",
            "  Cloning https://github.com/andreinechaev/nvcc4jupyter.git to /tmp/pip-req-build-zgf4383x\n",
            "  Running command git clone --filter=blob:none --quiet https://github.com/andreinechaev/nvcc4jupyter.git /tmp/pip-req-build-zgf4383x\n",
            "  Resolved https://github.com/andreinechaev/nvcc4jupyter.git to commit 0a71d56e5dce3ff1f0dd2c47c29367629262f527\n",
            "  Preparing metadata (setup.py) ... \u001b[?25l\u001b[?25hdone\n",
            "Building wheels for collected packages: NVCCPlugin\n",
            "  Building wheel for NVCCPlugin (setup.py) ... \u001b[?25l\u001b[?25hdone\n",
            "  Created wheel for NVCCPlugin: filename=NVCCPlugin-0.0.2-py3-none-any.whl size=4295 sha256=ec10e475d63d52eee341337989527887b927d4d2d2785f748582acc2c1e0479e\n",
            "  Stored in directory: /tmp/pip-ephem-wheel-cache-_g63n38b/wheels/a8/b9/18/23f8ef71ceb0f63297dd1903aedd067e6243a68ea756d6feea\n",
            "Successfully built NVCCPlugin\n",
            "Installing collected packages: NVCCPlugin\n",
            "Successfully installed NVCCPlugin-0.0.2\n",
            "created output directory at /content/src\n",
            "Out bin /content/result.out\n"
          ]
        }
      ]
    },
    {
      "cell_type": "code",
      "source": [
        "%%cuda --name SDL.cu\n",
        "\n",
        "#include \"/content/drive/MyDrive/graph/coloring.h\"\n",
        "#include \"/content/drive/MyDrive/graph/graph_d.h\"\n",
        "\n",
        "#define THREADxBLOCK 128\n",
        "\n",
        "using namespace std;\n",
        "\n",
        "__global__ void checkUnweightedNodes(uint n, bool* unweightedNodes, bool * flag) {\n",
        "    uint idx = threadIdx.x + blockDim.x * blockIdx.x;\n",
        "    if (idx >= n)\n",
        "        return;\n",
        "\n",
        "    if(unweightedNodes[idx] == false)\n",
        "        *flag = true;\n",
        "}\n",
        "\n",
        "__global__ void setDegrees(GraphStruct *str, uint * degrees, bool * weightedNodes, uint k, uint weight){\n",
        "    uint idx = threadIdx.x + blockDim.x * blockIdx.x;\n",
        "    uint n = str->nodeSize;\n",
        "\n",
        "    if(idx >= n)\n",
        "        return;\n",
        "\n",
        "    uint offset = str->cumDegs[idx];\n",
        "\tuint originalDeg = str->cumDegs[idx + 1] - str->cumDegs[idx];\n",
        "    uint inducedDeg = 0;\n",
        "\n",
        "    for (uint i = 0; i < originalDeg; i++){\n",
        "\t    uint neighID = str->neighs[offset + i];\n",
        "        if(!weightedNodes[neighID])\n",
        "            inducedDeg += 1;\n",
        "    }\n",
        "\n",
        "\n",
        "    // warp divergence???\n",
        "    if (inducedDeg <= k && !weightedNodes[idx]){\n",
        "        degrees[idx] = weight;\n",
        "        weightedNodes[idx] = true;\n",
        "    }\n",
        "\n",
        "}\n",
        "\n",
        "void initDegrees(GraphStruct *str, uint * degrees, bool * weightedNodes){\n",
        "    uint degree = 1;\n",
        "    uint weigth = 1;\n",
        "\n",
        "    dim3 threads ( THREADxBLOCK);\n",
        "    dim3 blocks ((str->nodeSize + threads.x - 1) / threads.x, 1, 1 );\n",
        "\n",
        "    for(int i = 0; i < str->nodeSize; i++){\n",
        "        setDegrees <<< blocks,threads >>> (str, degrees, weightedNodes, degree, weigth);\n",
        "        cudaDeviceSynchronize();\n",
        "\n",
        "        degree += 1;\n",
        "        weigth += 1;\n",
        "     //potrei ferarmi direttamente qujando arrivo a n?\n",
        "    }\n",
        "}\n",
        "\n",
        "__global__ void findCandidates (Coloring* col, GraphStruct *str, uint* degrees, uint* weigths, bool* candidateNodes) {\n",
        "\tuint idx = threadIdx.x + blockDim.x * blockIdx.x;\n",
        "\n",
        "\tif (idx >= str->nodeSize)\n",
        "\t\treturn;\n",
        "\n",
        "\tif (col->coloring[idx] != 0)\n",
        "\t\treturn;\n",
        "\n",
        "\tuint offset = str->cumDegs[idx];\n",
        "\tuint deg = str->cumDegs[idx + 1] - str->cumDegs[idx];\n",
        "\n",
        "\tbool candidate = true;\n",
        "    for (uint j = 0; j < deg; j++) {\n",
        "\t    uint neighID = str->neighs[offset + j];\n",
        "\n",
        "\t\tif (col->coloring[neighID] == 0 &&\n",
        "\t\t\t\t((degrees[idx] < degrees[neighID]) ||\n",
        "\t\t\t\t((degrees[idx] == degrees[neighID]) && (weigths[idx] < weigths[neighID])))) {\n",
        "\t\t\tcandidate = false;\n",
        "\t\t}\n",
        "\t}\n",
        "\n",
        "    if(candidate){\n",
        "        candidateNodes[idx] = true;\n",
        "    }\n",
        "}\n",
        "\n",
        "__global__ void colorer (Coloring* col, GraphStruct *str, bool* candidateNodes) {\n",
        "\tuint idx = threadIdx.x + blockDim.x * blockIdx.x;\n",
        "\n",
        "\tif (idx >= str->nodeSize)\n",
        "\t\treturn;\n",
        "\n",
        "\tif (col->coloring[idx] != 0)\n",
        "\t\treturn;\n",
        "\n",
        "\tuint offset = str->cumDegs[idx];\n",
        "\tuint deg = str->cumDegs[idx + 1] - str->cumDegs[idx];\n",
        "\n",
        "    if(candidateNodes[idx]){\n",
        "        bool* forbidden;\n",
        "        uint n = str->nodeSize;\n",
        "        cudaMalloc((void**) &forbidden, n * sizeof(bool));\n",
        "        memset(forbidden, false, n);\n",
        "\n",
        "        for (uint j = 0; j < deg; j++) {\n",
        "                uint neighID = str->neighs[offset + j];\n",
        "                forbidden[col->coloring[neighID]] = true;\n",
        "        }\n",
        "\n",
        "        for(uint i = 1; i <= n; i++){\n",
        "            if(forbidden[i] == false){\n",
        "                col->coloring[idx] = i;\n",
        "                free(forbidden);\n",
        "                return;\n",
        "            }\n",
        "        }\n",
        "        free(forbidden);\n",
        "    }\n",
        "\n",
        "    else\n",
        "        col->uncoloredNodes = true;\n",
        "\n",
        "}\n",
        "\n",
        "void h_swap(uint* array, int idx_a, int idx_b){\n",
        "    int tmp = array[idx_a];\n",
        "    array[idx_a] = array[idx_b];\n",
        "    array[idx_b] = tmp;\n",
        "\n",
        "    return;\n",
        "}\n",
        "\n",
        "void FYshuffle(uint * weights, uint n){\n",
        "    for(int i = 0; i < n; i++){\n",
        "        int swapIdx = (rand() % (n - i)) + i;\n",
        "        h_swap(weights, i, swapIdx);\n",
        "    }\n",
        "}\n",
        "\n",
        "Coloring* graphColoring(GraphStruct *str) {\n",
        "    Coloring* col;\n",
        "\tCHECK(cudaMallocManaged(&col, sizeof(Coloring)));\n",
        "\tuint n = str->nodeSize;\n",
        "\tcol->uncoloredNodes = true;\n",
        "\n",
        "    CHECK(cudaMallocManaged( &(col->coloring), n * sizeof(uint)));\n",
        "\tmemset(col->coloring,0,n);\n",
        "\n",
        "\tuint* weigths;\n",
        "    uint* degrees;\n",
        "    curandState_t* states;\n",
        "    bool * weightedNodes;\n",
        "    cudaMallocManaged((void**) &weightedNodes, n * sizeof(bool));\n",
        "    cudaMalloc((void**) &states, n * sizeof(curandState_t));\n",
        "    cudaMallocManaged((void**) &weigths, n * sizeof(uint));\n",
        "    cudaMallocManaged((void**) &degrees, n * sizeof(uint));\n",
        "    dim3 threads ( THREADxBLOCK);\n",
        "    dim3 blocks ((str->nodeSize + threads.x - 1) / threads.x, 1, 1 );\n",
        "\n",
        "    memset(weightedNodes, false, n);\n",
        "    for (int i = 0; i < n; i++){\n",
        "        weigths[i] = i;\n",
        "    }\n",
        "    FYshuffle(weigths, n);\n",
        "\n",
        "    initDegrees(str, degrees, weightedNodes);\n",
        "\t\tprintf(\"Pesi: \");\n",
        "\t\tfor (int i = 0; i < n; i++){\n",
        "        printf(\"%d \", weigths[i]);\n",
        "    }\n",
        "\t\tprintf(\"\\n\");\n",
        "\n",
        "\t\tprintf(\"Gradi: \");\n",
        "    for (int i = 0; i < n; i++){\n",
        "        printf(\"%d \", degrees[i]);\n",
        "    }\n",
        "\t\tprintf(\"\\n\");\n",
        "\n",
        "\n",
        "\tbool* candidateNodes;\n",
        "\tcudaMallocManaged((void**) &candidateNodes, n * sizeof(bool));\n",
        "\tcudaMemset(candidateNodes, false, n);\n",
        "\n",
        "    col->numOfColors = 0;\n",
        "\twhile (col->uncoloredNodes) {\n",
        "        col->uncoloredNodes = false;\n",
        "        col->numOfColors++;\n",
        "        findCandidates <<< blocks, threads >>> (col, str, degrees, weigths, candidateNodes);\n",
        "\t\t\t\tcudaDeviceSynchronize();\n",
        "        colorer <<< blocks, threads >>> (col, str, candidateNodes);\n",
        "        cudaDeviceSynchronize();\n",
        "\t}\n",
        "\n",
        "\tcudaFree(states);\n",
        "\treturn col;\n",
        "}"
      ],
      "metadata": {
        "id": "xNuyf1szLRbG",
        "colab": {
          "base_uri": "https://localhost:8080/",
          "height": 35
        },
        "outputId": "f6ee8ad6-4b36-45d3-ea2a-2a9667c9c6b5"
      },
      "execution_count": 44,
      "outputs": [
        {
          "output_type": "execute_result",
          "data": {
            "text/plain": [
              "'File written in /content/src/SDL.cu'"
            ],
            "application/vnd.google.colaboratory.intrinsic+json": {
              "type": "string"
            }
          },
          "metadata": {},
          "execution_count": 44
        }
      ]
    },
    {
      "cell_type": "code",
      "source": [
        "%%cuda --name test_SDL.cu\n",
        "\n",
        "#include \"/content/drive/MyDrive/graph/coloring.h\"\n",
        "#include \"/content/drive/MyDrive/graph/graph_d.h\"\n",
        "\n",
        "\n",
        "int main(void) {\n",
        "\tunsigned int n = 7;\t\t // number of nodes for random graphs\n",
        "\tfloat prob = 0.5;\t\t\t\t    // density (percentage) for random graphs\n",
        "\tstd::default_random_engine eng{0};  // fixed seed\n",
        "\n",
        "\tsrand(time(0));\n",
        "  cudaEvent_t start, stop;\n",
        "  cudaEventCreate(&start);\n",
        "  cudaEventCreate(&stop);\n",
        "\n",
        "\t// new graph with n nodes\n",
        "\tGraph graph(n,1);\n",
        "\n",
        "\t// generate a random graph\n",
        "\tgraph.randGraph(prob,eng);\n",
        "\n",
        "\t// get the graph struct\n",
        "\tGraphStruct *str = graph.getStruct();\n",
        "\tprint_d<<<1,1>>>(str, true);\n",
        "\n",
        "  cudaEventRecord(start);\n",
        "\n",
        "\tColoring* col = graphColoring(str);\n",
        "\tcudaDeviceSynchronize();\n",
        "\n",
        "\tcudaEventRecord(stop);\n",
        "  cudaEventSynchronize(stop);\n",
        "\n",
        "\n",
        "\n",
        "\t//Stampo in millisecondi quanto tempo ci ha messo a colorare il grafo.\n",
        "  float milliseconds = 0;\n",
        "  cudaEventElapsedTime(&milliseconds, start, stop);\n",
        "  printf(\"%f ms\\n\", milliseconds);\n",
        "\n",
        "\t//printColoring(col, str, 1);\n",
        " printf(\"Coloratura trovata: \");\n",
        "\tfor(int i = 0; i < str->nodeSize; i++){\n",
        "\t\t\tprintf(\"%d \", col->coloring[i]);\n",
        "\t}\n",
        "\n",
        "\treturn EXIT_SUCCESS;\n",
        "}"
      ],
      "metadata": {
        "id": "T0DDBNg4LJRF",
        "colab": {
          "base_uri": "https://localhost:8080/",
          "height": 35
        },
        "outputId": "9ff0d427-66f3-46a5-c950-422e1d09e8fa"
      },
      "execution_count": 45,
      "outputs": [
        {
          "output_type": "execute_result",
          "data": {
            "text/plain": [
              "'File written in /content/src/test_SDL.cu'"
            ],
            "application/vnd.google.colaboratory.intrinsic+json": {
              "type": "string"
            }
          },
          "metadata": {},
          "execution_count": 45
        }
      ]
    },
    {
      "cell_type": "code",
      "source": [
        "!nvcc -dc src/test_SDL.cu /content/src/SDL.cu /content/drive/MyDrive/graph/graph.cpp /content/drive/MyDrive/graph/graph_d.cu\n",
        "!nvcc test_SDL.o SDL.o graph.o graph_d.o -o test_SDL\n",
        "!./test_SDL"
      ],
      "metadata": {
        "colab": {
          "base_uri": "https://localhost:8080/"
        },
        "id": "T00l75_XHsMA",
        "outputId": "acb0fd19-7225-48b6-afc9-87b5c3bb37fd"
      },
      "execution_count": 46,
      "outputs": [
        {
          "output_type": "stream",
          "name": "stdout",
          "text": [
            "** Graph (num node: 7, num edges: 9)\n",
            "  node(0)[3]-> 1 2 3 \n",
            "  node(1)[4]-> 0 2 4 5 \n",
            "  node(2)[2]-> 0 1 \n",
            "  node(3)[3]-> 0 5 6 \n",
            "  node(4)[2]-> 1 6 \n",
            "  node(5)[2]-> 1 3 \n",
            "  node(6)[2]-> 3 4 \n",
            "\n",
            "Pesi: 0 3 5 2 1 6 4 \n",
            "Gradi: 3 3 2 3 2 2 2 \n",
            "6.350848 ms\n",
            "Coloratura trovata: 2 1 3 1 3 2 2 "
          ]
        }
      ]
    }
  ]
}