{
  "nbformat": 4,
  "nbformat_minor": 0,
  "metadata": {
    "colab": {
      "provenance": [],
      "gpuType": "T4"
    },
    "kernelspec": {
      "name": "python3",
      "display_name": "Python 3"
    },
    "language_info": {
      "name": "python"
    },
    "accelerator": "GPU"
  },
  "cells": [
    {
      "cell_type": "code",
      "source": [
        "from google.colab import drive\n",
        "drive.mount('/content/drive')"
      ],
      "metadata": {
        "colab": {
          "base_uri": "https://localhost:8080/"
        },
        "id": "hedMSdKV7GM3",
        "outputId": "565aa315-c034-4a1f-c014-6312efe94ea1"
      },
      "execution_count": 1,
      "outputs": [
        {
          "output_type": "stream",
          "name": "stdout",
          "text": [
            "Mounted at /content/drive\n"
          ]
        }
      ]
    },
    {
      "cell_type": "code",
      "execution_count": 2,
      "metadata": {
        "colab": {
          "base_uri": "https://localhost:8080/"
        },
        "id": "lAnhCR0CXEKq",
        "outputId": "249c6cd8-f85c-4e05-ea08-2d7c270c5a63"
      },
      "outputs": [
        {
          "output_type": "stream",
          "name": "stdout",
          "text": [
            "Collecting git+https://github.com/andreinechaev/nvcc4jupyter.git\n",
            "  Cloning https://github.com/andreinechaev/nvcc4jupyter.git to /tmp/pip-req-build-l2_bahk2\n",
            "  Running command git clone --filter=blob:none --quiet https://github.com/andreinechaev/nvcc4jupyter.git /tmp/pip-req-build-l2_bahk2\n",
            "  Resolved https://github.com/andreinechaev/nvcc4jupyter.git to commit 0a71d56e5dce3ff1f0dd2c47c29367629262f527\n",
            "  Preparing metadata (setup.py) ... \u001b[?25l\u001b[?25hdone\n",
            "Building wheels for collected packages: NVCCPlugin\n",
            "  Building wheel for NVCCPlugin (setup.py) ... \u001b[?25l\u001b[?25hdone\n",
            "  Created wheel for NVCCPlugin: filename=NVCCPlugin-0.0.2-py3-none-any.whl size=4295 sha256=73fa773c11d5a049ea231f7655a8fcf5416c9e2ab2c8cf9f97a602518f30511f\n",
            "  Stored in directory: /tmp/pip-ephem-wheel-cache-ibu8is0m/wheels/a8/b9/18/23f8ef71ceb0f63297dd1903aedd067e6243a68ea756d6feea\n",
            "Successfully built NVCCPlugin\n",
            "Installing collected packages: NVCCPlugin\n",
            "Successfully installed NVCCPlugin-0.0.2\n",
            "created output directory at /content/src\n",
            "Out bin /content/result.out\n"
          ]
        }
      ],
      "source": [
        "!pip install git+https://github.com/andreinechaev/nvcc4jupyter.git\n",
        "%load_ext nvcc_plugin"
      ]
    },
    {
      "cell_type": "code",
      "source": [
        "%%cuda --name MIS.cu\n",
        "\n",
        "#include \"/content/drive/MyDrive/graph/coloring.h\"\n",
        "#include \"/content/drive/MyDrive/graph/graph_d.h\"\n",
        "\n",
        "#define THREADxBLOCK 128\n",
        "\n",
        "using namespace std;\n",
        "\n",
        "__device__ bool result = true;\n",
        "\n",
        "__global__ void findIS (Coloring* col, GraphStruct *str, uint* weights, bool *currentIS, bool *X) {\n",
        "\tuint idx = threadIdx.x + blockDim.x * blockIdx.x;\n",
        "\n",
        "\tif(X[idx])\n",
        "\t\t\treturn;\n",
        "\n",
        "\tif (idx >= str->nodeSize)\n",
        "\t\treturn;\n",
        "\n",
        "\tif (col->coloring[idx]){\n",
        "\t\t\tX[idx] = true;\n",
        "\t\t\treturn;\n",
        "\t}\n",
        "\n",
        "\n",
        "\tuint offset = str->cumDegs[idx];\n",
        "\tuint deg = str->cumDegs[idx + 1] - str->cumDegs[idx];\n",
        "\n",
        "\tbool candidate = true;\n",
        "\tfor (uint j = 0; j < deg; j++) {\n",
        "\t\tuint neighID = str->neighs[offset + j];\n",
        "\t\tif (!X[neighID] && !col->coloring[neighID] &&\n",
        "\t\t\t\t((weights[idx] < weights[neighID]) ||\n",
        "\t\t\t\t((weights[idx] == weights[neighID]) && idx < neighID))) {\n",
        "\t\t\tcandidate = false;\n",
        "\t\t}\n",
        "\t}\n",
        "\tif (candidate) {\n",
        "\t\tcurrentIS[idx] = true;\n",
        "    X[idx] = true;\n",
        "    for (uint j = 0; j < deg; j++) {\n",
        "        uint neighID = str->neighs[offset + j];\n",
        "        X[neighID] = true;\n",
        "    }\n",
        "\t}\n",
        "}\n",
        "\n",
        "__global__ void checkX(GraphStruct *str, bool* X) {\n",
        "\t\tuint idx = threadIdx.x + blockDim.x * blockIdx.x;\n",
        "\t\tif (idx >= str->nodeSize)\n",
        "\t\t\t\treturn;\n",
        "\n",
        "    if(X[idx] == false)\n",
        "      result = true;\n",
        "}\n",
        "\n",
        "__global__ void colorer(Coloring* col, GraphStruct *str, bool *currentIS){\n",
        "  uint idx = threadIdx.x + blockDim.x * blockIdx.x;\n",
        "\n",
        "\tif (idx >= str->nodeSize)\n",
        "\t\treturn;\n",
        "\n",
        "\tif (col->coloring[idx])\n",
        "\t\treturn;\n",
        "\n",
        "  if(currentIS[idx])\n",
        "      col->coloring[idx] = col->numOfColors;\n",
        "\telse\n",
        "\t \t\tcol->uncoloredNodes = true;\n",
        "}\n",
        "\n",
        "__global__ void maximalIS(Coloring * col, GraphStruct *str, uint * weigths, bool * currentIS, bool * X){\n",
        "\t\tdim3 threads ( THREADxBLOCK);\n",
        "\t\tdim3 blocks ((str->nodeSize + threads.x - 1) / threads.x, 1, 1 );\n",
        "\t\tresult = true;\n",
        "\n",
        "\t\twhile(result){\n",
        "\t\t\t\tresult = false;\n",
        "        findIS <<< blocks, threads >>> (col, str, weigths, currentIS, X);\n",
        "\n",
        "\t\t    //cudaDeviceSynchronize();\n",
        "\t\t\t\tcheckX <<< blocks, threads >>> (str, X);\n",
        "\n",
        "    }\n",
        "}\n",
        "\n",
        "Coloring* graphColoring(GraphStruct *str){\n",
        "  Coloring* col;\n",
        "\tCHECK(cudaMallocManaged(&col, sizeof(Coloring)));\n",
        "\tuint n = str->nodeSize;\n",
        "\tcol->uncoloredNodes = true;\n",
        "\n",
        "\t// cudaMalloc for arrays of struct Coloring\n",
        "\tCHECK(cudaMallocManaged( &(col->coloring), n * sizeof(uint)));\n",
        "\tmemset(col->coloring,0,n);\n",
        "\n",
        "\t// allocate space on the GPU for the random states\n",
        "\tcurandState_t* states;\n",
        "\tuint* weigths;\n",
        "\tcudaMalloc((void**) &states, n * sizeof(curandState_t));\n",
        "\tcudaMalloc((void**) &weigths, n * sizeof(uint));\n",
        "\tdim3 threads ( THREADxBLOCK);\n",
        "\tdim3 blocks ((str->nodeSize + threads.x - 1) / threads.x, 1, 1 );\n",
        "\tuint seed = 0;\n",
        "\tinit <<< blocks, threads >>> (seed, states, weigths, n);\n",
        "\n",
        "\tbool* currentMIS;\n",
        "\tcudaMalloc((void**) &currentMIS, n * sizeof(bool));\n",
        "\tcudaMemset(currentMIS, false, n);\n",
        "\n",
        "\tbool* X;\n",
        "\tcudaMalloc((void**) &X, n * sizeof(bool));\n",
        "\tcudaMemset(X, false, n);\n",
        "\n",
        "\tcol->numOfColors = 0;\n",
        "\n",
        "\tprint_d <<< 1, 1 >>> (str, true);\n",
        "\n",
        "\twhile (col->uncoloredNodes) {\n",
        "\t\tcol->uncoloredNodes = false;\n",
        "\t\tcol->numOfColors++;\n",
        "\t\tcudaMemset(currentMIS, false, n);\n",
        "\t\tcudaMemset(X, false, n);\n",
        "\n",
        "\t\tmaximalIS <<< 1, 1 >>> (col, str, weigths, currentMIS, X);\n",
        "\n",
        "    colorer <<< blocks, threads >>> (col, str, currentMIS);\n",
        "\t\tcudaDeviceSynchronize();\n",
        "\t}\n",
        "\n",
        "\n",
        "  cudaFree(states);\n",
        "\tcudaFree(weigths);\n",
        "  return col;\n",
        "}\n",
        "\n",
        "__global__ void init (uint seed, curandState_t* states, uint* numbers, uint n) {\n",
        "\tuint idx = blockIdx.x * blockDim.x + threadIdx.x;\n",
        "\tif (idx > n)\n",
        "\t\t\treturn;\n",
        "\tcurand_init(seed, idx, 0, &states[idx]);\n",
        "\tnumbers[idx] = curand(&states[idx])%n*n;\n",
        "}\n"
      ],
      "metadata": {
        "colab": {
          "base_uri": "https://localhost:8080/",
          "height": 35
        },
        "id": "xbJJmT-0n73m",
        "outputId": "27def756-9457-46d6-cbcc-8492f5a69135"
      },
      "execution_count": 92,
      "outputs": [
        {
          "output_type": "execute_result",
          "data": {
            "text/plain": [
              "'File written in /content/src/MIS.cu'"
            ],
            "application/vnd.google.colaboratory.intrinsic+json": {
              "type": "string"
            }
          },
          "metadata": {},
          "execution_count": 92
        }
      ]
    },
    {
      "cell_type": "code",
      "source": [
        "%%cuda --name test_MIS.cu\n",
        "\n",
        "#include \"/content/drive/MyDrive/graph/coloring.h\"\n",
        "\n",
        "using namespace std;\n",
        "\n",
        "int main(void) {\n",
        "\tunsigned int n = 10;\t\t // number of nodes for random graphs\n",
        "\tfloat prob = 0.5;\t\t\t\t    // density (percentage) for random graphs\n",
        "\tstd::default_random_engine eng{0};  // fixed seed\n",
        "\n",
        "  srand(time(0));\n",
        "  cudaEvent_t start, stop;\n",
        "  cudaEventCreate(&start);\n",
        "  cudaEventCreate(&stop);\n",
        "\n",
        "\t// new graph with n nodes\n",
        "\tGraph graph(n,1);\n",
        "\n",
        "\t// generate a random graph\n",
        "\tgraph.randGraph(prob,eng);\n",
        "\n",
        "\t// get the graph struct\n",
        "\tGraphStruct *str = graph.getStruct();\n",
        "\n",
        "  cudaEventRecord(start);\n",
        "\n",
        "\tColoring* col = graphColoring(str);\n",
        "\tcudaDeviceSynchronize();\n",
        "\n",
        "  cudaEventRecord(stop);\n",
        "  cudaEventSynchronize(stop);\n",
        "\n",
        "  //Stampo in millisecondi quanto tempo ci ha messo a colorare il grafo.\n",
        "  float milliseconds = 0;\n",
        "  cudaEventElapsedTime(&milliseconds, start, stop);\n",
        "  printf(\"%f ms\\n\", milliseconds);\n",
        "\n",
        "\tfor(int i = 0; i < n; i++){\n",
        "\t\t\tprintf(\"%d \", col->coloring[i]);\n",
        "\t}\n",
        "\n",
        "\t//printColoring(col, str, 1);\n",
        "\n",
        "\n",
        "\n",
        "\treturn EXIT_SUCCESS;\n",
        "}"
      ],
      "metadata": {
        "colab": {
          "base_uri": "https://localhost:8080/",
          "height": 35
        },
        "id": "vvR-M-DmoGH2",
        "outputId": "45936981-83a5-41ee-b0b8-6cd7ae39834f"
      },
      "execution_count": 89,
      "outputs": [
        {
          "output_type": "execute_result",
          "data": {
            "text/plain": [
              "'File written in /content/src/test_MIS.cu'"
            ],
            "application/vnd.google.colaboratory.intrinsic+json": {
              "type": "string"
            }
          },
          "metadata": {},
          "execution_count": 89
        }
      ]
    },
    {
      "cell_type": "code",
      "source": [
        "!nvcc -dc -D__CDPRT_SUPPRESS_SYNC_DEPRECATION_WARNING src/test_MIS.cu /content/src/MIS.cu /content/drive/MyDrive/graph/graph.cpp /content/drive/MyDrive/graph/graph_d.cu\n",
        "!nvcc test_MIS.o MIS.o graph.o graph_d.o -o test_MIS\n",
        "!./test_MIS"
      ],
      "metadata": {
        "id": "BazQL-zlwDEj",
        "colab": {
          "base_uri": "https://localhost:8080/"
        },
        "outputId": "1f9d2572-4f12-4132-c27a-e9db263bed3d"
      },
      "execution_count": 94,
      "outputs": [
        {
          "output_type": "stream",
          "name": "stdout",
          "text": [
            "** Graph (num node: 10, num edges: 23)\n",
            "  node(0)[5]-> 1 2 3 7 9 \n",
            "  node(1)[3]-> 0 2 9 \n",
            "  node(2)[5]-> 0 1 3 5 8 \n",
            "  node(3)[7]-> 0 2 4 5 6 7 9 \n",
            "  node(4)[5]-> 3 6 7 8 9 \n",
            "  node(5)[5]-> 2 3 6 8 9 \n",
            "  node(6)[4]-> 3 4 5 8 \n",
            "  node(7)[3]-> 0 3 4 \n",
            "  node(8)[4]-> 2 4 5 6 \n",
            "  node(9)[5]-> 0 1 3 4 5 \n",
            "\n",
            "6.398272 ms\n",
            "2 1 4 1 3 3 2 4 1 4 "
          ]
        }
      ]
    }
  ]
}