{
  "nbformat": 4,
  "nbformat_minor": 0,
  "metadata": {
    "colab": {
      "provenance": [],
      "gpuType": "T4"
    },
    "kernelspec": {
      "name": "python3",
      "display_name": "Python 3"
    },
    "language_info": {
      "name": "python"
    },
    "accelerator": "GPU"
  },
  "cells": [
    {
      "cell_type": "code",
      "source": [
        "from google.colab import drive\n",
        "drive.mount('/content/drive', force_remount=True)"
      ],
      "metadata": {
        "colab": {
          "base_uri": "https://localhost:8080/"
        },
        "id": "sI3Smlejuud6",
        "outputId": "f48a38d0-60d3-4540-ce8a-f589db3764d2"
      },
      "execution_count": 1,
      "outputs": [
        {
          "output_type": "stream",
          "name": "stdout",
          "text": [
            "Mounted at /content/drive\n"
          ]
        }
      ]
    },
    {
      "cell_type": "code",
      "source": [
        "!pip install git+https://github.com/andreinechaev/nvcc4jupyter.git\n",
        "%load_ext nvcc_plugin"
      ],
      "metadata": {
        "colab": {
          "base_uri": "https://localhost:8080/"
        },
        "id": "rGV70AF_uvPN",
        "outputId": "5579b49f-c42e-4d20-fa4e-4fe364a81a80"
      },
      "execution_count": 2,
      "outputs": [
        {
          "output_type": "stream",
          "name": "stdout",
          "text": [
            "Collecting git+https://github.com/andreinechaev/nvcc4jupyter.git\n",
            "  Cloning https://github.com/andreinechaev/nvcc4jupyter.git to /tmp/pip-req-build-8xsoojzo\n",
            "  Running command git clone --filter=blob:none --quiet https://github.com/andreinechaev/nvcc4jupyter.git /tmp/pip-req-build-8xsoojzo\n",
            "  Resolved https://github.com/andreinechaev/nvcc4jupyter.git to commit 0a71d56e5dce3ff1f0dd2c47c29367629262f527\n",
            "  Preparing metadata (setup.py) ... \u001b[?25l\u001b[?25hdone\n",
            "Building wheels for collected packages: NVCCPlugin\n",
            "  Building wheel for NVCCPlugin (setup.py) ... \u001b[?25l\u001b[?25hdone\n",
            "  Created wheel for NVCCPlugin: filename=NVCCPlugin-0.0.2-py3-none-any.whl size=4295 sha256=378229e145a106bb2408e758f8ea51ac9049578db73a1b165aae60a1d2325ced\n",
            "  Stored in directory: /tmp/pip-ephem-wheel-cache-haxqf1zm/wheels/a8/b9/18/23f8ef71ceb0f63297dd1903aedd067e6243a68ea756d6feea\n",
            "Successfully built NVCCPlugin\n",
            "Installing collected packages: NVCCPlugin\n",
            "Successfully installed NVCCPlugin-0.0.2\n",
            "created output directory at /content/src\n",
            "Out bin /content/result.out\n"
          ]
        }
      ]
    },
    {
      "cell_type": "code",
      "source": [
        "%%cuda --name LDF.cu\n",
        "\n",
        "#include \"/content/drive/MyDrive/graph/coloring.h\"\n",
        "#include \"/content/drive/MyDrive/graph/graph_d.h\"\n",
        "\n",
        "#define THREADxBLOCK 128\n",
        "\n",
        "using namespace std;\n",
        "\n",
        "__global__ void findIS (Coloring* col, GraphStruct *str, uint* weigths, bool* candidateNodes) {\n",
        "\tuint idx = threadIdx.x + blockDim.x * blockIdx.x;\n",
        "\n",
        "\tif (idx >= str->nodeSize)\n",
        "\t\treturn;\n",
        "\n",
        "\tif (col->coloring[idx])\n",
        "\t\treturn;\n",
        "\n",
        "\tuint offset = str->cumDegs[idx];\n",
        "\tuint deg = str->cumDegs[idx + 1] - str->cumDegs[idx];\n",
        "\n",
        "\tbool candidate = true;\n",
        "  for (uint j = 0; j < deg; j++) {\n",
        "\t\tuint neighID = str->neighs[offset + j];\n",
        "    uint neighDeg = str->cumDegs[neighID + 1] - str->cumDegs[neighID];\n",
        "\t\tif (col->coloring[neighID] == 0 &&\n",
        "\t\t\t\t((deg < neighDeg) ||\n",
        "\t\t\t\t((deg == neighDeg) && (weigths[idx] < weigths[neighID])))) {\n",
        "\t\t\tcandidate = false;\n",
        "\t\t}\n",
        "\t}\n",
        "\n",
        "\n",
        " if(candidate){\n",
        "\t\tcandidateNodes[idx] = true;\n",
        "  }\n",
        "\n",
        "}\n",
        "\n",
        "__global__ void colorer (Coloring* col, GraphStruct *str, bool* candidateNodes) {\n",
        "\tuint idx = threadIdx.x + blockDim.x * blockIdx.x;\n",
        "\n",
        "\tif (idx >= str->nodeSize)\n",
        "\t\treturn;\n",
        "\n",
        "\tif (col->coloring[idx])\n",
        "\t\treturn;\n",
        "\n",
        "\tuint offset = str->cumDegs[idx];\n",
        "\tuint deg = str->cumDegs[idx + 1] - str->cumDegs[idx];\n",
        "\n",
        "  if(candidateNodes[idx]){\n",
        "      bool* forbidden;\n",
        "\t\t\tuint n = str->nodeSize;\n",
        "\t\t\tcudaMalloc((void**) &forbidden, n * sizeof(bool));\n",
        "\t\t\tmemset(forbidden, false, n);\n",
        "\n",
        "\t\t\tfor (uint j = 0; j < deg; j++) {\n",
        "\t\t\t\t\tuint neighID = str->neighs[offset + j];\n",
        "\t\t\t\t\tforbidden[col->coloring[neighID]] = true;\n",
        "\t\t\t}\n",
        "\n",
        "\t\t\tfor(uint i = 1; i <= n; i++){\n",
        "\t\t\t\tif(forbidden[i] == false){\n",
        "\t\t\t\t\tcol->coloring[idx] = i;\n",
        "\t\t\t\t\tfree(forbidden);\n",
        "\t\t\t\t\treturn;\n",
        "\t\t\t\t}\n",
        "\t\t\t}\n",
        "\t\tfree(forbidden);\n",
        "\t}\n",
        "\n",
        "\telse\n",
        "\t \t\tcol->uncoloredNodes = true;\n",
        "\n",
        "}\n",
        "\n",
        "Coloring* graphColoring(GraphStruct *str) {\n",
        "  Coloring* col;\n",
        "\tCHECK(cudaMallocManaged(&col, sizeof(Coloring)));\n",
        "\tuint n = str->nodeSize;\n",
        "\tcol->uncoloredNodes = true;\n",
        "\n",
        "  CHECK(cudaMallocManaged( &(col->coloring), n * sizeof(uint)));\n",
        "\tmemset(col->coloring,0,n);\n",
        "\n",
        "\tuint* weigths;\n",
        "  curandState_t* states;\n",
        "\tcudaMalloc((void**) &states, n * sizeof(curandState_t));\n",
        "\tcudaMalloc((void**) &weigths, n * sizeof(uint));\n",
        "\tdim3 threads ( THREADxBLOCK);\n",
        "\tdim3 blocks ((str->nodeSize + threads.x - 1) / threads.x, 1, 1 );\n",
        "\tuint seed = 0;\n",
        "\n",
        "\tinit <<< blocks, threads >>> (seed, states, weigths, n);\n",
        "\n",
        "\tbool* candidateNodes;\n",
        "\tcudaMalloc((void**) &candidateNodes, n * sizeof(bool));\n",
        "\tcudaMemset(candidateNodes, false, n);\n",
        "\n",
        "\n",
        "\n",
        "  col->numOfColors = 0;\n",
        "\twhile (col->uncoloredNodes) {\n",
        "\t\tcol->uncoloredNodes = false;\n",
        "    col->numOfColors++;\n",
        "\t\tfindIS <<< blocks, threads >>> (col, str, weigths, candidateNodes);\n",
        "\t\tcolorer <<< blocks, threads >>> (col, str, candidateNodes);\n",
        "\t\tcudaDeviceSynchronize();\n",
        "\t}\n",
        "\n",
        "\tcudaFree(states);\n",
        "\treturn col;\n",
        "}\n",
        "\n",
        "__global__ void init (uint seed, curandState_t* states, uint* weigths, uint n) {\n",
        "\t\tuint idx  =threadIdx.x + blockDim.x * blockIdx.x;\n",
        "\n",
        "\t\tif(idx > n){\n",
        "\t\t\treturn;\n",
        "\t\t}\n",
        "\n",
        "\t\tweigths[idx] = idx;\n",
        "}\n"
      ],
      "metadata": {
        "colab": {
          "base_uri": "https://localhost:8080/",
          "height": 35
        },
        "id": "8KANMcekuxf8",
        "outputId": "700eb523-b329-4cbe-b625-2babebe01356"
      },
      "execution_count": 8,
      "outputs": [
        {
          "output_type": "execute_result",
          "data": {
            "text/plain": [
              "'File written in /content/src/LDF.cu'"
            ],
            "application/vnd.google.colaboratory.intrinsic+json": {
              "type": "string"
            }
          },
          "metadata": {},
          "execution_count": 8
        }
      ]
    },
    {
      "cell_type": "code",
      "source": [
        "%%cuda --name test_LDF.cu\n",
        "\n",
        "#include \"/content/drive/MyDrive/graph/coloring.h\"\n",
        "#include \"/content/drive/MyDrive/graph/graph_d.h\"\n",
        "\n",
        "\n",
        "int main(void) {\n",
        "\tunsigned int n = 5;\t\t // number of nodes for random graphs\n",
        "\tfloat prob = 0.5;\t\t\t\t    // density (percentage) for random graphs\n",
        "\tstd::default_random_engine eng{0};  // fixed seed\n",
        "\n",
        "\tsrand(time(0));\n",
        "  cudaEvent_t start, stop;\n",
        "  cudaEventCreate(&start);\n",
        "  cudaEventCreate(&stop);\n",
        "\n",
        "\t// new graph with n nodes\n",
        "\tGraph graph(n,1);\n",
        "\n",
        "\t// generate a random graph\n",
        "\tgraph.randGraph(prob,eng);\n",
        "\n",
        "\t// get the graph struct\n",
        "\tGraphStruct *str = graph.getStruct();\n",
        "\n",
        "  cudaEventRecord(start);\n",
        "\n",
        "\tprint_d<<<1,1>>>(str, true);\n",
        "\n",
        "\tColoring* col = graphColoring(str);\n",
        "\tcudaDeviceSynchronize();\n",
        "\n",
        "\tcudaEventRecord(stop);\n",
        "  cudaEventSynchronize(stop);\n",
        "\n",
        "\t//Stampo in millisecondi quanto tempo ci ha messo a colorare il grafo.\n",
        "  float milliseconds = 0;\n",
        "  cudaEventElapsedTime(&milliseconds, start, stop);\n",
        "  printf(\"%f ms\\n\", milliseconds);\n",
        "\n",
        "\t//printColoring(col, str, 1);\n",
        " printf(\"Coloratura trovata: \");\n",
        "\tfor(int i = 0; i < str->nodeSize; i++){\n",
        "\t\t\tprintf(\"%d \", col->coloring[i]);\n",
        "\t}\n",
        "\n",
        "\treturn EXIT_SUCCESS;\n",
        "}"
      ],
      "metadata": {
        "colab": {
          "base_uri": "https://localhost:8080/",
          "height": 35
        },
        "id": "PZsedQ7MuyK1",
        "outputId": "a404d528-d0f5-439a-8230-6a994fa67750"
      },
      "execution_count": 6,
      "outputs": [
        {
          "output_type": "execute_result",
          "data": {
            "text/plain": [
              "'File written in /content/src/test_LDF.cu'"
            ],
            "application/vnd.google.colaboratory.intrinsic+json": {
              "type": "string"
            }
          },
          "metadata": {},
          "execution_count": 6
        }
      ]
    },
    {
      "cell_type": "code",
      "source": [
        "!nvcc -dc src/test_LDF.cu /content/src/LDF.cu /content/drive/MyDrive/graph/graph.cpp /content/drive/MyDrive/graph/graph_d.cu\n",
        "!nvcc test_LDF.o LDF.o graph.o graph_d.o -o test_LDF\n",
        "!./test_LDF"
      ],
      "metadata": {
        "colab": {
          "base_uri": "https://localhost:8080/"
        },
        "id": "MOIWgSWM2n1i",
        "outputId": "ff9e7156-5956-420b-ebb8-0141cd4df278"
      },
      "execution_count": 9,
      "outputs": [
        {
          "output_type": "stream",
          "name": "stdout",
          "text": [
            "** Graph (num node: 5, num edges: 6)\n",
            "  node(0)[3]-> 1 2 3 \n",
            "  node(1)[2]-> 0 4 \n",
            "  node(2)[2]-> 0 4 \n",
            "  node(3)[2]-> 0 4 \n",
            "  node(4)[3]-> 1 2 3 \n",
            "\n",
            "0 0 0 0 0 1 1 1 1 1 2 2 2 2 2 3 3 3 3 3 4 4 4 4 4 \n",
            "\n",
            "\n",
            "\n",
            "\n",
            "0 0 0 1 1 1 2 2 2 3 3 3 4 4 4 \n",
            "\n",
            "\n",
            "2.863136 ms\n",
            "Coloratura trovata: 1 2 2 2 1 "
          ]
        }
      ]
    }
  ]
}