{
  "nbformat": 4,
  "nbformat_minor": 0,
  "metadata": {
    "colab": {
      "provenance": [],
      "gpuType": "T4"
    },
    "kernelspec": {
      "name": "python3",
      "display_name": "Python 3"
    },
    "language_info": {
      "name": "python"
    },
    "accelerator": "GPU"
  },
  "cells": [
    {
      "cell_type": "code",
      "source": [
        "from google.colab import drive\n",
        "drive.mount('/content/drive', force_remount=True)"
      ],
      "metadata": {
        "colab": {
          "base_uri": "https://localhost:8080/"
        },
        "id": "sI3Smlejuud6",
        "outputId": "cc9f9a2d-e59a-43f2-d42f-b17f62d88f7b"
      },
      "execution_count": 1,
      "outputs": [
        {
          "output_type": "stream",
          "name": "stdout",
          "text": [
            "Mounted at /content/drive\n"
          ]
        }
      ]
    },
    {
      "cell_type": "code",
      "source": [
        "!pip install git+https://github.com/andreinechaev/nvcc4jupyter.git\n",
        "%load_ext nvcc_plugin"
      ],
      "metadata": {
        "colab": {
          "base_uri": "https://localhost:8080/"
        },
        "id": "rGV70AF_uvPN",
        "outputId": "273fd4c2-1906-4e0f-fdc4-9f6207960606"
      },
      "execution_count": 2,
      "outputs": [
        {
          "output_type": "stream",
          "name": "stdout",
          "text": [
            "Collecting git+https://github.com/andreinechaev/nvcc4jupyter.git\n",
            "  Cloning https://github.com/andreinechaev/nvcc4jupyter.git to /tmp/pip-req-build-pioe62_o\n",
            "  Running command git clone --filter=blob:none --quiet https://github.com/andreinechaev/nvcc4jupyter.git /tmp/pip-req-build-pioe62_o\n",
            "  Resolved https://github.com/andreinechaev/nvcc4jupyter.git to commit 0a71d56e5dce3ff1f0dd2c47c29367629262f527\n",
            "  Preparing metadata (setup.py) ... \u001b[?25l\u001b[?25hdone\n",
            "Building wheels for collected packages: NVCCPlugin\n",
            "  Building wheel for NVCCPlugin (setup.py) ... \u001b[?25l\u001b[?25hdone\n",
            "  Created wheel for NVCCPlugin: filename=NVCCPlugin-0.0.2-py3-none-any.whl size=4295 sha256=9c042482803bf03117874d3f45bc4ec4350d69c1176a50951a15900b1e3f120f\n",
            "  Stored in directory: /tmp/pip-ephem-wheel-cache-1suoejl2/wheels/a8/b9/18/23f8ef71ceb0f63297dd1903aedd067e6243a68ea756d6feea\n",
            "Successfully built NVCCPlugin\n",
            "Installing collected packages: NVCCPlugin\n",
            "Successfully installed NVCCPlugin-0.0.2\n",
            "created output directory at /content/src\n",
            "Out bin /content/result.out\n"
          ]
        }
      ]
    },
    {
      "cell_type": "code",
      "source": [
        "%%cuda --name LDF.cu\n",
        "\n",
        "#include \"/content/drive/MyDrive/graph/coloring.h\"\n",
        "#include \"/content/drive/MyDrive/graph/graph_d.h\"\n",
        "\n",
        "#define THREADxBLOCK 128\n",
        "\n",
        "using namespace std;\n",
        "\n",
        "__global__ void findIS (Coloring* col, GraphStruct *str, uint* weigths, bool* candidateNodes) {\n",
        "\tuint idx = threadIdx.x + blockDim.x * blockIdx.x;\n",
        "\n",
        "\tif (idx >= str->nodeSize)\n",
        "\t\treturn;\n",
        "\n",
        "\tif (col->coloring[idx])\n",
        "\t\treturn;\n",
        "\n",
        "\tuint offset = str->cumDegs[idx];\n",
        "\tuint deg = str->cumDegs[idx + 1] - str->cumDegs[idx];\n",
        "\n",
        "\tbool candidate = true;\n",
        "  for (uint j = 0; j < deg; j++) {\n",
        "\t\tuint neighID = str->neighs[offset + j];\n",
        "    uint neighDeg = str->cumDegs[neighID + 1] - str->cumDegs[neighID];\n",
        "\t\tif (col->coloring[neighID] == 0 &&\n",
        "\t\t\t\t((deg < neighDeg) ||\n",
        "\t\t\t\t((deg == neighDeg) && (weigths[idx] < weigths[neighID])))) {\n",
        "\t\t\tcandidate = false;\n",
        "\t\t}\n",
        "\t}\n",
        "\n",
        "\n",
        " if(candidate){\n",
        "\t\tcandidateNodes[idx] = true;\n",
        "  }\n",
        "\n",
        "}\n",
        "\n",
        "__global__ void colorer (Coloring* col, GraphStruct *str, bool* candidateNodes) {\n",
        "\tuint idx = threadIdx.x + blockDim.x * blockIdx.x;\n",
        "\n",
        "\tif (idx >= str->nodeSize)\n",
        "\t\treturn;\n",
        "\n",
        "\tif (col->coloring[idx])\n",
        "\t\treturn;\n",
        "\n",
        "\tuint offset = str->cumDegs[idx];\n",
        "\tuint deg = str->cumDegs[idx + 1] - str->cumDegs[idx];\n",
        "\n",
        "  if(candidateNodes[idx]){\n",
        "      bool* forbidden;\n",
        "\t\t\tuint n = str->nodeSize;\n",
        "\t\t\tcudaMalloc((void**) &forbidden, n * sizeof(bool));\n",
        "\t\t\tmemset(forbidden, false, n);\n",
        "\n",
        "\t\t\tfor (uint j = 0; j < deg; j++) {\n",
        "\t\t\t\t\tuint neighID = str->neighs[offset + j];\n",
        "\t\t\t\t\tforbidden[col->coloring[neighID]] = true;\n",
        "\t\t\t}\n",
        "\n",
        "\t\t\tfor(uint i = 0; i <= n; i++){\n",
        "\t\t\t\tif(forbidden[i] == false){\n",
        "\t\t\t\t\tcol->coloring[idx] = i;\n",
        "\t\t\t\t\tfree(forbidden);\n",
        "\t\t\t\t\treturn;\n",
        "\t\t\t\t}\n",
        "\t\t\t}\n",
        "\t\tfree(forbidden);\n",
        "\t}\n",
        "\n",
        "\telse\n",
        "\t \t\tcol->uncoloredNodes = true;\n",
        "\n",
        "}\n",
        "\n",
        "Coloring* graphColoring(GraphStruct *str) {\n",
        "  Coloring* col;\n",
        "\tCHECK(cudaMallocManaged(&col, sizeof(Coloring)));\n",
        "\tuint n = str->nodeSize;\n",
        "\tcol->uncoloredNodes = true;\n",
        "\n",
        "  CHECK(cudaMallocManaged( &(col->coloring), n * sizeof(uint)));\n",
        "\tmemset(col->coloring,0,n);\n",
        "\n",
        "\tuint* weigths;\n",
        "  curandState_t* states;\n",
        "\tcudaMalloc((void**) &states, n * sizeof(curandState_t));\n",
        "\tcudaMalloc((void**) &weigths, n * sizeof(uint));\n",
        "\tdim3 threads ( THREADxBLOCK);\n",
        "\tdim3 blocks ((str->nodeSize + threads.x - 1) / threads.x, 1, 1 );\n",
        "\tuint seed = 0;\n",
        "\n",
        "\tinit <<< blocks, threads >>> (seed, states, weigths, n);\n",
        "\n",
        "\tbool* candidateNodes;\n",
        "\tcudaMalloc((void**) &candidateNodes, n * sizeof(bool));\n",
        "\tcudaMemset(candidateNodes, false, n);\n",
        "\n",
        "  col->numOfColors = 0;\n",
        "\twhile (col->uncoloredNodes) {\n",
        "\t\tcol->uncoloredNodes = false;\n",
        "    col->numOfColors++;\n",
        "\t\tfindIS <<< blocks, threads >>> (col, str, weigths, candidateNodes);\n",
        "\t\tcolorer <<< blocks, threads >>> (col, str, candidateNodes);\n",
        "\t\tcudaDeviceSynchronize();\n",
        "\t}\n",
        "\n",
        "\tcudaFree(states);\n",
        "\treturn col;\n",
        "}\n",
        "\n",
        "__global__ void init (uint seed, curandState_t* states, uint* weigths, uint n) {\n",
        "\t\tuint idx  =threadIdx.x + blockDim.x * blockIdx.x;\n",
        "\n",
        "\t\tif(idx > n){\n",
        "\t\t\treturn;\n",
        "\t\t}\n",
        "\n",
        "\t\tweigths[idx] = idx;\n",
        "}\n"
      ],
      "metadata": {
        "colab": {
          "base_uri": "https://localhost:8080/",
          "height": 35
        },
        "id": "8KANMcekuxf8",
        "outputId": "c8eca1c4-e90b-416e-a402-f59b0548bb9c"
      },
      "execution_count": 38,
      "outputs": [
        {
          "output_type": "execute_result",
          "data": {
            "text/plain": [
              "'File written in /content/src/LDF.cu'"
            ],
            "application/vnd.google.colaboratory.intrinsic+json": {
              "type": "string"
            }
          },
          "metadata": {},
          "execution_count": 38
        }
      ]
    },
    {
      "cell_type": "code",
      "source": [
        "%%cuda --name test_LDF.cu\n",
        "\n",
        "#include \"/content/drive/MyDrive/graph/coloring.h\"\n",
        "\n",
        "\n",
        "int main(void) {\n",
        "\tunsigned int n = 1000;\t\t // number of nodes for random graphs\n",
        "\tfloat prob = 0.5;\t\t\t\t    // density (percentage) for random graphs\n",
        "\tstd::default_random_engine eng{0};  // fixed seed\n",
        "\n",
        "\tsrand(time(0));\n",
        "  cudaEvent_t start, stop;\n",
        "  cudaEventCreate(&start);\n",
        "  cudaEventCreate(&stop);\n",
        "\n",
        "\t// new graph with n nodes\n",
        "\tGraph graph(n,1);\n",
        "\n",
        "\t// generate a random graph\n",
        "\tgraph.randGraph(prob,eng);\n",
        "\n",
        "\t// get the graph struct\n",
        "\tGraphStruct *str = graph.getStruct();\n",
        "\n",
        "  cudaEventRecord(start);\n",
        "\n",
        "\tColoring* col = graphColoring(str);\n",
        "\tcudaDeviceSynchronize();\n",
        "\n",
        "\tcudaEventRecord(stop);\n",
        "  cudaEventSynchronize(stop);\n",
        "\n",
        "\t//Stampo in millisecondi quanto tempo ci ha messo a colorare il grafo.\n",
        "  float milliseconds = 0;\n",
        "  cudaEventElapsedTime(&milliseconds, start, stop);\n",
        "  printf(\"%f ms\\n\", milliseconds);\n",
        "\n",
        "\t//printColoring(col, str, 1);\n",
        " printf(\"Coloratura trovata: \");\n",
        "\tfor(int i = 0; i < str->nodeSize; i++){\n",
        "\t\t\tprintf(\"%d \", col->coloring[i]);\n",
        "\t}\n",
        "\n",
        "\treturn EXIT_SUCCESS;\n",
        "}"
      ],
      "metadata": {
        "colab": {
          "base_uri": "https://localhost:8080/",
          "height": 35
        },
        "id": "PZsedQ7MuyK1",
        "outputId": "651e8e56-a728-402b-83b2-c4408db84a86"
      },
      "execution_count": 4,
      "outputs": [
        {
          "output_type": "execute_result",
          "data": {
            "text/plain": [
              "'File written in /content/src/test_LDF.cu'"
            ],
            "application/vnd.google.colaboratory.intrinsic+json": {
              "type": "string"
            }
          },
          "metadata": {},
          "execution_count": 4
        }
      ]
    },
    {
      "cell_type": "code",
      "source": [
        "!nvcc -dc src/test_LDF.cu /content/src/LDF.cu /content/drive/MyDrive/graph/graph.cpp /content/drive/MyDrive/graph/graph_d.cu\n",
        "!nvcc test_LDF.o LDF.o graph.o graph_d.o -o test_LDF\n",
        "!./test_LDF"
      ],
      "metadata": {
        "colab": {
          "base_uri": "https://localhost:8080/"
        },
        "id": "MOIWgSWM2n1i",
        "outputId": "2279c772-cb81-4603-f055-242dd9b23a8a"
      },
      "execution_count": 39,
      "outputs": [
        {
          "output_type": "stream",
          "name": "stdout",
          "text": [
            "318.668793 ms\n",
            "Coloratura trovata: 10 62 90 102 97 9 64 5 61 118 37 26 36 87 55 111 48 4 16 107 32 101 34 71 86 14 66 69 113 111 63 59 68 27 85 48 33 103 106 12 113 83 64 84 106 27 14 72 23 110 4 76 78 96 109 60 17 103 99 92 3 102 40 58 113 35 117 18 109 89 64 62 78 44 41 53 63 34 87 75 88 22 4 89 94 60 14 97 71 14 101 96 110 21 85 21 82 68 42 86 10 30 29 27 106 20 3 33 101 31 23 62 19 61 55 75 2 98 35 50 5 105 36 27 93 27 24 61 87 49 112 41 20 49 55 83 60 11 12 113 122 6 26 8 92 3 95 6 43 69 105 10 118 30 24 26 51 19 100 49 47 83 45 89 25 32 56 74 31 28 19 44 57 81 43 69 39 9 28 39 112 13 88 3 63 44 77 41 45 117 21 20 59 76 34 27 39 14 95 59 38 43 28 42 46 41 95 21 0 9 61 25 112 108 113 90 9 46 111 81 122 61 43 63 18 2 56 39 18 42 116 28 32 79 66 48 29 99 37 121 55 116 98 76 52 115 45 47 70 40 79 30 103 15 55 28 89 14 51 14 33 80 107 70 54 40 2 32 28 6 7 80 64 74 72 27 104 37 69 53 73 18 34 32 14 92 16 72 18 22 102 0 86 23 82 57 35 56 11 19 71 52 43 58 61 22 3 1 104 59 75 94 103 31 2 16 60 50 38 24 35 58 66 58 69 1 64 96 1 86 51 46 109 120 37 47 99 60 4 108 111 66 107 111 87 91 39 17 17 70 57 114 15 93 10 85 29 98 30 15 100 8 79 123 77 54 63 59 106 55 113 53 107 49 8 102 116 30 13 116 118 57 24 61 9 80 34 42 12 22 44 20 6 4 114 81 36 76 91 6 20 82 42 38 77 71 45 121 33 13 22 91 46 87 34 99 36 56 39 57 13 24 26 42 65 120 2 7 73 105 5 8 48 119 102 56 54 95 29 64 91 119 78 45 7 46 98 78 101 84 60 34 95 54 77 90 90 89 6 38 89 17 56 61 78 65 118 2 50 44 104 69 65 8 33 52 35 92 38 71 91 69 68 12 45 47 49 24 20 12 97 35 36 63 37 112 35 39 105 12 2 115 67 68 109 58 102 115 44 109 96 70 6 51 8 71 106 94 18 4 74 82 65 1 16 34 55 75 46 5 64 104 32 40 73 7 53 36 93 33 53 45 110 43 75 73 5 40 16 107 63 89 14 4 94 13 20 76 103 2 101 18 70 57 67 101 41 121 50 19 58 33 86 14 57 26 79 52 84 60 24 123 18 28 121 42 6 95 92 85 100 23 111 29 86 49 24 32 88 59 70 85 117 77 83 21 86 40 76 7 74 84 51 31 1 13 51 97 60 26 95 7 17 2 61 41 59 65 10 55 62 92 85 80 84 16 76 91 2 76 104 100 35 37 25 89 88 5 23 94 109 54 27 29 99 7 53 1 27 43 66 114 101 10 73 117 96 69 93 56 72 57 80 48 85 66 62 12 50 39 81 81 15 11 11 52 68 79 28 93 39 96 18 31 93 111 47 13 63 17 51 19 12 79 3 44 80 110 69 17 87 20 36 101 116 106 7 79 36 16 110 78 11 62 41 104 37 110 67 124 84 23 104 107 21 85 100 64 58 50 50 4 3 16 33 82 65 74 80 5 83 45 29 11 11 56 63 26 31 92 72 100 105 68 74 23 21 25 62 115 15 56 88 30 25 42 78 98 81 38 98 50 33 40 75 108 116 8 54 73 1 113 64 31 74 67 118 36 65 38 9 54 73 73 18 31 20 117 120 32 82 40 30 70 105 44 91 64 68 100 23 49 36 26 23 8 99 103 15 4 21 57 49 44 19 25 117 82 19 67 48 99 31 90 71 62 83 17 12 55 25 77 39 71 25 105 119 78 102 99 78 61 79 5 77 73 90 60 48 97 98 51 88 13 26 108 47 63 68 22 112 58 68 52 17 97 108 112 8 54 95 3 65 11 47 15 107 119 87 1 29 103 84 9 35 59 46 53 41 67 51 24 48 102 11 5 91 72 7 9 37 72 93 96 27 87 80 35 1 28 15 71 29 32 22 72 65 26 83 74 99 94 102 81 3 104 11 10 75 24 43 42 120 78 66 9 60 90 43 56 114 38 67 50 25 59 22 43 94 80 49 47 58 45 6 93 97 66 13 46 10 47 12 2 66 21 57 19 3 23 83 51 52 122 53 22 77 20 46 116 "
          ]
        }
      ]
    }
  ]
}