{
  "nbformat": 4,
  "nbformat_minor": 0,
  "metadata": {
    "colab": {
      "provenance": [],
      "gpuType": "T4"
    },
    "kernelspec": {
      "name": "python3",
      "display_name": "Python 3"
    },
    "language_info": {
      "name": "python"
    },
    "accelerator": "GPU"
  },
  "cells": [
    {
      "cell_type": "code",
      "source": [
        "from google.colab import drive\n",
        "drive.mount('/content/drive', force_remount=True)"
      ],
      "metadata": {
        "id": "PKXE4h6fLCqP",
        "colab": {
          "base_uri": "https://localhost:8080/"
        },
        "outputId": "10d5ac17-a7f4-41f3-c8df-54c555bf157c"
      },
      "execution_count": 1,
      "outputs": [
        {
          "output_type": "stream",
          "name": "stdout",
          "text": [
            "Mounted at /content/drive\n"
          ]
        }
      ]
    },
    {
      "cell_type": "code",
      "source": [
        "!pip install git+https://github.com/andreinechaev/nvcc4jupyter.git\n",
        "%load_ext nvcc_plugin"
      ],
      "metadata": {
        "id": "_xmoXdL2LFMW",
        "colab": {
          "base_uri": "https://localhost:8080/"
        },
        "outputId": "75b18458-ec20-4869-b737-8f9e6337924e"
      },
      "execution_count": 2,
      "outputs": [
        {
          "output_type": "stream",
          "name": "stdout",
          "text": [
            "Collecting git+https://github.com/andreinechaev/nvcc4jupyter.git\n",
            "  Cloning https://github.com/andreinechaev/nvcc4jupyter.git to /tmp/pip-req-build-44qim6ff\n",
            "  Running command git clone --filter=blob:none --quiet https://github.com/andreinechaev/nvcc4jupyter.git /tmp/pip-req-build-44qim6ff\n",
            "  Resolved https://github.com/andreinechaev/nvcc4jupyter.git to commit 0a71d56e5dce3ff1f0dd2c47c29367629262f527\n",
            "  Preparing metadata (setup.py) ... \u001b[?25l\u001b[?25hdone\n",
            "Building wheels for collected packages: NVCCPlugin\n",
            "  Building wheel for NVCCPlugin (setup.py) ... \u001b[?25l\u001b[?25hdone\n",
            "  Created wheel for NVCCPlugin: filename=NVCCPlugin-0.0.2-py3-none-any.whl size=4295 sha256=ea30bfb19f9966633b3c85740af773545dc31e8e26b1247cd4e6e400c39fae13\n",
            "  Stored in directory: /tmp/pip-ephem-wheel-cache-8_yi12ad/wheels/a8/b9/18/23f8ef71ceb0f63297dd1903aedd067e6243a68ea756d6feea\n",
            "Successfully built NVCCPlugin\n",
            "Installing collected packages: NVCCPlugin\n",
            "Successfully installed NVCCPlugin-0.0.2\n",
            "created output directory at /content/src\n",
            "Out bin /content/result.out\n"
          ]
        }
      ]
    },
    {
      "cell_type": "code",
      "source": [
        "%%cuda --name SDL.cu\n",
        "\n",
        "#include \"/content/drive/MyDrive/graph/coloring.h\"\n",
        "#include \"/content/drive/MyDrive/graph/graph_d.h\"\n",
        "\n",
        "#define THREADxBLOCK 128\n",
        "\n",
        "__device__ bool result = true;\n",
        "\n",
        "using namespace std;\n",
        "\n",
        "__global__ void checkUnweightedNodes(uint n, bool* weightedNodes) {\n",
        "    uint idx = threadIdx.x + blockDim.x * blockIdx.x;\n",
        "    if (idx >= n)\n",
        "        return;\n",
        "\n",
        "    result = false;\n",
        "    if(weightedNodes[idx] == false){\n",
        "        result = true;\n",
        "    }\n",
        "}\n",
        "\n",
        "__global__ void setDegrees(GraphStruct *str, uint * degrees, bool * weightedNodes, uint k, uint weight){\n",
        "    uint idx = threadIdx.x + blockDim.x * blockIdx.x;\n",
        "    uint n = str->nodeSize;\n",
        "\n",
        "    if(idx >= n)\n",
        "        return;\n",
        "\n",
        "    uint offset = str->cumDegs[idx];\n",
        "\tuint originalDeg = str->cumDegs[idx + 1] - str->cumDegs[idx];\n",
        "    uint inducedDeg = 0;\n",
        "\n",
        "    for (uint i = 0; i < originalDeg; i++){\n",
        "\t    uint neighID = str->neighs[offset + i];\n",
        "        if(!weightedNodes[neighID])\n",
        "            inducedDeg += 1;\n",
        "    }\n",
        "\n",
        "\n",
        "    if (inducedDeg <= k && !weightedNodes[idx]){\n",
        "        degrees[idx] = weight;\n",
        "        weightedNodes[idx] = true;\n",
        "    }\n",
        "\n",
        "}\n",
        "\n",
        "void initDegrees(GraphStruct *str, uint * degrees, bool * weightedNodes){\n",
        "    uint degree = 1;\n",
        "    uint weigth = 1;\n",
        "\n",
        "    dim3 threads ( THREADxBLOCK);\n",
        "    dim3 blocks ((str->nodeSize + threads.x - 1) / threads.x, 1, 1 );\n",
        "\n",
        "    bool result_h = true;\n",
        "\n",
        "    while(result_h){\n",
        "        setDegrees <<< blocks,threads >>> (str, degrees, weightedNodes, degree, weigth);\n",
        "        checkUnweightedNodes <<< blocks,threads >>> (str->nodeSize, weightedNodes);\n",
        "        cudaDeviceSynchronize();\n",
        "        cudaMemcpyFromSymbol(&result_h, result, 1*sizeof(bool));\n",
        "        degree += 1;\n",
        "        weigth += 1;\n",
        "    }\n",
        "\n",
        "}\n",
        "\n",
        "__global__ void findCandidates (Coloring* col, GraphStruct *str, uint* degrees, uint* weigths, bool* candidateNodes) {\n",
        "\tuint idx = threadIdx.x + blockDim.x * blockIdx.x;\n",
        "\n",
        "\tif (idx >= str->nodeSize)\n",
        "\t\treturn;\n",
        "\n",
        "\tif (col->coloring[idx] != 0)\n",
        "\t\treturn;\n",
        "\n",
        "\tuint offset = str->cumDegs[idx];\n",
        "\tuint deg = str->cumDegs[idx + 1] - str->cumDegs[idx];\n",
        "\n",
        "\tbool candidate = true;\n",
        "    for (uint j = 0; j < deg; j++) {\n",
        "\t    uint neighID = str->neighs[offset + j];\n",
        "\n",
        "\t\tif (col->coloring[neighID] == 0 &&\n",
        "\t\t\t\t((degrees[idx] < degrees[neighID]) ||\n",
        "\t\t\t\t((degrees[idx] == degrees[neighID]) && (weigths[idx] < weigths[neighID])))) {\n",
        "\t\t\tcandidate = false;\n",
        "\t\t}\n",
        "\t}\n",
        "\n",
        "    if(candidate){\n",
        "        candidateNodes[idx] = true;\n",
        "    }\n",
        "}\n",
        "\n",
        "__global__ void colorer (Coloring* col, GraphStruct *str, bool* candidateNodes) {\n",
        "\tuint idx = threadIdx.x + blockDim.x * blockIdx.x;\n",
        "\n",
        "\tif (idx >= str->nodeSize)\n",
        "\t\treturn;\n",
        "\n",
        "\tif (col->coloring[idx] != 0)\n",
        "\t\treturn;\n",
        "\n",
        "\tuint offset = str->cumDegs[idx];\n",
        "\tuint deg = str->cumDegs[idx + 1] - str->cumDegs[idx];\n",
        "\n",
        "    if(candidateNodes[idx]){\n",
        "        bool* forbidden;\n",
        "        uint n = str->nodeSize;\n",
        "        cudaMalloc((void**) &forbidden, n * sizeof(bool));\n",
        "        memset(forbidden, false, n);\n",
        "\n",
        "        for (uint j = 0; j < deg; j++) {\n",
        "                uint neighID = str->neighs[offset + j];\n",
        "                forbidden[col->coloring[neighID]] = true;\n",
        "        }\n",
        "\n",
        "        for(uint i = 1; i <= n; i++){\n",
        "            if(forbidden[i] == false){\n",
        "                col->coloring[idx] = i;\n",
        "                free(forbidden);\n",
        "                return;\n",
        "            }\n",
        "        }\n",
        "        free(forbidden);\n",
        "    }\n",
        "\n",
        "    else\n",
        "        col->uncoloredNodes = true;\n",
        "\n",
        "}\n",
        "\n",
        "void h_swap(uint* array, int idx_a, int idx_b){\n",
        "    int tmp = array[idx_a];\n",
        "    array[idx_a] = array[idx_b];\n",
        "    array[idx_b] = tmp;\n",
        "\n",
        "    return;\n",
        "}\n",
        "\n",
        "void FYshuffle(uint * weights, uint n){\n",
        "    for(int i = 0; i < n; i++){\n",
        "        int swapIdx = (rand() % (n - i)) + i;\n",
        "        h_swap(weights, i, swapIdx);\n",
        "    }\n",
        "}\n",
        "\n",
        "Coloring* graphColoring(GraphStruct *str) {\n",
        "    Coloring* col;\n",
        "\tCHECK(cudaMallocManaged(&col, sizeof(Coloring)));\n",
        "\tuint n = str->nodeSize;\n",
        "\tcol->uncoloredNodes = true;\n",
        "\n",
        "    CHECK(cudaMallocManaged( &(col->coloring), n * sizeof(uint)));\n",
        "\tmemset(col->coloring,0,n);\n",
        "\n",
        "\tuint* weigths;\n",
        "    uint* degrees;\n",
        "    curandState_t* states;\n",
        "    bool * weightedNodes;\n",
        "    cudaMallocManaged((void**) &weightedNodes, n * sizeof(bool));\n",
        "    cudaMalloc((void**) &states, n * sizeof(curandState_t));\n",
        "    cudaMallocManaged((void**) &weigths, n * sizeof(uint));\n",
        "    cudaMallocManaged((void**) &degrees, n * sizeof(uint));\n",
        "    dim3 threads ( THREADxBLOCK);\n",
        "    dim3 blocks ((str->nodeSize + threads.x - 1) / threads.x, 1, 1 );\n",
        "\n",
        "    memset(weightedNodes, false, n);\n",
        "    for (int i = 0; i < n; i++){\n",
        "        weigths[i] = i;\n",
        "    }\n",
        "    FYshuffle(weigths, n);\n",
        "\n",
        "    initDegrees(str, degrees, weightedNodes);\n",
        "\t\tprintf(\"Pesi: \");\n",
        "\t\tfor (int i = 0; i < n; i++){\n",
        "        printf(\"%d \", weigths[i]);\n",
        "    }\n",
        "\t\tprintf(\"\\n\");\n",
        "\n",
        "\t\tprintf(\"Gradi: \");\n",
        "    for (int i = 0; i < n; i++){\n",
        "        printf(\"%d \", degrees[i]);\n",
        "    }\n",
        "\t\tprintf(\"\\n\");\n",
        "\n",
        "\n",
        "\tbool* candidateNodes;\n",
        "\tcudaMallocManaged((void**) &candidateNodes, n * sizeof(bool));\n",
        "\tcudaMemset(candidateNodes, false, n);\n",
        "\n",
        "    col->numOfColors = 0;\n",
        "\twhile (col->uncoloredNodes) {\n",
        "        col->uncoloredNodes = false;\n",
        "        col->numOfColors++;\n",
        "        findCandidates <<< blocks, threads >>> (col, str, degrees, weigths, candidateNodes);\n",
        "        colorer <<< blocks, threads >>> (col, str, candidateNodes);\n",
        "        cudaDeviceSynchronize();\n",
        "\t}\n",
        "\n",
        "\tcudaFree(states);\n",
        "\treturn col;\n",
        "}"
      ],
      "metadata": {
        "id": "xNuyf1szLRbG",
        "colab": {
          "base_uri": "https://localhost:8080/",
          "height": 35
        },
        "outputId": "837371de-f809-491c-efa3-2a45c64c56b0"
      },
      "execution_count": 16,
      "outputs": [
        {
          "output_type": "execute_result",
          "data": {
            "text/plain": [
              "'File written in /content/src/SDL.cu'"
            ],
            "application/vnd.google.colaboratory.intrinsic+json": {
              "type": "string"
            }
          },
          "metadata": {},
          "execution_count": 16
        }
      ]
    },
    {
      "cell_type": "code",
      "source": [
        "%%cuda --name test_SDL.cu\n",
        "\n",
        "#include \"/content/drive/MyDrive/graph/coloring.h\"\n",
        "#include \"/content/drive/MyDrive/graph/graph_d.h\"\n",
        "\n",
        "\n",
        "int main(void) {\n",
        "\tunsigned int n = 7;\t\t // number of nodes for random graphs\n",
        "\tfloat prob = 0.5;\t\t\t\t    // density (percentage) for random graphs\n",
        "\tstd::default_random_engine eng{0};  // fixed seed\n",
        "\n",
        "\tsrand(time(0));\n",
        "  cudaEvent_t start, stop;\n",
        "  cudaEventCreate(&start);\n",
        "  cudaEventCreate(&stop);\n",
        "\n",
        "\t// new graph with n nodes\n",
        "\tGraph graph(n,1);\n",
        "\n",
        "\t// generate a random graph\n",
        "\tgraph.randGraph(prob,eng);\n",
        "\n",
        "\t// get the graph struct\n",
        "\tGraphStruct *str = graph.getStruct();\n",
        "\tprint_d<<<1,1>>>(str, true);\n",
        "\n",
        "  cudaEventRecord(start);\n",
        "\n",
        "\tColoring* col = graphColoring(str);\n",
        "\tcudaDeviceSynchronize();\n",
        "\n",
        "\tcudaEventRecord(stop);\n",
        "  cudaEventSynchronize(stop);\n",
        "\n",
        "\n",
        "\n",
        "\t//Stampo in millisecondi quanto tempo ci ha messo a colorare il grafo.\n",
        "  float milliseconds = 0;\n",
        "  cudaEventElapsedTime(&milliseconds, start, stop);\n",
        "  printf(\"%f ms\\n\", milliseconds);\n",
        "\n",
        "\t//printColoring(col, str, 1);\n",
        " printf(\"Coloratura trovata: \");\n",
        "\tfor(int i = 0; i < str->nodeSize; i++){\n",
        "\t\t\tprintf(\"%d \", col->coloring[i]);\n",
        "\t}\n",
        "\n",
        "\treturn EXIT_SUCCESS;\n",
        "}"
      ],
      "metadata": {
        "id": "T0DDBNg4LJRF",
        "colab": {
          "base_uri": "https://localhost:8080/",
          "height": 35
        },
        "outputId": "fe7601ea-4ef5-4367-bec5-a5760488522f"
      },
      "execution_count": 7,
      "outputs": [
        {
          "output_type": "execute_result",
          "data": {
            "text/plain": [
              "'File written in /content/src/test_SDL.cu'"
            ],
            "application/vnd.google.colaboratory.intrinsic+json": {
              "type": "string"
            }
          },
          "metadata": {},
          "execution_count": 7
        }
      ]
    },
    {
      "cell_type": "code",
      "source": [
        "!nvcc -dc src/test_SDL.cu /content/src/SDL.cu /content/drive/MyDrive/graph/graph.cpp /content/drive/MyDrive/graph/graph_d.cu\n",
        "!nvcc test_SDL.o SDL.o graph.o graph_d.o -o test_SDL\n",
        "!./test_SDL"
      ],
      "metadata": {
        "colab": {
          "base_uri": "https://localhost:8080/"
        },
        "id": "T00l75_XHsMA",
        "outputId": "e318e9c9-14f7-4117-cded-af82d0a528c1"
      },
      "execution_count": 17,
      "outputs": [
        {
          "output_type": "stream",
          "name": "stdout",
          "text": [
            "** Graph (num node: 7, num edges: 9)\n",
            "  node(0)[3]-> 1 2 3 \n",
            "  node(1)[4]-> 0 2 4 5 \n",
            "  node(2)[2]-> 0 1 \n",
            "  node(3)[3]-> 0 5 6 \n",
            "  node(4)[2]-> 1 6 \n",
            "  node(5)[2]-> 1 3 \n",
            "  node(6)[2]-> 3 4 \n",
            "\n",
            "Pesi: 5 2 0 3 6 4 1 \n",
            "Gradi: 3 3 2 3 2 2 2 \n",
            "2.658304 ms\n",
            "Coloratura trovata: 1 2 3 2 1 1 3 "
          ]
        }
      ]
    }
  ]
}