{
  "nbformat": 4,
  "nbformat_minor": 0,
  "metadata": {
    "colab": {
      "provenance": [],
      "gpuType": "T4"
    },
    "kernelspec": {
      "name": "python3",
      "display_name": "Python 3"
    },
    "language_info": {
      "name": "python"
    },
    "accelerator": "GPU"
  },
  "cells": [
    {
      "cell_type": "code",
      "source": [
        "from google.colab import drive\n",
        "drive.mount('/content/drive')"
      ],
      "metadata": {
        "colab": {
          "base_uri": "https://localhost:8080/"
        },
        "id": "hedMSdKV7GM3",
        "outputId": "c6c73b1e-86b6-4a8d-e1f9-3813947c22c9"
      },
      "execution_count": 1,
      "outputs": [
        {
          "output_type": "stream",
          "name": "stdout",
          "text": [
            "Mounted at /content/drive\n"
          ]
        }
      ]
    },
    {
      "cell_type": "code",
      "execution_count": 2,
      "metadata": {
        "colab": {
          "base_uri": "https://localhost:8080/"
        },
        "id": "lAnhCR0CXEKq",
        "outputId": "2b36eecb-9927-4514-ee5d-0db09992ea13"
      },
      "outputs": [
        {
          "output_type": "stream",
          "name": "stdout",
          "text": [
            "Collecting git+https://github.com/andreinechaev/nvcc4jupyter.git\n",
            "  Cloning https://github.com/andreinechaev/nvcc4jupyter.git to /tmp/pip-req-build-dq3dmbe_\n",
            "  Running command git clone --filter=blob:none --quiet https://github.com/andreinechaev/nvcc4jupyter.git /tmp/pip-req-build-dq3dmbe_\n",
            "  Resolved https://github.com/andreinechaev/nvcc4jupyter.git to commit 0a71d56e5dce3ff1f0dd2c47c29367629262f527\n",
            "  Preparing metadata (setup.py) ... \u001b[?25l\u001b[?25hdone\n",
            "Building wheels for collected packages: NVCCPlugin\n",
            "  Building wheel for NVCCPlugin (setup.py) ... \u001b[?25l\u001b[?25hdone\n",
            "  Created wheel for NVCCPlugin: filename=NVCCPlugin-0.0.2-py3-none-any.whl size=4294 sha256=cb35b3c88ec2207ed7309794d371131d0dfbdaa187f441e34fdf522a0330b4c0\n",
            "  Stored in directory: /tmp/pip-ephem-wheel-cache-_xq_dj39/wheels/a8/b9/18/23f8ef71ceb0f63297dd1903aedd067e6243a68ea756d6feea\n",
            "Successfully built NVCCPlugin\n",
            "Installing collected packages: NVCCPlugin\n",
            "Successfully installed NVCCPlugin-0.0.2\n",
            "created output directory at /content/src\n",
            "Out bin /content/result.out\n"
          ]
        }
      ],
      "source": [
        "!pip install git+https://github.com/andreinechaev/nvcc4jupyter.git\n",
        "%load_ext nvcc_plugin"
      ]
    },
    {
      "cell_type": "code",
      "source": [
        "%%cuda --name MIS.cu\n",
        "\n",
        "#include \"/content/drive/MyDrive/graphcoloring/graph/coloring.h\"\n",
        "#include \"/content/drive/MyDrive/graphcoloring/graph/graph.h\"\n",
        "#include \"/content/drive/MyDrive/graphcoloring/graph/graph_d.h\"\n",
        "#include \"/content/drive/MyDrive/graphcoloring/utils/common.h\"\n",
        "\n",
        "#define THREADxBLOCK 128\n",
        "\n",
        "using namespace std;\n",
        "\n",
        "__device__ bool result = true;\n",
        "\n",
        "__global__ void colorer(Coloring * col, GraphStruct *str){\n",
        "\tint n = str->nodeSize;\n",
        "\n",
        "\tfor (int i = threadIdx.x+blockIdx.x*blockDim.x; i < n; i += blockDim.x*gridDim.x) {\n",
        "\t\tbool flag = true; // vera sse il nodo ha peso locale massimo\n",
        "\n",
        "\t\t// ignora i nodi già colorati\n",
        "\t\tif ((col->coloring[i] != -1)) continue;\n",
        "\n",
        "\t\tint iWeight = str->weights[i];\n",
        "\n",
        "\t\t// guarda i pesi del vicinato\n",
        "\t\tuint offset = str->cumDegs[i];\n",
        "\t\tuint deg = str->cumDegs[i + 1] - str->cumDegs[i];\n",
        "\n",
        "\t\tfor (uint j = 0; j < deg; j++) {\n",
        "\t\t\tuint neighID = str->neighs[offset + j];\n",
        "\t\t\t// ignora i vicini già colorati (e te stesso)\n",
        "\t\t\tint jColor = col->coloring[neighID];\n",
        "\t\t\tif (((jColor != -1) && (jColor != col->numOfColors)) || jColor == -2 || (i == neighID)) continue;\n",
        "\t\t\tint jWeight = str->weights[neighID];\n",
        "\t\t\tif (iWeight <= jWeight) flag = false;\n",
        "\t\t}\n",
        "\t\t// colora solo se sei il nodo di peso massimo\n",
        "\t\tif (flag){\n",
        "\t\t\tcol->coloring[i] = col->numOfColors;\n",
        "\t\t\tfor (uint j = 0; j < deg; j++) {\n",
        "\t\t\t\tuint neighID = str->neighs[offset + j];\n",
        "\t\t\t\tif(col->coloring[neighID] == -1) col->coloring[neighID] = -2;\n",
        "\t\t\t}\n",
        "\t\t}\n",
        "\t}\n",
        "}\n",
        "\n",
        "void FYshuffle(int * weights, uint n){\n",
        "\tfor(int i = 0; i < n; i++){\n",
        "\t\tint swapIdx = (rand() % (n - i)) + i;\n",
        "\t\tint tmp = weights[i];\n",
        "\t\tweights[i] = weights[swapIdx];\n",
        "\t\tweights[swapIdx] = tmp;\n",
        "\t}\n",
        "}\n",
        "\n",
        "Coloring* graphColoring(GraphStruct *str){\n",
        "\tint n = str->nodeSize;\n",
        "\tColoring* col;\n",
        "\tCHECK(cudaMallocManaged(&col, sizeof(Coloring)));\n",
        "\tcol->uncoloredNodes = true;\n",
        "\n",
        "\tCHECK(cudaMallocManaged(&(col->coloring), n * sizeof(int)));\n",
        "\tmemset(col->coloring, -1 ,n * sizeof(int));\n",
        "\t// allocate space on the GPU for the random states\n",
        "\n",
        "\tdim3 threads ( THREADxBLOCK);\n",
        "\tdim3 blocks ((str->nodeSize + threads.x - 1) / threads.x, 1, 1 );\n",
        "\n",
        "\tfor (int i = 0; i < n; i++){\n",
        "\t\t\t\tstr->weights[i] = i;\n",
        "\t\t}\n",
        "\n",
        "\tFYshuffle(str->weights, n);\n",
        "\n",
        "\tfor (int i = 0; i < n; i++){\n",
        "\t\t\t\tprintf(\"%d \", str->weights[i]);\n",
        "\t\t}\n",
        "\tprintf(\"\\n\");\n",
        "\n",
        "\t//print_d <<< 1, 1 >>> (str, true);\n",
        "\n",
        "\tbool flag=true;\n",
        "\twhile(col->numOfColors<n){\n",
        "\t\twhile(flag){\n",
        "\t\t\tcolorer<<<blocks, threads>>>(col, str);\n",
        "\t\t\tcudaDeviceSynchronize();\n",
        "\t\t\tflag=false;\n",
        "\t\t\tfor(int i=0; i<n; i++){\n",
        "\t\t\t\tif(col->coloring[i]==-1){\n",
        "\t\t\t\t\t\tflag=true;\n",
        "\t\t\t\t}\n",
        "\t\t\t}\n",
        "\t\t}\n",
        "\t\tflag=false;\n",
        "\t\tfor(int i=0; i<n; i++){\n",
        "\t\t\tif(col->coloring[i]==-2){\n",
        "\t\t\t\t\tflag=true;\n",
        "\t\t\t\t\tcol->coloring[i]=-1;\n",
        "\t\t\t}\n",
        "\t\t}\n",
        "\t\tif(!flag) break;\n",
        "\t\tcol->numOfColors++;\n",
        "\t}\n",
        "\n",
        "\treturn col;\n",
        "}"
      ],
      "metadata": {
        "colab": {
          "base_uri": "https://localhost:8080/",
          "height": 35
        },
        "id": "xbJJmT-0n73m",
        "outputId": "b4c03fba-590c-4215-ac19-ce8433a59cb9"
      },
      "execution_count": 57,
      "outputs": [
        {
          "output_type": "execute_result",
          "data": {
            "text/plain": [
              "'File written in /content/src/MIS.cu'"
            ],
            "application/vnd.google.colaboratory.intrinsic+json": {
              "type": "string"
            }
          },
          "metadata": {},
          "execution_count": 57
        }
      ]
    },
    {
      "cell_type": "code",
      "source": [
        "%%cuda --name test_MIS.cu\n",
        "\n",
        "#include \"/content/drive/MyDrive/graphcoloring/graph/coloring.h\"\n",
        "\n",
        "using namespace std;\n",
        "\n",
        "int main(void) {\n",
        "\tunsigned int n = 100;\t\t // number of nodes for random graphs\n",
        "\tfloat prob = 0.5;\t\t\t\t    // density (percentage) for random graphs\n",
        "\tstd::default_random_engine eng{0};  // fixed seed\n",
        "\n",
        "  srand(time(0));\n",
        "  cudaEvent_t start, stop;\n",
        "  cudaEventCreate(&start);\n",
        "  cudaEventCreate(&stop);\n",
        "\n",
        "\t// new graph with n nodes\n",
        "\tGraph graph(n,1);\n",
        "\n",
        "\t// generate a random graph\n",
        "\tgraph.randGraph(prob,eng);\n",
        "\n",
        "\t// get the graph struct\n",
        "\tGraphStruct *str = graph.getStruct();\n",
        "\n",
        "  cudaEventRecord(start);\n",
        "\n",
        "\tColoring* col = graphColoring(str);\n",
        "\tcudaDeviceSynchronize();\n",
        "\n",
        "  cudaEventRecord(stop);\n",
        "  cudaEventSynchronize(stop);\n",
        "\n",
        "  //Stampo in millisecondi quanto tempo ci ha messo a colorare il grafo.\n",
        "  float milliseconds = 0;\n",
        "  cudaEventElapsedTime(&milliseconds, start, stop);\n",
        "  printf(\"%f ms\\n\", milliseconds);\n",
        "\n",
        "\tprintf(\"Colorazione: \");\n",
        "\tfor(int i = 0; i < n; i++){\n",
        "\t\t\tprintf(\"%d \", col->coloring[i]);\n",
        "\t}\n",
        "\n",
        "\tprintf(\"\\nColore massimo: %d\", col->numOfColors+1);\n",
        "\n",
        "\treturn EXIT_SUCCESS;\n",
        "}"
      ],
      "metadata": {
        "colab": {
          "base_uri": "https://localhost:8080/",
          "height": 35
        },
        "id": "vvR-M-DmoGH2",
        "outputId": "5aec6669-53a9-47d1-bf0f-a7bf62a7543c"
      },
      "execution_count": 63,
      "outputs": [
        {
          "output_type": "execute_result",
          "data": {
            "text/plain": [
              "'File written in /content/src/test_MIS.cu'"
            ],
            "application/vnd.google.colaboratory.intrinsic+json": {
              "type": "string"
            }
          },
          "metadata": {},
          "execution_count": 63
        }
      ]
    },
    {
      "cell_type": "code",
      "source": [
        "!nvcc -dc -D__CDPRT_SUPPRESS_SYNC_DEPRECATION_WARNING src/test_MIS.cu /content/src/MIS.cu /content/drive/MyDrive/graphcoloring/graph/graph.cpp /content/drive/MyDrive/graphcoloring/graph/graph_d.cu\n",
        "!nvcc test_MIS.o MIS.o graph.o graph_d.o -o test_MIS\n",
        "!./test_MIS"
      ],
      "metadata": {
        "id": "BazQL-zlwDEj",
        "colab": {
          "base_uri": "https://localhost:8080/"
        },
        "outputId": "0c0e8a7e-8d25-4e94-835a-4bea02c3b70e"
      },
      "execution_count": 65,
      "outputs": [
        {
          "output_type": "stream",
          "name": "stdout",
          "text": [
            "62 17 3 57 94 33 41 21 39 95 63 92 45 77 80 59 79 91 56 6 46 29 96 32 24 65 98 15 71 89 90 75 52 0 70 11 88 85 51 48 28 18 72 40 83 16 66 74 68 14 31 84 61 22 50 58 10 47 93 60 97 20 37 25 78 9 64 34 8 5 19 76 86 73 38 43 35 49 23 81 42 99 13 7 55 69 53 30 27 36 26 67 87 44 82 2 4 1 54 12 \n",
            "9.547424 ms\n",
            "Colorazione: 6 5 20 0 0 14 10 17 7 3 8 3 13 7 1 12 3 4 9 18 9 16 2 8 14 0 1 12 0 2 0 6 11 5 0 10 3 2 12 13 2 13 1 2 6 16 8 7 1 2 14 5 10 17 5 10 12 9 1 11 2 8 11 7 7 5 9 12 17 18 14 6 1 8 4 11 6 4 13 4 4 0 15 19 1 5 6 15 9 1 11 7 4 10 5 21 19 12 5 18 \n",
            "Colore massimo: 22"
          ]
        }
      ]
    },
    {
      "cell_type": "code",
      "source": [
        "!nvprof ./test_MIS"
      ],
      "metadata": {
        "colab": {
          "base_uri": "https://localhost:8080/"
        },
        "id": "NcQcSb_ASZc5",
        "outputId": "5b4b61ff-6754-4cf4-c296-16bc8a8e2587"
      },
      "execution_count": 66,
      "outputs": [
        {
          "output_type": "stream",
          "name": "stdout",
          "text": [
            "==26133== NVPROF is profiling process 26133, command: ./test_MIS\n",
            "62 17 3 57 94 33 41 21 39 95 63 92 45 77 80 59 79 91 56 6 46 29 96 32 24 65 98 15 71 89 90 75 52 0 70 11 88 85 51 48 28 18 72 40 83 16 66 74 68 14 31 84 61 22 50 58 10 47 93 60 97 20 37 25 78 9 64 34 8 5 19 76 86 73 38 43 35 49 23 81 42 99 13 7 55 69 53 30 27 36 26 67 87 44 82 2 4 1 54 12 \n",
            "11.234816 ms\n",
            "Colorazione: 6 5 20 0 0 14 10 17 7 3 8 3 13 7 1 12 3 4 9 18 9 16 2 8 14 0 1 12 0 2 0 6 11 5 0 10 3 2 12 13 2 13 1 2 6 16 8 7 1 2 14 5 10 17 5 10 12 9 1 11 2 8 11 7 7 5 9 12 17 18 14 6 1 8 4 11 6 4 13 4 4 0 15 19 1 5 6 15 9 1 11 7 4 10 5 21 19 12 5 18 \n",
            "Colore massimo: 22==26133== Profiling application: ./test_MIS\n",
            "==26133== Profiling result:\n",
            "            Type  Time(%)      Time     Calls       Avg       Min       Max  Name\n",
            " GPU activities:   94.15%  6.1638ms        56  110.07us  24.192us  599.45us  colorer(Coloring*, GraphStruct*)\n",
            "                    5.85%  383.13us         1  383.13us  383.13us  383.13us  [CUDA memset]\n",
            "      API calls:   81.03%  122.49ms         2  61.243ms  1.3880us  122.48ms  cudaEventCreate\n",
            "                   13.73%  20.751ms         6  3.4584ms  4.6490us  20.587ms  cudaMallocManaged\n",
            "                    4.42%  6.6736ms        57  117.08us  1.3050us  756.27us  cudaDeviceSynchronize\n",
            "                    0.41%  626.98us        56  11.196us  3.7140us  33.548us  cudaLaunchKernel\n",
            "                    0.29%  440.14us         1  440.14us  440.14us  440.14us  cudaMemset\n",
            "                    0.07%  112.20us       101  1.1100us     135ns  47.328us  cuDeviceGetAttribute\n",
            "                    0.02%  23.790us         1  23.790us  23.790us  23.790us  cuDeviceGetName\n",
            "                    0.01%  21.470us         2  10.735us  5.2480us  16.222us  cudaEventRecord\n",
            "                    0.00%  5.6990us         1  5.6990us  5.6990us  5.6990us  cuDeviceGetPCIBusId\n",
            "                    0.00%  4.7260us         1  4.7260us  4.7260us  4.7260us  cudaEventSynchronize\n",
            "                    0.00%  2.5750us         1  2.5750us  2.5750us  2.5750us  cudaEventElapsedTime\n",
            "                    0.00%  2.3330us         3     777ns     225ns  1.8150us  cuDeviceGetCount\n",
            "                    0.00%     877ns         2     438ns     153ns     724ns  cuDeviceGet\n",
            "                    0.00%     526ns         1     526ns     526ns     526ns  cuModuleGetLoadingMode\n",
            "                    0.00%     477ns         1     477ns     477ns     477ns  cuDeviceTotalMem\n",
            "                    0.00%     226ns         1     226ns     226ns     226ns  cuDeviceGetUuid\n",
            "\n",
            "==26133== Unified Memory profiling result:\n",
            "Device \"Tesla T4 (0)\"\n",
            "   Count  Avg Size  Min Size  Max Size  Total Size  Total Time  Name\n",
            "      35  8.9141KB  4.0000KB  60.000KB  312.0000KB  110.9750us  Host To Device\n",
            "      33  8.8477KB  4.0000KB  60.000KB  292.0000KB  73.60000us  Device To Host\n",
            "     299         -         -         -           -  4.882425ms  Gpu page fault groups\n",
            "       7         -         -         -           -  3.063608ms  Page throttles\n",
            "      24  4.0000KB  4.0000KB  4.0000KB  96.00000KB           -  Memory thrashes\n",
            "       1  4.0000KB  4.0000KB  4.0000KB  4.000000KB           -  Remote mapping from device\n",
            "Total CPU Page faults: 30\n",
            "Total CPU thrashes: 24\n",
            "Total CPU throttles: 4\n",
            "Total remote mappings to CPU: 1\n"
          ]
        }
      ]
    }
  ]
}